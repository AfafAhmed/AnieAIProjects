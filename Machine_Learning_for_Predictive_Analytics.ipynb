{
  "nbformat": 4,
  "nbformat_minor": 0,
  "metadata": {
    "colab": {
      "name": "Machine_Learning_for_Predictive_Analytics.ipynb",
      "provenance": [],
      "collapsed_sections": [],
      "authorship_tag": "ABX9TyOksrB2aD3ANYHyno/RJMtD",
      "include_colab_link": true
    },
    "kernelspec": {
      "name": "python3",
      "display_name": "Python 3"
    },
    "language_info": {
      "name": "python"
    }
  },
  "cells": [
    {
      "cell_type": "markdown",
      "metadata": {
        "id": "view-in-github",
        "colab_type": "text"
      },
      "source": [
        "<a href=\"https://colab.research.google.com/github/AfafAhmed/AnieAIProjects/blob/main/Machine_Learning_for_Predictive_Analytics.ipynb\" target=\"_parent\"><img src=\"https://colab.research.google.com/assets/colab-badge.svg\" alt=\"Open In Colab\"/></a>"
      ]
    },
    {
      "cell_type": "code",
      "metadata": {
        "id": "0-ZpCuT00-wN"
      },
      "source": [
        "import numpy as np\n",
        "import pandas as pd \n",
        "import seaborn as sns\n",
        "import matplotlib.pyplot as plt\n",
        "import os\n",
        "\n",
        "from scipy.stats import shapiro\n",
        "import scipy.stats as stats\n",
        "\n",
        "pd.pandas.set_option('display.max_columns',None)\n",
        "\n",
        "#parameter settings\n",
        "from IPython.core.interactiveshell import InteractiveShell\n",
        "InteractiveShell.ast_node_interactivity = \"all\"\n",
        "import warnings\n",
        "warnings.filterwarnings(\"ignore\")\n",
        "warnings.simplefilter(action='ignore', category=FutureWarning)"
      ],
      "execution_count": null,
      "outputs": []
    },
    {
      "cell_type": "code",
      "metadata": {
        "colab": {
          "resources": {
            "http://localhost:8080/nbextensions/google.colab/files.js": {
              "data": "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",
              "ok": true,
              "headers": [
                [
                  "content-type",
                  "application/javascript"
                ]
              ],
              "status": 200,
              "status_text": ""
            }
          },
          "base_uri": "https://localhost:8080/",
          "height": 73
        },
        "id": "9OEHlNeu3Bz4",
        "outputId": "29ba41de-9b80-42eb-d09e-c005495a54b6"
      },
      "source": [
        "from google.colab import files\n",
        "uploaded = files.upload()"
      ],
      "execution_count": null,
      "outputs": [
        {
          "output_type": "display_data",
          "data": {
            "text/html": [
              "\n",
              "     <input type=\"file\" id=\"files-fc9aadc1-223a-4360-b9e8-e7cf97820591\" name=\"files[]\" multiple disabled\n",
              "        style=\"border:none\" />\n",
              "     <output id=\"result-fc9aadc1-223a-4360-b9e8-e7cf97820591\">\n",
              "      Upload widget is only available when the cell has been executed in the\n",
              "      current browser session. Please rerun this cell to enable.\n",
              "      </output>\n",
              "      <script src=\"/nbextensions/google.colab/files.js\"></script> "
            ],
            "text/plain": [
              "<IPython.core.display.HTML object>"
            ]
          },
          "metadata": {}
        },
        {
          "output_type": "stream",
          "name": "stdout",
          "text": [
            "Saving Telecom Data.csv to Telecom Data.csv\n"
          ]
        }
      ]
    },
    {
      "cell_type": "code",
      "metadata": {
        "colab": {
          "base_uri": "https://localhost:8080/",
          "height": 223
        },
        "id": "vaDR2Uhi39yi",
        "outputId": "11851c57-0ea7-4462-8cf3-c3bb27a69bd8"
      },
      "source": [
        "import io\n",
        "telecom_cust = pd.read_csv(io.BytesIO(uploaded['Telecom Data.csv']))\n",
        "telecom_cust.head(5)"
      ],
      "execution_count": null,
      "outputs": [
        {
          "output_type": "execute_result",
          "data": {
            "text/html": [
              "<div>\n",
              "<style scoped>\n",
              "    .dataframe tbody tr th:only-of-type {\n",
              "        vertical-align: middle;\n",
              "    }\n",
              "\n",
              "    .dataframe tbody tr th {\n",
              "        vertical-align: top;\n",
              "    }\n",
              "\n",
              "    .dataframe thead th {\n",
              "        text-align: right;\n",
              "    }\n",
              "</style>\n",
              "<table border=\"1\" class=\"dataframe\">\n",
              "  <thead>\n",
              "    <tr style=\"text-align: right;\">\n",
              "      <th></th>\n",
              "      <th>CustomerID</th>\n",
              "      <th>Churn</th>\n",
              "      <th>MonthlyRevenue</th>\n",
              "      <th>MonthlyMinutes</th>\n",
              "      <th>TotalRecurringCharge</th>\n",
              "      <th>DirectorAssistedCalls</th>\n",
              "      <th>OverageMinutes</th>\n",
              "      <th>RoamingCalls</th>\n",
              "      <th>PercChangeMinutes</th>\n",
              "      <th>PercChangeRevenues</th>\n",
              "      <th>DroppedCalls</th>\n",
              "      <th>BlockedCalls</th>\n",
              "      <th>UnansweredCalls</th>\n",
              "      <th>CustomerCareCalls</th>\n",
              "      <th>ThreewayCalls</th>\n",
              "      <th>ReceivedCalls</th>\n",
              "      <th>OutboundCalls</th>\n",
              "      <th>InboundCalls</th>\n",
              "      <th>PeakCallsInOut</th>\n",
              "      <th>OffPeakCallsInOut</th>\n",
              "      <th>DroppedBlockedCalls</th>\n",
              "      <th>CallForwardingCalls</th>\n",
              "      <th>CallWaitingCalls</th>\n",
              "      <th>MonthsInService</th>\n",
              "      <th>UniqueSubs</th>\n",
              "      <th>ActiveSubs</th>\n",
              "      <th>ServiceArea</th>\n",
              "      <th>Handsets</th>\n",
              "      <th>HandsetModels</th>\n",
              "      <th>CurrentEquipmentDays</th>\n",
              "      <th>AgeHH1</th>\n",
              "      <th>AgeHH2</th>\n",
              "      <th>ChildrenInHH</th>\n",
              "      <th>HandsetRefurbished</th>\n",
              "      <th>HandsetWebCapable</th>\n",
              "      <th>TruckOwner</th>\n",
              "      <th>RVOwner</th>\n",
              "      <th>Homeownership</th>\n",
              "      <th>BuysViaMailOrder</th>\n",
              "      <th>RespondsToMailOffers</th>\n",
              "      <th>OptOutMailings</th>\n",
              "      <th>NonUSTravel</th>\n",
              "      <th>OwnsComputer</th>\n",
              "      <th>HasCreditCard</th>\n",
              "      <th>RetentionCalls</th>\n",
              "      <th>RetentionOffersAccepted</th>\n",
              "      <th>NewCellphoneUser</th>\n",
              "      <th>NotNewCellphoneUser</th>\n",
              "      <th>ReferralsMadeBySubscriber</th>\n",
              "      <th>IncomeGroup</th>\n",
              "      <th>OwnsMotorcycle</th>\n",
              "      <th>AdjustmentsToCreditRating</th>\n",
              "      <th>HandsetPrice</th>\n",
              "      <th>MadeCallToRetentionTeam</th>\n",
              "      <th>CreditRating</th>\n",
              "      <th>PrizmCode</th>\n",
              "      <th>Occupation</th>\n",
              "      <th>MaritalStatus</th>\n",
              "    </tr>\n",
              "  </thead>\n",
              "  <tbody>\n",
              "    <tr>\n",
              "      <th>0</th>\n",
              "      <td>3000002</td>\n",
              "      <td>Yes</td>\n",
              "      <td>24.00</td>\n",
              "      <td>219.0</td>\n",
              "      <td>22.0</td>\n",
              "      <td>0.25</td>\n",
              "      <td>0.0</td>\n",
              "      <td>0.0</td>\n",
              "      <td>-157.0</td>\n",
              "      <td>-19.0</td>\n",
              "      <td>0.7</td>\n",
              "      <td>0.7</td>\n",
              "      <td>6.3</td>\n",
              "      <td>0.0</td>\n",
              "      <td>0.0</td>\n",
              "      <td>97.2</td>\n",
              "      <td>0.0</td>\n",
              "      <td>0.0</td>\n",
              "      <td>58.0</td>\n",
              "      <td>24.0</td>\n",
              "      <td>1.3</td>\n",
              "      <td>0.0</td>\n",
              "      <td>0.3</td>\n",
              "      <td>61</td>\n",
              "      <td>2</td>\n",
              "      <td>1</td>\n",
              "      <td>SEAPOR503</td>\n",
              "      <td>2.0</td>\n",
              "      <td>2.0</td>\n",
              "      <td>361.0</td>\n",
              "      <td>62.0</td>\n",
              "      <td>0.0</td>\n",
              "      <td>No</td>\n",
              "      <td>No</td>\n",
              "      <td>Yes</td>\n",
              "      <td>No</td>\n",
              "      <td>No</td>\n",
              "      <td>Known</td>\n",
              "      <td>Yes</td>\n",
              "      <td>Yes</td>\n",
              "      <td>No</td>\n",
              "      <td>No</td>\n",
              "      <td>Yes</td>\n",
              "      <td>Yes</td>\n",
              "      <td>1</td>\n",
              "      <td>0</td>\n",
              "      <td>No</td>\n",
              "      <td>No</td>\n",
              "      <td>0</td>\n",
              "      <td>4</td>\n",
              "      <td>No</td>\n",
              "      <td>0</td>\n",
              "      <td>30</td>\n",
              "      <td>Yes</td>\n",
              "      <td>1-Highest</td>\n",
              "      <td>Suburban</td>\n",
              "      <td>Professional</td>\n",
              "      <td>No</td>\n",
              "    </tr>\n",
              "    <tr>\n",
              "      <th>1</th>\n",
              "      <td>3000010</td>\n",
              "      <td>Yes</td>\n",
              "      <td>16.99</td>\n",
              "      <td>10.0</td>\n",
              "      <td>17.0</td>\n",
              "      <td>0.00</td>\n",
              "      <td>0.0</td>\n",
              "      <td>0.0</td>\n",
              "      <td>-4.0</td>\n",
              "      <td>0.0</td>\n",
              "      <td>0.3</td>\n",
              "      <td>0.0</td>\n",
              "      <td>2.7</td>\n",
              "      <td>0.0</td>\n",
              "      <td>0.0</td>\n",
              "      <td>0.0</td>\n",
              "      <td>0.0</td>\n",
              "      <td>0.0</td>\n",
              "      <td>5.0</td>\n",
              "      <td>1.0</td>\n",
              "      <td>0.3</td>\n",
              "      <td>0.0</td>\n",
              "      <td>0.0</td>\n",
              "      <td>58</td>\n",
              "      <td>1</td>\n",
              "      <td>1</td>\n",
              "      <td>PITHOM412</td>\n",
              "      <td>2.0</td>\n",
              "      <td>1.0</td>\n",
              "      <td>1504.0</td>\n",
              "      <td>40.0</td>\n",
              "      <td>42.0</td>\n",
              "      <td>Yes</td>\n",
              "      <td>No</td>\n",
              "      <td>No</td>\n",
              "      <td>No</td>\n",
              "      <td>No</td>\n",
              "      <td>Known</td>\n",
              "      <td>Yes</td>\n",
              "      <td>Yes</td>\n",
              "      <td>No</td>\n",
              "      <td>No</td>\n",
              "      <td>Yes</td>\n",
              "      <td>Yes</td>\n",
              "      <td>0</td>\n",
              "      <td>0</td>\n",
              "      <td>Yes</td>\n",
              "      <td>No</td>\n",
              "      <td>0</td>\n",
              "      <td>5</td>\n",
              "      <td>No</td>\n",
              "      <td>0</td>\n",
              "      <td>30</td>\n",
              "      <td>No</td>\n",
              "      <td>4-Medium</td>\n",
              "      <td>Suburban</td>\n",
              "      <td>Professional</td>\n",
              "      <td>Yes</td>\n",
              "    </tr>\n",
              "    <tr>\n",
              "      <th>2</th>\n",
              "      <td>3000014</td>\n",
              "      <td>No</td>\n",
              "      <td>38.00</td>\n",
              "      <td>8.0</td>\n",
              "      <td>38.0</td>\n",
              "      <td>0.00</td>\n",
              "      <td>0.0</td>\n",
              "      <td>0.0</td>\n",
              "      <td>-2.0</td>\n",
              "      <td>0.0</td>\n",
              "      <td>0.0</td>\n",
              "      <td>0.0</td>\n",
              "      <td>0.0</td>\n",
              "      <td>0.0</td>\n",
              "      <td>0.0</td>\n",
              "      <td>0.4</td>\n",
              "      <td>0.3</td>\n",
              "      <td>0.0</td>\n",
              "      <td>1.3</td>\n",
              "      <td>3.7</td>\n",
              "      <td>0.0</td>\n",
              "      <td>0.0</td>\n",
              "      <td>0.0</td>\n",
              "      <td>60</td>\n",
              "      <td>1</td>\n",
              "      <td>1</td>\n",
              "      <td>MILMIL414</td>\n",
              "      <td>1.0</td>\n",
              "      <td>1.0</td>\n",
              "      <td>1812.0</td>\n",
              "      <td>26.0</td>\n",
              "      <td>26.0</td>\n",
              "      <td>Yes</td>\n",
              "      <td>No</td>\n",
              "      <td>No</td>\n",
              "      <td>No</td>\n",
              "      <td>No</td>\n",
              "      <td>Unknown</td>\n",
              "      <td>No</td>\n",
              "      <td>No</td>\n",
              "      <td>No</td>\n",
              "      <td>No</td>\n",
              "      <td>No</td>\n",
              "      <td>Yes</td>\n",
              "      <td>0</td>\n",
              "      <td>0</td>\n",
              "      <td>Yes</td>\n",
              "      <td>No</td>\n",
              "      <td>0</td>\n",
              "      <td>6</td>\n",
              "      <td>No</td>\n",
              "      <td>0</td>\n",
              "      <td>Unknown</td>\n",
              "      <td>No</td>\n",
              "      <td>3-Good</td>\n",
              "      <td>Town</td>\n",
              "      <td>Crafts</td>\n",
              "      <td>Yes</td>\n",
              "    </tr>\n",
              "    <tr>\n",
              "      <th>3</th>\n",
              "      <td>3000022</td>\n",
              "      <td>No</td>\n",
              "      <td>82.28</td>\n",
              "      <td>1312.0</td>\n",
              "      <td>75.0</td>\n",
              "      <td>1.24</td>\n",
              "      <td>0.0</td>\n",
              "      <td>0.0</td>\n",
              "      <td>157.0</td>\n",
              "      <td>8.1</td>\n",
              "      <td>52.0</td>\n",
              "      <td>7.7</td>\n",
              "      <td>76.0</td>\n",
              "      <td>4.3</td>\n",
              "      <td>1.3</td>\n",
              "      <td>200.3</td>\n",
              "      <td>370.3</td>\n",
              "      <td>147.0</td>\n",
              "      <td>555.7</td>\n",
              "      <td>303.7</td>\n",
              "      <td>59.7</td>\n",
              "      <td>0.0</td>\n",
              "      <td>22.7</td>\n",
              "      <td>59</td>\n",
              "      <td>2</td>\n",
              "      <td>2</td>\n",
              "      <td>PITHOM412</td>\n",
              "      <td>9.0</td>\n",
              "      <td>4.0</td>\n",
              "      <td>458.0</td>\n",
              "      <td>30.0</td>\n",
              "      <td>0.0</td>\n",
              "      <td>No</td>\n",
              "      <td>No</td>\n",
              "      <td>Yes</td>\n",
              "      <td>No</td>\n",
              "      <td>No</td>\n",
              "      <td>Known</td>\n",
              "      <td>Yes</td>\n",
              "      <td>Yes</td>\n",
              "      <td>No</td>\n",
              "      <td>No</td>\n",
              "      <td>No</td>\n",
              "      <td>Yes</td>\n",
              "      <td>0</td>\n",
              "      <td>0</td>\n",
              "      <td>Yes</td>\n",
              "      <td>No</td>\n",
              "      <td>0</td>\n",
              "      <td>6</td>\n",
              "      <td>No</td>\n",
              "      <td>0</td>\n",
              "      <td>10</td>\n",
              "      <td>No</td>\n",
              "      <td>4-Medium</td>\n",
              "      <td>Other</td>\n",
              "      <td>Other</td>\n",
              "      <td>No</td>\n",
              "    </tr>\n",
              "    <tr>\n",
              "      <th>4</th>\n",
              "      <td>3000026</td>\n",
              "      <td>Yes</td>\n",
              "      <td>17.14</td>\n",
              "      <td>0.0</td>\n",
              "      <td>17.0</td>\n",
              "      <td>0.00</td>\n",
              "      <td>0.0</td>\n",
              "      <td>0.0</td>\n",
              "      <td>0.0</td>\n",
              "      <td>-0.2</td>\n",
              "      <td>0.0</td>\n",
              "      <td>0.0</td>\n",
              "      <td>0.0</td>\n",
              "      <td>0.0</td>\n",
              "      <td>0.0</td>\n",
              "      <td>0.0</td>\n",
              "      <td>0.0</td>\n",
              "      <td>0.0</td>\n",
              "      <td>0.0</td>\n",
              "      <td>0.0</td>\n",
              "      <td>0.0</td>\n",
              "      <td>0.0</td>\n",
              "      <td>0.0</td>\n",
              "      <td>53</td>\n",
              "      <td>2</td>\n",
              "      <td>2</td>\n",
              "      <td>OKCTUL918</td>\n",
              "      <td>4.0</td>\n",
              "      <td>3.0</td>\n",
              "      <td>852.0</td>\n",
              "      <td>46.0</td>\n",
              "      <td>54.0</td>\n",
              "      <td>No</td>\n",
              "      <td>No</td>\n",
              "      <td>No</td>\n",
              "      <td>No</td>\n",
              "      <td>No</td>\n",
              "      <td>Known</td>\n",
              "      <td>Yes</td>\n",
              "      <td>Yes</td>\n",
              "      <td>No</td>\n",
              "      <td>No</td>\n",
              "      <td>Yes</td>\n",
              "      <td>Yes</td>\n",
              "      <td>0</td>\n",
              "      <td>0</td>\n",
              "      <td>No</td>\n",
              "      <td>Yes</td>\n",
              "      <td>0</td>\n",
              "      <td>9</td>\n",
              "      <td>No</td>\n",
              "      <td>1</td>\n",
              "      <td>10</td>\n",
              "      <td>No</td>\n",
              "      <td>1-Highest</td>\n",
              "      <td>Other</td>\n",
              "      <td>Professional</td>\n",
              "      <td>Yes</td>\n",
              "    </tr>\n",
              "  </tbody>\n",
              "</table>\n",
              "</div>"
            ],
            "text/plain": [
              "   CustomerID Churn  MonthlyRevenue  MonthlyMinutes  TotalRecurringCharge  \\\n",
              "0     3000002   Yes           24.00           219.0                  22.0   \n",
              "1     3000010   Yes           16.99            10.0                  17.0   \n",
              "2     3000014    No           38.00             8.0                  38.0   \n",
              "3     3000022    No           82.28          1312.0                  75.0   \n",
              "4     3000026   Yes           17.14             0.0                  17.0   \n",
              "\n",
              "   DirectorAssistedCalls  OverageMinutes  RoamingCalls  PercChangeMinutes  \\\n",
              "0                   0.25             0.0           0.0             -157.0   \n",
              "1                   0.00             0.0           0.0               -4.0   \n",
              "2                   0.00             0.0           0.0               -2.0   \n",
              "3                   1.24             0.0           0.0              157.0   \n",
              "4                   0.00             0.0           0.0                0.0   \n",
              "\n",
              "   PercChangeRevenues  DroppedCalls  BlockedCalls  UnansweredCalls  \\\n",
              "0               -19.0           0.7           0.7              6.3   \n",
              "1                 0.0           0.3           0.0              2.7   \n",
              "2                 0.0           0.0           0.0              0.0   \n",
              "3                 8.1          52.0           7.7             76.0   \n",
              "4                -0.2           0.0           0.0              0.0   \n",
              "\n",
              "   CustomerCareCalls  ThreewayCalls  ReceivedCalls  OutboundCalls  \\\n",
              "0                0.0            0.0           97.2            0.0   \n",
              "1                0.0            0.0            0.0            0.0   \n",
              "2                0.0            0.0            0.4            0.3   \n",
              "3                4.3            1.3          200.3          370.3   \n",
              "4                0.0            0.0            0.0            0.0   \n",
              "\n",
              "   InboundCalls  PeakCallsInOut  OffPeakCallsInOut  DroppedBlockedCalls  \\\n",
              "0           0.0            58.0               24.0                  1.3   \n",
              "1           0.0             5.0                1.0                  0.3   \n",
              "2           0.0             1.3                3.7                  0.0   \n",
              "3         147.0           555.7              303.7                 59.7   \n",
              "4           0.0             0.0                0.0                  0.0   \n",
              "\n",
              "   CallForwardingCalls  CallWaitingCalls  MonthsInService  UniqueSubs  \\\n",
              "0                  0.0               0.3               61           2   \n",
              "1                  0.0               0.0               58           1   \n",
              "2                  0.0               0.0               60           1   \n",
              "3                  0.0              22.7               59           2   \n",
              "4                  0.0               0.0               53           2   \n",
              "\n",
              "   ActiveSubs ServiceArea  Handsets  HandsetModels  CurrentEquipmentDays  \\\n",
              "0           1   SEAPOR503       2.0            2.0                 361.0   \n",
              "1           1   PITHOM412       2.0            1.0                1504.0   \n",
              "2           1   MILMIL414       1.0            1.0                1812.0   \n",
              "3           2   PITHOM412       9.0            4.0                 458.0   \n",
              "4           2   OKCTUL918       4.0            3.0                 852.0   \n",
              "\n",
              "   AgeHH1  AgeHH2 ChildrenInHH HandsetRefurbished HandsetWebCapable  \\\n",
              "0    62.0     0.0           No                 No               Yes   \n",
              "1    40.0    42.0          Yes                 No                No   \n",
              "2    26.0    26.0          Yes                 No                No   \n",
              "3    30.0     0.0           No                 No               Yes   \n",
              "4    46.0    54.0           No                 No                No   \n",
              "\n",
              "  TruckOwner RVOwner Homeownership BuysViaMailOrder RespondsToMailOffers  \\\n",
              "0         No      No         Known              Yes                  Yes   \n",
              "1         No      No         Known              Yes                  Yes   \n",
              "2         No      No       Unknown               No                   No   \n",
              "3         No      No         Known              Yes                  Yes   \n",
              "4         No      No         Known              Yes                  Yes   \n",
              "\n",
              "  OptOutMailings NonUSTravel OwnsComputer HasCreditCard  RetentionCalls  \\\n",
              "0             No          No          Yes           Yes               1   \n",
              "1             No          No          Yes           Yes               0   \n",
              "2             No          No           No           Yes               0   \n",
              "3             No          No           No           Yes               0   \n",
              "4             No          No          Yes           Yes               0   \n",
              "\n",
              "   RetentionOffersAccepted NewCellphoneUser NotNewCellphoneUser  \\\n",
              "0                        0               No                  No   \n",
              "1                        0              Yes                  No   \n",
              "2                        0              Yes                  No   \n",
              "3                        0              Yes                  No   \n",
              "4                        0               No                 Yes   \n",
              "\n",
              "   ReferralsMadeBySubscriber  IncomeGroup OwnsMotorcycle  \\\n",
              "0                          0            4             No   \n",
              "1                          0            5             No   \n",
              "2                          0            6             No   \n",
              "3                          0            6             No   \n",
              "4                          0            9             No   \n",
              "\n",
              "   AdjustmentsToCreditRating HandsetPrice MadeCallToRetentionTeam  \\\n",
              "0                          0           30                     Yes   \n",
              "1                          0           30                      No   \n",
              "2                          0      Unknown                      No   \n",
              "3                          0           10                      No   \n",
              "4                          1           10                      No   \n",
              "\n",
              "  CreditRating PrizmCode    Occupation MaritalStatus  \n",
              "0    1-Highest  Suburban  Professional            No  \n",
              "1     4-Medium  Suburban  Professional           Yes  \n",
              "2       3-Good      Town        Crafts           Yes  \n",
              "3     4-Medium     Other         Other            No  \n",
              "4    1-Highest     Other  Professional           Yes  "
            ]
          },
          "metadata": {},
          "execution_count": 4
        }
      ]
    },
    {
      "cell_type": "code",
      "metadata": {
        "colab": {
          "base_uri": "https://localhost:8080/"
        },
        "id": "ENCIUsy_39th",
        "outputId": "c7a5e176-2895-418e-fd63-7c470b38449a"
      },
      "source": [
        "telecom_cust.shape\n",
        "telecom_cust.dtypes"
      ],
      "execution_count": null,
      "outputs": [
        {
          "output_type": "execute_result",
          "data": {
            "text/plain": [
              "(51047, 58)"
            ]
          },
          "metadata": {},
          "execution_count": 5
        },
        {
          "output_type": "execute_result",
          "data": {
            "text/plain": [
              "CustomerID                     int64\n",
              "Churn                         object\n",
              "MonthlyRevenue               float64\n",
              "MonthlyMinutes               float64\n",
              "TotalRecurringCharge         float64\n",
              "DirectorAssistedCalls        float64\n",
              "OverageMinutes               float64\n",
              "RoamingCalls                 float64\n",
              "PercChangeMinutes            float64\n",
              "PercChangeRevenues           float64\n",
              "DroppedCalls                 float64\n",
              "BlockedCalls                 float64\n",
              "UnansweredCalls              float64\n",
              "CustomerCareCalls            float64\n",
              "ThreewayCalls                float64\n",
              "ReceivedCalls                float64\n",
              "OutboundCalls                float64\n",
              "InboundCalls                 float64\n",
              "PeakCallsInOut               float64\n",
              "OffPeakCallsInOut            float64\n",
              "DroppedBlockedCalls          float64\n",
              "CallForwardingCalls          float64\n",
              "CallWaitingCalls             float64\n",
              "MonthsInService                int64\n",
              "UniqueSubs                     int64\n",
              "ActiveSubs                     int64\n",
              "ServiceArea                   object\n",
              "Handsets                     float64\n",
              "HandsetModels                float64\n",
              "CurrentEquipmentDays         float64\n",
              "AgeHH1                       float64\n",
              "AgeHH2                       float64\n",
              "ChildrenInHH                  object\n",
              "HandsetRefurbished            object\n",
              "HandsetWebCapable             object\n",
              "TruckOwner                    object\n",
              "RVOwner                       object\n",
              "Homeownership                 object\n",
              "BuysViaMailOrder              object\n",
              "RespondsToMailOffers          object\n",
              "OptOutMailings                object\n",
              "NonUSTravel                   object\n",
              "OwnsComputer                  object\n",
              "HasCreditCard                 object\n",
              "RetentionCalls                 int64\n",
              "RetentionOffersAccepted        int64\n",
              "NewCellphoneUser              object\n",
              "NotNewCellphoneUser           object\n",
              "ReferralsMadeBySubscriber      int64\n",
              "IncomeGroup                    int64\n",
              "OwnsMotorcycle                object\n",
              "AdjustmentsToCreditRating      int64\n",
              "HandsetPrice                  object\n",
              "MadeCallToRetentionTeam       object\n",
              "CreditRating                  object\n",
              "PrizmCode                     object\n",
              "Occupation                    object\n",
              "MaritalStatus                 object\n",
              "dtype: object"
            ]
          },
          "metadata": {},
          "execution_count": 5
        }
      ]
    },
    {
      "cell_type": "code",
      "metadata": {
        "colab": {
          "base_uri": "https://localhost:8080/",
          "height": 223
        },
        "id": "E2x5QplH39jY",
        "outputId": "88a600b4-bb19-47b1-a3a4-713d9119e37c"
      },
      "source": [
        "telecom_cust['HandsetPrice']= telecom_cust['HandsetPrice'].replace(\"Unknown\",None)\n",
        "telecom_cust.head()\n",
        "telecom_cust['HandsetPrice']=pd.to_numeric(telecom_cust['HandsetPrice'])"
      ],
      "execution_count": null,
      "outputs": [
        {
          "output_type": "execute_result",
          "data": {
            "text/html": [
              "<div>\n",
              "<style scoped>\n",
              "    .dataframe tbody tr th:only-of-type {\n",
              "        vertical-align: middle;\n",
              "    }\n",
              "\n",
              "    .dataframe tbody tr th {\n",
              "        vertical-align: top;\n",
              "    }\n",
              "\n",
              "    .dataframe thead th {\n",
              "        text-align: right;\n",
              "    }\n",
              "</style>\n",
              "<table border=\"1\" class=\"dataframe\">\n",
              "  <thead>\n",
              "    <tr style=\"text-align: right;\">\n",
              "      <th></th>\n",
              "      <th>CustomerID</th>\n",
              "      <th>Churn</th>\n",
              "      <th>MonthlyRevenue</th>\n",
              "      <th>MonthlyMinutes</th>\n",
              "      <th>TotalRecurringCharge</th>\n",
              "      <th>DirectorAssistedCalls</th>\n",
              "      <th>OverageMinutes</th>\n",
              "      <th>RoamingCalls</th>\n",
              "      <th>PercChangeMinutes</th>\n",
              "      <th>PercChangeRevenues</th>\n",
              "      <th>DroppedCalls</th>\n",
              "      <th>BlockedCalls</th>\n",
              "      <th>UnansweredCalls</th>\n",
              "      <th>CustomerCareCalls</th>\n",
              "      <th>ThreewayCalls</th>\n",
              "      <th>ReceivedCalls</th>\n",
              "      <th>OutboundCalls</th>\n",
              "      <th>InboundCalls</th>\n",
              "      <th>PeakCallsInOut</th>\n",
              "      <th>OffPeakCallsInOut</th>\n",
              "      <th>DroppedBlockedCalls</th>\n",
              "      <th>CallForwardingCalls</th>\n",
              "      <th>CallWaitingCalls</th>\n",
              "      <th>MonthsInService</th>\n",
              "      <th>UniqueSubs</th>\n",
              "      <th>ActiveSubs</th>\n",
              "      <th>ServiceArea</th>\n",
              "      <th>Handsets</th>\n",
              "      <th>HandsetModels</th>\n",
              "      <th>CurrentEquipmentDays</th>\n",
              "      <th>AgeHH1</th>\n",
              "      <th>AgeHH2</th>\n",
              "      <th>ChildrenInHH</th>\n",
              "      <th>HandsetRefurbished</th>\n",
              "      <th>HandsetWebCapable</th>\n",
              "      <th>TruckOwner</th>\n",
              "      <th>RVOwner</th>\n",
              "      <th>Homeownership</th>\n",
              "      <th>BuysViaMailOrder</th>\n",
              "      <th>RespondsToMailOffers</th>\n",
              "      <th>OptOutMailings</th>\n",
              "      <th>NonUSTravel</th>\n",
              "      <th>OwnsComputer</th>\n",
              "      <th>HasCreditCard</th>\n",
              "      <th>RetentionCalls</th>\n",
              "      <th>RetentionOffersAccepted</th>\n",
              "      <th>NewCellphoneUser</th>\n",
              "      <th>NotNewCellphoneUser</th>\n",
              "      <th>ReferralsMadeBySubscriber</th>\n",
              "      <th>IncomeGroup</th>\n",
              "      <th>OwnsMotorcycle</th>\n",
              "      <th>AdjustmentsToCreditRating</th>\n",
              "      <th>HandsetPrice</th>\n",
              "      <th>MadeCallToRetentionTeam</th>\n",
              "      <th>CreditRating</th>\n",
              "      <th>PrizmCode</th>\n",
              "      <th>Occupation</th>\n",
              "      <th>MaritalStatus</th>\n",
              "    </tr>\n",
              "  </thead>\n",
              "  <tbody>\n",
              "    <tr>\n",
              "      <th>0</th>\n",
              "      <td>3000002</td>\n",
              "      <td>Yes</td>\n",
              "      <td>24.00</td>\n",
              "      <td>219.0</td>\n",
              "      <td>22.0</td>\n",
              "      <td>0.25</td>\n",
              "      <td>0.0</td>\n",
              "      <td>0.0</td>\n",
              "      <td>-157.0</td>\n",
              "      <td>-19.0</td>\n",
              "      <td>0.7</td>\n",
              "      <td>0.7</td>\n",
              "      <td>6.3</td>\n",
              "      <td>0.0</td>\n",
              "      <td>0.0</td>\n",
              "      <td>97.2</td>\n",
              "      <td>0.0</td>\n",
              "      <td>0.0</td>\n",
              "      <td>58.0</td>\n",
              "      <td>24.0</td>\n",
              "      <td>1.3</td>\n",
              "      <td>0.0</td>\n",
              "      <td>0.3</td>\n",
              "      <td>61</td>\n",
              "      <td>2</td>\n",
              "      <td>1</td>\n",
              "      <td>SEAPOR503</td>\n",
              "      <td>2.0</td>\n",
              "      <td>2.0</td>\n",
              "      <td>361.0</td>\n",
              "      <td>62.0</td>\n",
              "      <td>0.0</td>\n",
              "      <td>No</td>\n",
              "      <td>No</td>\n",
              "      <td>Yes</td>\n",
              "      <td>No</td>\n",
              "      <td>No</td>\n",
              "      <td>Known</td>\n",
              "      <td>Yes</td>\n",
              "      <td>Yes</td>\n",
              "      <td>No</td>\n",
              "      <td>No</td>\n",
              "      <td>Yes</td>\n",
              "      <td>Yes</td>\n",
              "      <td>1</td>\n",
              "      <td>0</td>\n",
              "      <td>No</td>\n",
              "      <td>No</td>\n",
              "      <td>0</td>\n",
              "      <td>4</td>\n",
              "      <td>No</td>\n",
              "      <td>0</td>\n",
              "      <td>30</td>\n",
              "      <td>Yes</td>\n",
              "      <td>1-Highest</td>\n",
              "      <td>Suburban</td>\n",
              "      <td>Professional</td>\n",
              "      <td>No</td>\n",
              "    </tr>\n",
              "    <tr>\n",
              "      <th>1</th>\n",
              "      <td>3000010</td>\n",
              "      <td>Yes</td>\n",
              "      <td>16.99</td>\n",
              "      <td>10.0</td>\n",
              "      <td>17.0</td>\n",
              "      <td>0.00</td>\n",
              "      <td>0.0</td>\n",
              "      <td>0.0</td>\n",
              "      <td>-4.0</td>\n",
              "      <td>0.0</td>\n",
              "      <td>0.3</td>\n",
              "      <td>0.0</td>\n",
              "      <td>2.7</td>\n",
              "      <td>0.0</td>\n",
              "      <td>0.0</td>\n",
              "      <td>0.0</td>\n",
              "      <td>0.0</td>\n",
              "      <td>0.0</td>\n",
              "      <td>5.0</td>\n",
              "      <td>1.0</td>\n",
              "      <td>0.3</td>\n",
              "      <td>0.0</td>\n",
              "      <td>0.0</td>\n",
              "      <td>58</td>\n",
              "      <td>1</td>\n",
              "      <td>1</td>\n",
              "      <td>PITHOM412</td>\n",
              "      <td>2.0</td>\n",
              "      <td>1.0</td>\n",
              "      <td>1504.0</td>\n",
              "      <td>40.0</td>\n",
              "      <td>42.0</td>\n",
              "      <td>Yes</td>\n",
              "      <td>No</td>\n",
              "      <td>No</td>\n",
              "      <td>No</td>\n",
              "      <td>No</td>\n",
              "      <td>Known</td>\n",
              "      <td>Yes</td>\n",
              "      <td>Yes</td>\n",
              "      <td>No</td>\n",
              "      <td>No</td>\n",
              "      <td>Yes</td>\n",
              "      <td>Yes</td>\n",
              "      <td>0</td>\n",
              "      <td>0</td>\n",
              "      <td>Yes</td>\n",
              "      <td>No</td>\n",
              "      <td>0</td>\n",
              "      <td>5</td>\n",
              "      <td>No</td>\n",
              "      <td>0</td>\n",
              "      <td>30</td>\n",
              "      <td>No</td>\n",
              "      <td>4-Medium</td>\n",
              "      <td>Suburban</td>\n",
              "      <td>Professional</td>\n",
              "      <td>Yes</td>\n",
              "    </tr>\n",
              "    <tr>\n",
              "      <th>2</th>\n",
              "      <td>3000014</td>\n",
              "      <td>No</td>\n",
              "      <td>38.00</td>\n",
              "      <td>8.0</td>\n",
              "      <td>38.0</td>\n",
              "      <td>0.00</td>\n",
              "      <td>0.0</td>\n",
              "      <td>0.0</td>\n",
              "      <td>-2.0</td>\n",
              "      <td>0.0</td>\n",
              "      <td>0.0</td>\n",
              "      <td>0.0</td>\n",
              "      <td>0.0</td>\n",
              "      <td>0.0</td>\n",
              "      <td>0.0</td>\n",
              "      <td>0.4</td>\n",
              "      <td>0.3</td>\n",
              "      <td>0.0</td>\n",
              "      <td>1.3</td>\n",
              "      <td>3.7</td>\n",
              "      <td>0.0</td>\n",
              "      <td>0.0</td>\n",
              "      <td>0.0</td>\n",
              "      <td>60</td>\n",
              "      <td>1</td>\n",
              "      <td>1</td>\n",
              "      <td>MILMIL414</td>\n",
              "      <td>1.0</td>\n",
              "      <td>1.0</td>\n",
              "      <td>1812.0</td>\n",
              "      <td>26.0</td>\n",
              "      <td>26.0</td>\n",
              "      <td>Yes</td>\n",
              "      <td>No</td>\n",
              "      <td>No</td>\n",
              "      <td>No</td>\n",
              "      <td>No</td>\n",
              "      <td>Unknown</td>\n",
              "      <td>No</td>\n",
              "      <td>No</td>\n",
              "      <td>No</td>\n",
              "      <td>No</td>\n",
              "      <td>No</td>\n",
              "      <td>Yes</td>\n",
              "      <td>0</td>\n",
              "      <td>0</td>\n",
              "      <td>Yes</td>\n",
              "      <td>No</td>\n",
              "      <td>0</td>\n",
              "      <td>6</td>\n",
              "      <td>No</td>\n",
              "      <td>0</td>\n",
              "      <td>30</td>\n",
              "      <td>No</td>\n",
              "      <td>3-Good</td>\n",
              "      <td>Town</td>\n",
              "      <td>Crafts</td>\n",
              "      <td>Yes</td>\n",
              "    </tr>\n",
              "    <tr>\n",
              "      <th>3</th>\n",
              "      <td>3000022</td>\n",
              "      <td>No</td>\n",
              "      <td>82.28</td>\n",
              "      <td>1312.0</td>\n",
              "      <td>75.0</td>\n",
              "      <td>1.24</td>\n",
              "      <td>0.0</td>\n",
              "      <td>0.0</td>\n",
              "      <td>157.0</td>\n",
              "      <td>8.1</td>\n",
              "      <td>52.0</td>\n",
              "      <td>7.7</td>\n",
              "      <td>76.0</td>\n",
              "      <td>4.3</td>\n",
              "      <td>1.3</td>\n",
              "      <td>200.3</td>\n",
              "      <td>370.3</td>\n",
              "      <td>147.0</td>\n",
              "      <td>555.7</td>\n",
              "      <td>303.7</td>\n",
              "      <td>59.7</td>\n",
              "      <td>0.0</td>\n",
              "      <td>22.7</td>\n",
              "      <td>59</td>\n",
              "      <td>2</td>\n",
              "      <td>2</td>\n",
              "      <td>PITHOM412</td>\n",
              "      <td>9.0</td>\n",
              "      <td>4.0</td>\n",
              "      <td>458.0</td>\n",
              "      <td>30.0</td>\n",
              "      <td>0.0</td>\n",
              "      <td>No</td>\n",
              "      <td>No</td>\n",
              "      <td>Yes</td>\n",
              "      <td>No</td>\n",
              "      <td>No</td>\n",
              "      <td>Known</td>\n",
              "      <td>Yes</td>\n",
              "      <td>Yes</td>\n",
              "      <td>No</td>\n",
              "      <td>No</td>\n",
              "      <td>No</td>\n",
              "      <td>Yes</td>\n",
              "      <td>0</td>\n",
              "      <td>0</td>\n",
              "      <td>Yes</td>\n",
              "      <td>No</td>\n",
              "      <td>0</td>\n",
              "      <td>6</td>\n",
              "      <td>No</td>\n",
              "      <td>0</td>\n",
              "      <td>10</td>\n",
              "      <td>No</td>\n",
              "      <td>4-Medium</td>\n",
              "      <td>Other</td>\n",
              "      <td>Other</td>\n",
              "      <td>No</td>\n",
              "    </tr>\n",
              "    <tr>\n",
              "      <th>4</th>\n",
              "      <td>3000026</td>\n",
              "      <td>Yes</td>\n",
              "      <td>17.14</td>\n",
              "      <td>0.0</td>\n",
              "      <td>17.0</td>\n",
              "      <td>0.00</td>\n",
              "      <td>0.0</td>\n",
              "      <td>0.0</td>\n",
              "      <td>0.0</td>\n",
              "      <td>-0.2</td>\n",
              "      <td>0.0</td>\n",
              "      <td>0.0</td>\n",
              "      <td>0.0</td>\n",
              "      <td>0.0</td>\n",
              "      <td>0.0</td>\n",
              "      <td>0.0</td>\n",
              "      <td>0.0</td>\n",
              "      <td>0.0</td>\n",
              "      <td>0.0</td>\n",
              "      <td>0.0</td>\n",
              "      <td>0.0</td>\n",
              "      <td>0.0</td>\n",
              "      <td>0.0</td>\n",
              "      <td>53</td>\n",
              "      <td>2</td>\n",
              "      <td>2</td>\n",
              "      <td>OKCTUL918</td>\n",
              "      <td>4.0</td>\n",
              "      <td>3.0</td>\n",
              "      <td>852.0</td>\n",
              "      <td>46.0</td>\n",
              "      <td>54.0</td>\n",
              "      <td>No</td>\n",
              "      <td>No</td>\n",
              "      <td>No</td>\n",
              "      <td>No</td>\n",
              "      <td>No</td>\n",
              "      <td>Known</td>\n",
              "      <td>Yes</td>\n",
              "      <td>Yes</td>\n",
              "      <td>No</td>\n",
              "      <td>No</td>\n",
              "      <td>Yes</td>\n",
              "      <td>Yes</td>\n",
              "      <td>0</td>\n",
              "      <td>0</td>\n",
              "      <td>No</td>\n",
              "      <td>Yes</td>\n",
              "      <td>0</td>\n",
              "      <td>9</td>\n",
              "      <td>No</td>\n",
              "      <td>1</td>\n",
              "      <td>10</td>\n",
              "      <td>No</td>\n",
              "      <td>1-Highest</td>\n",
              "      <td>Other</td>\n",
              "      <td>Professional</td>\n",
              "      <td>Yes</td>\n",
              "    </tr>\n",
              "  </tbody>\n",
              "</table>\n",
              "</div>"
            ],
            "text/plain": [
              "   CustomerID Churn  MonthlyRevenue  MonthlyMinutes  TotalRecurringCharge  \\\n",
              "0     3000002   Yes           24.00           219.0                  22.0   \n",
              "1     3000010   Yes           16.99            10.0                  17.0   \n",
              "2     3000014    No           38.00             8.0                  38.0   \n",
              "3     3000022    No           82.28          1312.0                  75.0   \n",
              "4     3000026   Yes           17.14             0.0                  17.0   \n",
              "\n",
              "   DirectorAssistedCalls  OverageMinutes  RoamingCalls  PercChangeMinutes  \\\n",
              "0                   0.25             0.0           0.0             -157.0   \n",
              "1                   0.00             0.0           0.0               -4.0   \n",
              "2                   0.00             0.0           0.0               -2.0   \n",
              "3                   1.24             0.0           0.0              157.0   \n",
              "4                   0.00             0.0           0.0                0.0   \n",
              "\n",
              "   PercChangeRevenues  DroppedCalls  BlockedCalls  UnansweredCalls  \\\n",
              "0               -19.0           0.7           0.7              6.3   \n",
              "1                 0.0           0.3           0.0              2.7   \n",
              "2                 0.0           0.0           0.0              0.0   \n",
              "3                 8.1          52.0           7.7             76.0   \n",
              "4                -0.2           0.0           0.0              0.0   \n",
              "\n",
              "   CustomerCareCalls  ThreewayCalls  ReceivedCalls  OutboundCalls  \\\n",
              "0                0.0            0.0           97.2            0.0   \n",
              "1                0.0            0.0            0.0            0.0   \n",
              "2                0.0            0.0            0.4            0.3   \n",
              "3                4.3            1.3          200.3          370.3   \n",
              "4                0.0            0.0            0.0            0.0   \n",
              "\n",
              "   InboundCalls  PeakCallsInOut  OffPeakCallsInOut  DroppedBlockedCalls  \\\n",
              "0           0.0            58.0               24.0                  1.3   \n",
              "1           0.0             5.0                1.0                  0.3   \n",
              "2           0.0             1.3                3.7                  0.0   \n",
              "3         147.0           555.7              303.7                 59.7   \n",
              "4           0.0             0.0                0.0                  0.0   \n",
              "\n",
              "   CallForwardingCalls  CallWaitingCalls  MonthsInService  UniqueSubs  \\\n",
              "0                  0.0               0.3               61           2   \n",
              "1                  0.0               0.0               58           1   \n",
              "2                  0.0               0.0               60           1   \n",
              "3                  0.0              22.7               59           2   \n",
              "4                  0.0               0.0               53           2   \n",
              "\n",
              "   ActiveSubs ServiceArea  Handsets  HandsetModels  CurrentEquipmentDays  \\\n",
              "0           1   SEAPOR503       2.0            2.0                 361.0   \n",
              "1           1   PITHOM412       2.0            1.0                1504.0   \n",
              "2           1   MILMIL414       1.0            1.0                1812.0   \n",
              "3           2   PITHOM412       9.0            4.0                 458.0   \n",
              "4           2   OKCTUL918       4.0            3.0                 852.0   \n",
              "\n",
              "   AgeHH1  AgeHH2 ChildrenInHH HandsetRefurbished HandsetWebCapable  \\\n",
              "0    62.0     0.0           No                 No               Yes   \n",
              "1    40.0    42.0          Yes                 No                No   \n",
              "2    26.0    26.0          Yes                 No                No   \n",
              "3    30.0     0.0           No                 No               Yes   \n",
              "4    46.0    54.0           No                 No                No   \n",
              "\n",
              "  TruckOwner RVOwner Homeownership BuysViaMailOrder RespondsToMailOffers  \\\n",
              "0         No      No         Known              Yes                  Yes   \n",
              "1         No      No         Known              Yes                  Yes   \n",
              "2         No      No       Unknown               No                   No   \n",
              "3         No      No         Known              Yes                  Yes   \n",
              "4         No      No         Known              Yes                  Yes   \n",
              "\n",
              "  OptOutMailings NonUSTravel OwnsComputer HasCreditCard  RetentionCalls  \\\n",
              "0             No          No          Yes           Yes               1   \n",
              "1             No          No          Yes           Yes               0   \n",
              "2             No          No           No           Yes               0   \n",
              "3             No          No           No           Yes               0   \n",
              "4             No          No          Yes           Yes               0   \n",
              "\n",
              "   RetentionOffersAccepted NewCellphoneUser NotNewCellphoneUser  \\\n",
              "0                        0               No                  No   \n",
              "1                        0              Yes                  No   \n",
              "2                        0              Yes                  No   \n",
              "3                        0              Yes                  No   \n",
              "4                        0               No                 Yes   \n",
              "\n",
              "   ReferralsMadeBySubscriber  IncomeGroup OwnsMotorcycle  \\\n",
              "0                          0            4             No   \n",
              "1                          0            5             No   \n",
              "2                          0            6             No   \n",
              "3                          0            6             No   \n",
              "4                          0            9             No   \n",
              "\n",
              "   AdjustmentsToCreditRating HandsetPrice MadeCallToRetentionTeam  \\\n",
              "0                          0           30                     Yes   \n",
              "1                          0           30                      No   \n",
              "2                          0           30                      No   \n",
              "3                          0           10                      No   \n",
              "4                          1           10                      No   \n",
              "\n",
              "  CreditRating PrizmCode    Occupation MaritalStatus  \n",
              "0    1-Highest  Suburban  Professional            No  \n",
              "1     4-Medium  Suburban  Professional           Yes  \n",
              "2       3-Good      Town        Crafts           Yes  \n",
              "3     4-Medium     Other         Other            No  \n",
              "4    1-Highest     Other  Professional           Yes  "
            ]
          },
          "metadata": {},
          "execution_count": 6
        }
      ]
    },
    {
      "cell_type": "code",
      "metadata": {
        "colab": {
          "base_uri": "https://localhost:8080/"
        },
        "id": "XU0avQP_39ba",
        "outputId": "e106d78f-8273-44c5-be16-71162ac4f5d5"
      },
      "source": [
        "telecom_cust.dtypes"
      ],
      "execution_count": null,
      "outputs": [
        {
          "output_type": "execute_result",
          "data": {
            "text/plain": [
              "CustomerID                     int64\n",
              "Churn                         object\n",
              "MonthlyRevenue               float64\n",
              "MonthlyMinutes               float64\n",
              "TotalRecurringCharge         float64\n",
              "DirectorAssistedCalls        float64\n",
              "OverageMinutes               float64\n",
              "RoamingCalls                 float64\n",
              "PercChangeMinutes            float64\n",
              "PercChangeRevenues           float64\n",
              "DroppedCalls                 float64\n",
              "BlockedCalls                 float64\n",
              "UnansweredCalls              float64\n",
              "CustomerCareCalls            float64\n",
              "ThreewayCalls                float64\n",
              "ReceivedCalls                float64\n",
              "OutboundCalls                float64\n",
              "InboundCalls                 float64\n",
              "PeakCallsInOut               float64\n",
              "OffPeakCallsInOut            float64\n",
              "DroppedBlockedCalls          float64\n",
              "CallForwardingCalls          float64\n",
              "CallWaitingCalls             float64\n",
              "MonthsInService                int64\n",
              "UniqueSubs                     int64\n",
              "ActiveSubs                     int64\n",
              "ServiceArea                   object\n",
              "Handsets                     float64\n",
              "HandsetModels                float64\n",
              "CurrentEquipmentDays         float64\n",
              "AgeHH1                       float64\n",
              "AgeHH2                       float64\n",
              "ChildrenInHH                  object\n",
              "HandsetRefurbished            object\n",
              "HandsetWebCapable             object\n",
              "TruckOwner                    object\n",
              "RVOwner                       object\n",
              "Homeownership                 object\n",
              "BuysViaMailOrder              object\n",
              "RespondsToMailOffers          object\n",
              "OptOutMailings                object\n",
              "NonUSTravel                   object\n",
              "OwnsComputer                  object\n",
              "HasCreditCard                 object\n",
              "RetentionCalls                 int64\n",
              "RetentionOffersAccepted        int64\n",
              "NewCellphoneUser              object\n",
              "NotNewCellphoneUser           object\n",
              "ReferralsMadeBySubscriber      int64\n",
              "IncomeGroup                    int64\n",
              "OwnsMotorcycle                object\n",
              "AdjustmentsToCreditRating      int64\n",
              "HandsetPrice                   int64\n",
              "MadeCallToRetentionTeam       object\n",
              "CreditRating                  object\n",
              "PrizmCode                     object\n",
              "Occupation                    object\n",
              "MaritalStatus                 object\n",
              "dtype: object"
            ]
          },
          "metadata": {},
          "execution_count": 7
        }
      ]
    },
    {
      "cell_type": "code",
      "metadata": {
        "colab": {
          "base_uri": "https://localhost:8080/"
        },
        "id": "ZZwFd0Wk5nV2",
        "outputId": "813bea70-3df3-4f16-f97f-eb2b4ac45ec9"
      },
      "source": [
        "## printing the percentage of missing values\n",
        "features_na = [features for features in telecom_cust.columns if telecom_cust[features].isnull().sum() > 0]\n",
        "for feature in features_na:\n",
        "   print(feature, np.round(telecom_cust[feature].isnull().mean(),4),\"% missing value\")"
      ],
      "execution_count": null,
      "outputs": [
        {
          "output_type": "stream",
          "name": "stdout",
          "text": [
            "MonthlyRevenue 0.0031 % missing value\n",
            "MonthlyMinutes 0.0031 % missing value\n",
            "TotalRecurringCharge 0.0031 % missing value\n",
            "DirectorAssistedCalls 0.0031 % missing value\n",
            "OverageMinutes 0.0031 % missing value\n",
            "RoamingCalls 0.0031 % missing value\n",
            "PercChangeMinutes 0.0072 % missing value\n",
            "PercChangeRevenues 0.0072 % missing value\n",
            "ServiceArea 0.0005 % missing value\n",
            "Handsets 0.0 % missing value\n",
            "HandsetModels 0.0 % missing value\n",
            "CurrentEquipmentDays 0.0 % missing value\n",
            "AgeHH1 0.0178 % missing value\n",
            "AgeHH2 0.0178 % missing value\n"
          ]
        }
      ]
    },
    {
      "cell_type": "code",
      "metadata": {
        "colab": {
          "base_uri": "https://localhost:8080/",
          "height": 240
        },
        "id": "178hWViD5nOI",
        "outputId": "ac254662-bf01-422d-ccf0-b72f1bd74c4b"
      },
      "source": [
        "## Numeric Variable\n",
        "numeric_feature = [feature for feature in telecom_cust.columns if telecom_cust[feature].dtype != 'O']\n",
        "print(\"Number of Numeric Features\", len(numeric_feature))\n",
        "telecom_cust[numeric_feature].head()"
      ],
      "execution_count": null,
      "outputs": [
        {
          "output_type": "stream",
          "name": "stdout",
          "text": [
            "Number of Numeric Features 36\n"
          ]
        },
        {
          "output_type": "execute_result",
          "data": {
            "text/html": [
              "<div>\n",
              "<style scoped>\n",
              "    .dataframe tbody tr th:only-of-type {\n",
              "        vertical-align: middle;\n",
              "    }\n",
              "\n",
              "    .dataframe tbody tr th {\n",
              "        vertical-align: top;\n",
              "    }\n",
              "\n",
              "    .dataframe thead th {\n",
              "        text-align: right;\n",
              "    }\n",
              "</style>\n",
              "<table border=\"1\" class=\"dataframe\">\n",
              "  <thead>\n",
              "    <tr style=\"text-align: right;\">\n",
              "      <th></th>\n",
              "      <th>CustomerID</th>\n",
              "      <th>MonthlyRevenue</th>\n",
              "      <th>MonthlyMinutes</th>\n",
              "      <th>TotalRecurringCharge</th>\n",
              "      <th>DirectorAssistedCalls</th>\n",
              "      <th>OverageMinutes</th>\n",
              "      <th>RoamingCalls</th>\n",
              "      <th>PercChangeMinutes</th>\n",
              "      <th>PercChangeRevenues</th>\n",
              "      <th>DroppedCalls</th>\n",
              "      <th>BlockedCalls</th>\n",
              "      <th>UnansweredCalls</th>\n",
              "      <th>CustomerCareCalls</th>\n",
              "      <th>ThreewayCalls</th>\n",
              "      <th>ReceivedCalls</th>\n",
              "      <th>OutboundCalls</th>\n",
              "      <th>InboundCalls</th>\n",
              "      <th>PeakCallsInOut</th>\n",
              "      <th>OffPeakCallsInOut</th>\n",
              "      <th>DroppedBlockedCalls</th>\n",
              "      <th>CallForwardingCalls</th>\n",
              "      <th>CallWaitingCalls</th>\n",
              "      <th>MonthsInService</th>\n",
              "      <th>UniqueSubs</th>\n",
              "      <th>ActiveSubs</th>\n",
              "      <th>Handsets</th>\n",
              "      <th>HandsetModels</th>\n",
              "      <th>CurrentEquipmentDays</th>\n",
              "      <th>AgeHH1</th>\n",
              "      <th>AgeHH2</th>\n",
              "      <th>RetentionCalls</th>\n",
              "      <th>RetentionOffersAccepted</th>\n",
              "      <th>ReferralsMadeBySubscriber</th>\n",
              "      <th>IncomeGroup</th>\n",
              "      <th>AdjustmentsToCreditRating</th>\n",
              "      <th>HandsetPrice</th>\n",
              "    </tr>\n",
              "  </thead>\n",
              "  <tbody>\n",
              "    <tr>\n",
              "      <th>0</th>\n",
              "      <td>3000002</td>\n",
              "      <td>24.00</td>\n",
              "      <td>219.0</td>\n",
              "      <td>22.0</td>\n",
              "      <td>0.25</td>\n",
              "      <td>0.0</td>\n",
              "      <td>0.0</td>\n",
              "      <td>-157.0</td>\n",
              "      <td>-19.0</td>\n",
              "      <td>0.7</td>\n",
              "      <td>0.7</td>\n",
              "      <td>6.3</td>\n",
              "      <td>0.0</td>\n",
              "      <td>0.0</td>\n",
              "      <td>97.2</td>\n",
              "      <td>0.0</td>\n",
              "      <td>0.0</td>\n",
              "      <td>58.0</td>\n",
              "      <td>24.0</td>\n",
              "      <td>1.3</td>\n",
              "      <td>0.0</td>\n",
              "      <td>0.3</td>\n",
              "      <td>61</td>\n",
              "      <td>2</td>\n",
              "      <td>1</td>\n",
              "      <td>2.0</td>\n",
              "      <td>2.0</td>\n",
              "      <td>361.0</td>\n",
              "      <td>62.0</td>\n",
              "      <td>0.0</td>\n",
              "      <td>1</td>\n",
              "      <td>0</td>\n",
              "      <td>0</td>\n",
              "      <td>4</td>\n",
              "      <td>0</td>\n",
              "      <td>30</td>\n",
              "    </tr>\n",
              "    <tr>\n",
              "      <th>1</th>\n",
              "      <td>3000010</td>\n",
              "      <td>16.99</td>\n",
              "      <td>10.0</td>\n",
              "      <td>17.0</td>\n",
              "      <td>0.00</td>\n",
              "      <td>0.0</td>\n",
              "      <td>0.0</td>\n",
              "      <td>-4.0</td>\n",
              "      <td>0.0</td>\n",
              "      <td>0.3</td>\n",
              "      <td>0.0</td>\n",
              "      <td>2.7</td>\n",
              "      <td>0.0</td>\n",
              "      <td>0.0</td>\n",
              "      <td>0.0</td>\n",
              "      <td>0.0</td>\n",
              "      <td>0.0</td>\n",
              "      <td>5.0</td>\n",
              "      <td>1.0</td>\n",
              "      <td>0.3</td>\n",
              "      <td>0.0</td>\n",
              "      <td>0.0</td>\n",
              "      <td>58</td>\n",
              "      <td>1</td>\n",
              "      <td>1</td>\n",
              "      <td>2.0</td>\n",
              "      <td>1.0</td>\n",
              "      <td>1504.0</td>\n",
              "      <td>40.0</td>\n",
              "      <td>42.0</td>\n",
              "      <td>0</td>\n",
              "      <td>0</td>\n",
              "      <td>0</td>\n",
              "      <td>5</td>\n",
              "      <td>0</td>\n",
              "      <td>30</td>\n",
              "    </tr>\n",
              "    <tr>\n",
              "      <th>2</th>\n",
              "      <td>3000014</td>\n",
              "      <td>38.00</td>\n",
              "      <td>8.0</td>\n",
              "      <td>38.0</td>\n",
              "      <td>0.00</td>\n",
              "      <td>0.0</td>\n",
              "      <td>0.0</td>\n",
              "      <td>-2.0</td>\n",
              "      <td>0.0</td>\n",
              "      <td>0.0</td>\n",
              "      <td>0.0</td>\n",
              "      <td>0.0</td>\n",
              "      <td>0.0</td>\n",
              "      <td>0.0</td>\n",
              "      <td>0.4</td>\n",
              "      <td>0.3</td>\n",
              "      <td>0.0</td>\n",
              "      <td>1.3</td>\n",
              "      <td>3.7</td>\n",
              "      <td>0.0</td>\n",
              "      <td>0.0</td>\n",
              "      <td>0.0</td>\n",
              "      <td>60</td>\n",
              "      <td>1</td>\n",
              "      <td>1</td>\n",
              "      <td>1.0</td>\n",
              "      <td>1.0</td>\n",
              "      <td>1812.0</td>\n",
              "      <td>26.0</td>\n",
              "      <td>26.0</td>\n",
              "      <td>0</td>\n",
              "      <td>0</td>\n",
              "      <td>0</td>\n",
              "      <td>6</td>\n",
              "      <td>0</td>\n",
              "      <td>30</td>\n",
              "    </tr>\n",
              "    <tr>\n",
              "      <th>3</th>\n",
              "      <td>3000022</td>\n",
              "      <td>82.28</td>\n",
              "      <td>1312.0</td>\n",
              "      <td>75.0</td>\n",
              "      <td>1.24</td>\n",
              "      <td>0.0</td>\n",
              "      <td>0.0</td>\n",
              "      <td>157.0</td>\n",
              "      <td>8.1</td>\n",
              "      <td>52.0</td>\n",
              "      <td>7.7</td>\n",
              "      <td>76.0</td>\n",
              "      <td>4.3</td>\n",
              "      <td>1.3</td>\n",
              "      <td>200.3</td>\n",
              "      <td>370.3</td>\n",
              "      <td>147.0</td>\n",
              "      <td>555.7</td>\n",
              "      <td>303.7</td>\n",
              "      <td>59.7</td>\n",
              "      <td>0.0</td>\n",
              "      <td>22.7</td>\n",
              "      <td>59</td>\n",
              "      <td>2</td>\n",
              "      <td>2</td>\n",
              "      <td>9.0</td>\n",
              "      <td>4.0</td>\n",
              "      <td>458.0</td>\n",
              "      <td>30.0</td>\n",
              "      <td>0.0</td>\n",
              "      <td>0</td>\n",
              "      <td>0</td>\n",
              "      <td>0</td>\n",
              "      <td>6</td>\n",
              "      <td>0</td>\n",
              "      <td>10</td>\n",
              "    </tr>\n",
              "    <tr>\n",
              "      <th>4</th>\n",
              "      <td>3000026</td>\n",
              "      <td>17.14</td>\n",
              "      <td>0.0</td>\n",
              "      <td>17.0</td>\n",
              "      <td>0.00</td>\n",
              "      <td>0.0</td>\n",
              "      <td>0.0</td>\n",
              "      <td>0.0</td>\n",
              "      <td>-0.2</td>\n",
              "      <td>0.0</td>\n",
              "      <td>0.0</td>\n",
              "      <td>0.0</td>\n",
              "      <td>0.0</td>\n",
              "      <td>0.0</td>\n",
              "      <td>0.0</td>\n",
              "      <td>0.0</td>\n",
              "      <td>0.0</td>\n",
              "      <td>0.0</td>\n",
              "      <td>0.0</td>\n",
              "      <td>0.0</td>\n",
              "      <td>0.0</td>\n",
              "      <td>0.0</td>\n",
              "      <td>53</td>\n",
              "      <td>2</td>\n",
              "      <td>2</td>\n",
              "      <td>4.0</td>\n",
              "      <td>3.0</td>\n",
              "      <td>852.0</td>\n",
              "      <td>46.0</td>\n",
              "      <td>54.0</td>\n",
              "      <td>0</td>\n",
              "      <td>0</td>\n",
              "      <td>0</td>\n",
              "      <td>9</td>\n",
              "      <td>1</td>\n",
              "      <td>10</td>\n",
              "    </tr>\n",
              "  </tbody>\n",
              "</table>\n",
              "</div>"
            ],
            "text/plain": [
              "   CustomerID  MonthlyRevenue  MonthlyMinutes  TotalRecurringCharge  \\\n",
              "0     3000002           24.00           219.0                  22.0   \n",
              "1     3000010           16.99            10.0                  17.0   \n",
              "2     3000014           38.00             8.0                  38.0   \n",
              "3     3000022           82.28          1312.0                  75.0   \n",
              "4     3000026           17.14             0.0                  17.0   \n",
              "\n",
              "   DirectorAssistedCalls  OverageMinutes  RoamingCalls  PercChangeMinutes  \\\n",
              "0                   0.25             0.0           0.0             -157.0   \n",
              "1                   0.00             0.0           0.0               -4.0   \n",
              "2                   0.00             0.0           0.0               -2.0   \n",
              "3                   1.24             0.0           0.0              157.0   \n",
              "4                   0.00             0.0           0.0                0.0   \n",
              "\n",
              "   PercChangeRevenues  DroppedCalls  BlockedCalls  UnansweredCalls  \\\n",
              "0               -19.0           0.7           0.7              6.3   \n",
              "1                 0.0           0.3           0.0              2.7   \n",
              "2                 0.0           0.0           0.0              0.0   \n",
              "3                 8.1          52.0           7.7             76.0   \n",
              "4                -0.2           0.0           0.0              0.0   \n",
              "\n",
              "   CustomerCareCalls  ThreewayCalls  ReceivedCalls  OutboundCalls  \\\n",
              "0                0.0            0.0           97.2            0.0   \n",
              "1                0.0            0.0            0.0            0.0   \n",
              "2                0.0            0.0            0.4            0.3   \n",
              "3                4.3            1.3          200.3          370.3   \n",
              "4                0.0            0.0            0.0            0.0   \n",
              "\n",
              "   InboundCalls  PeakCallsInOut  OffPeakCallsInOut  DroppedBlockedCalls  \\\n",
              "0           0.0            58.0               24.0                  1.3   \n",
              "1           0.0             5.0                1.0                  0.3   \n",
              "2           0.0             1.3                3.7                  0.0   \n",
              "3         147.0           555.7              303.7                 59.7   \n",
              "4           0.0             0.0                0.0                  0.0   \n",
              "\n",
              "   CallForwardingCalls  CallWaitingCalls  MonthsInService  UniqueSubs  \\\n",
              "0                  0.0               0.3               61           2   \n",
              "1                  0.0               0.0               58           1   \n",
              "2                  0.0               0.0               60           1   \n",
              "3                  0.0              22.7               59           2   \n",
              "4                  0.0               0.0               53           2   \n",
              "\n",
              "   ActiveSubs  Handsets  HandsetModels  CurrentEquipmentDays  AgeHH1  AgeHH2  \\\n",
              "0           1       2.0            2.0                 361.0    62.0     0.0   \n",
              "1           1       2.0            1.0                1504.0    40.0    42.0   \n",
              "2           1       1.0            1.0                1812.0    26.0    26.0   \n",
              "3           2       9.0            4.0                 458.0    30.0     0.0   \n",
              "4           2       4.0            3.0                 852.0    46.0    54.0   \n",
              "\n",
              "   RetentionCalls  RetentionOffersAccepted  ReferralsMadeBySubscriber  \\\n",
              "0               1                        0                          0   \n",
              "1               0                        0                          0   \n",
              "2               0                        0                          0   \n",
              "3               0                        0                          0   \n",
              "4               0                        0                          0   \n",
              "\n",
              "   IncomeGroup  AdjustmentsToCreditRating  HandsetPrice  \n",
              "0            4                          0            30  \n",
              "1            5                          0            30  \n",
              "2            6                          0            30  \n",
              "3            6                          0            10  \n",
              "4            9                          1            10  "
            ]
          },
          "metadata": {},
          "execution_count": 9
        }
      ]
    },
    {
      "cell_type": "code",
      "metadata": {
        "colab": {
          "base_uri": "https://localhost:8080/"
        },
        "id": "SyTQrOxT5nEh",
        "outputId": "fd26fa29-0fff-473c-fd7f-281fb6561933"
      },
      "source": [
        "## Discreate variable\n",
        "telecom_cust['Churn1']= np.where((telecom_cust['Churn']== \"Yes\"),1,0)\n",
        "discrete_feature = [feature for feature in numeric_feature if len(telecom_cust[feature].unique())<25 and feature not in ['CustomerID']+['Churn1'] ]\n",
        "for feature in discrete_feature:\n",
        "  print(\"{} , {}\".format(feature,len(telecom_cust[feature].unique())))\n",
        "print(\"Discrete variable count : {}\" .format(len(discrete_feature)))"
      ],
      "execution_count": null,
      "outputs": [
        {
          "output_type": "stream",
          "name": "stdout",
          "text": [
            "UniqueSubs , 15\n",
            "ActiveSubs , 12\n",
            "Handsets , 24\n",
            "HandsetModels , 14\n",
            "RetentionCalls , 5\n",
            "RetentionOffersAccepted , 4\n",
            "ReferralsMadeBySubscriber , 13\n",
            "IncomeGroup , 10\n",
            "AdjustmentsToCreditRating , 15\n",
            "HandsetPrice , 15\n",
            "Discrete variable count : 10\n"
          ]
        }
      ]
    },
    {
      "cell_type": "code",
      "metadata": {
        "colab": {
          "base_uri": "https://localhost:8080/",
          "height": 1000
        },
        "id": "rxC7PD2k5nDC",
        "outputId": "e134d1e4-dea2-434e-adff-0a42a3f31bd6"
      },
      "source": [
        "## Relation b/w discrete feature and Churn\n",
        "for feature in discrete_feature:\n",
        "  data=telecom_cust.copy()\n",
        "  data.groupby(feature)['Churn1'].mean().plot.bar()\n",
        "  plt.xlabel(feature)\n",
        "  plt.ylabel(\"Churn\")\n",
        "  plt.show()"
      ],
      "execution_count": null,
      "outputs": [
        {
          "output_type": "execute_result",
          "data": {
            "text/plain": [
              "<matplotlib.axes._subplots.AxesSubplot at 0x7f52a386e650>"
            ]
          },
          "metadata": {},
          "execution_count": 11
        },
        {
          "output_type": "execute_result",
          "data": {
            "text/plain": [
              "Text(0.5, 0, 'UniqueSubs')"
            ]
          },
          "metadata": {},
          "execution_count": 11
        },
        {
          "output_type": "execute_result",
          "data": {
            "text/plain": [
              "Text(0, 0.5, 'Churn')"
            ]
          },
          "metadata": {},
          "execution_count": 11
        },
        {
          "output_type": "display_data",
          "data": {
            "image/png": "[encoded data removed]",
            "text/plain": [
              "<Figure size 432x288 with 1 Axes>"
            ]
          },
          "metadata": {
            "needs_background": "light"
          }
        },
        {
          "output_type": "execute_result",
          "data": {
            "text/plain": [
              "<matplotlib.axes._subplots.AxesSubplot at 0x7f52919cf850>"
            ]
          },
          "metadata": {},
          "execution_count": 11
        },
        {
          "output_type": "execute_result",
          "data": {
            "text/plain": [
              "Text(0.5, 0, 'ActiveSubs')"
            ]
          },
          "metadata": {},
          "execution_count": 11
        },
        {
          "output_type": "execute_result",
          "data": {
            "text/plain": [
              "Text(0, 0.5, 'Churn')"
            ]
          },
          "metadata": {},
          "execution_count": 11
        },
        {
          "output_type": "display_data",
          "data": {
            "image/png": "[encoded data removed]",
            "text/plain": [
              "<Figure size 432x288 with 1 Axes>"
            ]
          },
          "metadata": {
            "needs_background": "light"
          }
        },
        {
          "output_type": "execute_result",
          "data": {
            "text/plain": [
              "<matplotlib.axes._subplots.AxesSubplot at 0x7f52919e4150>"
            ]
          },
          "metadata": {},
          "execution_count": 11
        },
        {
          "output_type": "execute_result",
          "data": {
            "text/plain": [
              "Text(0.5, 0, 'Handsets')"
            ]
          },
          "metadata": {},
          "execution_count": 11
        },
        {
          "output_type": "execute_result",
          "data": {
            "text/plain": [
              "Text(0, 0.5, 'Churn')"
            ]
          },
          "metadata": {},
          "execution_count": 11
        },
        {
          "output_type": "display_data",
          "data": {
            "image/png": "[encoded data removed]",
            "text/plain": [
              "<Figure size 432x288 with 1 Axes>"
            ]
          },
          "metadata": {
            "needs_background": "light"
          }
        },
        {
          "output_type": "execute_result",
          "data": {
            "text/plain": [
              "<matplotlib.axes._subplots.AxesSubplot at 0x7f5291442990>"
            ]
          },
          "metadata": {},
          "execution_count": 11
        },
        {
          "output_type": "execute_result",
          "data": {
            "text/plain": [
              "Text(0.5, 0, 'HandsetModels')"
            ]
          },
          "metadata": {},
          "execution_count": 11
        },
        {
          "output_type": "execute_result",
          "data": {
            "text/plain": [
              "Text(0, 0.5, 'Churn')"
            ]
          },
          "metadata": {},
          "execution_count": 11
        },
        {
          "output_type": "display_data",
          "data": {
            "image/png": "[encoded data removed]",
            "text/plain": [
              "<Figure size 432x288 with 1 Axes>"
            ]
          },
          "metadata": {
            "needs_background": "light"
          }
        },
        {
          "output_type": "execute_result",
          "data": {
            "text/plain": [
              "<matplotlib.axes._subplots.AxesSubplot at 0x7f52913a6c90>"
            ]
          },
          "metadata": {},
          "execution_count": 11
        },
        {
          "output_type": "execute_result",
          "data": {
            "text/plain": [
              "Text(0.5, 0, 'RetentionCalls')"
            ]
          },
          "metadata": {},
          "execution_count": 11
        },
        {
          "output_type": "execute_result",
          "data": {
            "text/plain": [
              "Text(0, 0.5, 'Churn')"
            ]
          },
          "metadata": {},
          "execution_count": 11
        },
        {
          "output_type": "display_data",
          "data": {
            "image/png": "[encoded data removed]",
            "text/plain": [
              "<Figure size 432x288 with 1 Axes>"
            ]
          },
          "metadata": {
            "needs_background": "light"
          }
        },
        {
          "output_type": "execute_result",
          "data": {
            "text/plain": [
              "<matplotlib.axes._subplots.AxesSubplot at 0x7f52912e6310>"
            ]
          },
          "metadata": {},
          "execution_count": 11
        },
        {
          "output_type": "execute_result",
          "data": {
            "text/plain": [
              "Text(0.5, 0, 'RetentionOffersAccepted')"
            ]
          },
          "metadata": {},
          "execution_count": 11
        },
        {
          "output_type": "execute_result",
          "data": {
            "text/plain": [
              "Text(0, 0.5, 'Churn')"
            ]
          },
          "metadata": {},
          "execution_count": 11
        },
        {
          "output_type": "display_data",
          "data": {
            "image/png": "[encoded data removed]",
            "text/plain": [
              "<Figure size 432x288 with 1 Axes>"
            ]
          },
          "metadata": {
            "needs_background": "light"
          }
        },
        {
          "output_type": "execute_result",
          "data": {
            "text/plain": [
              "<matplotlib.axes._subplots.AxesSubplot at 0x7f5291400910>"
            ]
          },
          "metadata": {},
          "execution_count": 11
        },
        {
          "output_type": "execute_result",
          "data": {
            "text/plain": [
              "Text(0.5, 0, 'ReferralsMadeBySubscriber')"
            ]
          },
          "metadata": {},
          "execution_count": 11
        },
        {
          "output_type": "execute_result",
          "data": {
            "text/plain": [
              "Text(0, 0.5, 'Churn')"
            ]
          },
          "metadata": {},
          "execution_count": 11
        },
        {
          "output_type": "display_data",
          "data": {
            "image/png": "[encoded data removed]",
            "text/plain": [
              "<Figure size 432x288 with 1 Axes>"
            ]
          },
          "metadata": {
            "needs_background": "light"
          }
        },
        {
          "output_type": "execute_result",
          "data": {
            "text/plain": [
              "<matplotlib.axes._subplots.AxesSubplot at 0x7f52919e4ad0>"
            ]
          },
          "metadata": {},
          "execution_count": 11
        },
        {
          "output_type": "execute_result",
          "data": {
            "text/plain": [
              "Text(0.5, 0, 'IncomeGroup')"
            ]
          },
          "metadata": {},
          "execution_count": 11
        },
        {
          "output_type": "execute_result",
          "data": {
            "text/plain": [
              "Text(0, 0.5, 'Churn')"
            ]
          },
          "metadata": {},
          "execution_count": 11
        },
        {
          "output_type": "display_data",
          "data": {
            "image/png": "[encoded data removed]",
            "text/plain": [
              "<Figure size 432x288 with 1 Axes>"
            ]
          },
          "metadata": {
            "needs_background": "light"
          }
        },
        {
          "output_type": "execute_result",
          "data": {
            "text/plain": [
              "<matplotlib.axes._subplots.AxesSubplot at 0x7f5291b3a350>"
            ]
          },
          "metadata": {},
          "execution_count": 11
        },
        {
          "output_type": "execute_result",
          "data": {
            "text/plain": [
              "Text(0.5, 0, 'AdjustmentsToCreditRating')"
            ]
          },
          "metadata": {},
          "execution_count": 11
        },
        {
          "output_type": "execute_result",
          "data": {
            "text/plain": [
              "Text(0, 0.5, 'Churn')"
            ]
          },
          "metadata": {},
          "execution_count": 11
        },
        {
          "output_type": "display_data",
          "data": {
            "image/png": "[encoded data removed]",
            "text/plain": [
              "<Figure size 432x288 with 1 Axes>"
            ]
          },
          "metadata": {
            "needs_background": "light"
          }
        },
        {
          "output_type": "execute_result",
          "data": {
            "text/plain": [
              "<matplotlib.axes._subplots.AxesSubplot at 0x7f529148ec90>"
            ]
          },
          "metadata": {},
          "execution_count": 11
        },
        {
          "output_type": "execute_result",
          "data": {
            "text/plain": [
              "Text(0.5, 0, 'HandsetPrice')"
            ]
          },
          "metadata": {},
          "execution_count": 11
        },
        {
          "output_type": "execute_result",
          "data": {
            "text/plain": [
              "Text(0, 0.5, 'Churn')"
            ]
          },
          "metadata": {},
          "execution_count": 11
        },
        {
          "output_type": "display_data",
          "data": {
            "image/png": "[encoded data removed]",
            "text/plain": [
              "<Figure size 432x288 with 1 Axes>"
            ]
          },
          "metadata": {
            "needs_background": "light"
          }
        }
      ]
    },
    {
      "cell_type": "code",
      "metadata": {
        "colab": {
          "base_uri": "https://localhost:8080/"
        },
        "id": "NaCntJX86t58",
        "outputId": "884441f0-0c08-42de-b596-0219ef2e81e7"
      },
      "source": [
        "## Continous variable\n",
        "continous_feature = [feature for feature in numeric_feature if feature not in discrete_feature+['CustomerID']+['Churn1'] ]\n",
        "print(\"Continous variable count : {}\" .format(len(continous_feature)))"
      ],
      "execution_count": null,
      "outputs": [
        {
          "output_type": "stream",
          "name": "stdout",
          "text": [
            "Continous variable count : 25\n"
          ]
        }
      ]
    },
    {
      "cell_type": "code",
      "metadata": {
        "colab": {
          "base_uri": "https://localhost:8080/",
          "height": 1000
        },
        "id": "esvUCA7O6tzT",
        "outputId": "3617f552-dcff-4dca-82c2-b9215f2b5223"
      },
      "source": [
        "## Finding the distribution of continous feature\n",
        "for feature in continous_feature:\n",
        "  data=telecom_cust.copy()\n",
        "  data[feature].hist(bins=20)\n",
        "  plt.xlabel(feature)\n",
        "  plt.ylabel(\"Count\")\n",
        "  plt.title(feature)\n",
        "  plt.show()"
      ],
      "execution_count": null,
      "outputs": [
        {
          "output_type": "execute_result",
          "data": {
            "text/plain": [
              "<matplotlib.axes._subplots.AxesSubplot at 0x7f5291236fd0>"
            ]
          },
          "metadata": {},
          "execution_count": 13
        },
        {
          "output_type": "execute_result",
          "data": {
            "text/plain": [
              "Text(0.5, 0, 'MonthlyRevenue')"
            ]
          },
          "metadata": {},
          "execution_count": 13
        },
        {
          "output_type": "execute_result",
          "data": {
            "text/plain": [
              "Text(0, 0.5, 'Count')"
            ]
          },
          "metadata": {},
          "execution_count": 13
        },
        {
          "output_type": "execute_result",
          "data": {
            "text/plain": [
              "Text(0.5, 1.0, 'MonthlyRevenue')"
            ]
          },
          "metadata": {},
          "execution_count": 13
        },
        {
          "output_type": "display_data",
          "data": {
            "image/png": "[encoded data removed]",
            "text/plain": [
              "<Figure size 432x288 with 1 Axes>"
            ]
          },
          "metadata": {
            "needs_background": "light"
          }
        },
        {
          "output_type": "execute_result",
          "data": {
            "text/plain": [
              "<matplotlib.axes._subplots.AxesSubplot at 0x7f529122edd0>"
            ]
          },
          "metadata": {},
          "execution_count": 13
        },
        {
          "output_type": "execute_result",
          "data": {
            "text/plain": [
              "Text(0.5, 0, 'MonthlyMinutes')"
            ]
          },
          "metadata": {},
          "execution_count": 13
        },
        {
          "output_type": "execute_result",
          "data": {
            "text/plain": [
              "Text(0, 0.5, 'Count')"
            ]
          },
          "metadata": {},
          "execution_count": 13
        },
        {
          "output_type": "execute_result",
          "data": {
            "text/plain": [
              "Text(0.5, 1.0, 'MonthlyMinutes')"
            ]
          },
          "metadata": {},
          "execution_count": 13
        },
        {
          "output_type": "display_data",
          "data": {
            "image/png": "[encoded data removed]",
            "text/plain": [
              "<Figure size 432x288 with 1 Axes>"
            ]
          },
          "metadata": {
            "needs_background": "light"
          }
        },
        {
          "output_type": "execute_result",
          "data": {
            "text/plain": [
              "<matplotlib.axes._subplots.AxesSubplot at 0x7f52910f60d0>"
            ]
          },
          "metadata": {},
          "execution_count": 13
        },
        {
          "output_type": "execute_result",
          "data": {
            "text/plain": [
              "Text(0.5, 0, 'TotalRecurringCharge')"
            ]
          },
          "metadata": {},
          "execution_count": 13
        },
        {
          "output_type": "execute_result",
          "data": {
            "text/plain": [
              "Text(0, 0.5, 'Count')"
            ]
          },
          "metadata": {},
          "execution_count": 13
        },
        {
          "output_type": "execute_result",
          "data": {
            "text/plain": [
              "Text(0.5, 1.0, 'TotalRecurringCharge')"
            ]
          },
          "metadata": {},
          "execution_count": 13
        },
        {
          "output_type": "display_data",
          "data": {
            "image/png": "[encoded data removed]",
            "text/plain": [
              "<Figure size 432x288 with 1 Axes>"
            ]
          },
          "metadata": {
            "needs_background": "light"
          }
        },
        {
          "output_type": "execute_result",
          "data": {
            "text/plain": [
              "<matplotlib.axes._subplots.AxesSubplot at 0x7f529100a110>"
            ]
          },
          "metadata": {},
          "execution_count": 13
        },
        {
          "output_type": "execute_result",
          "data": {
            "text/plain": [
              "Text(0.5, 0, 'DirectorAssistedCalls')"
            ]
          },
          "metadata": {},
          "execution_count": 13
        },
        {
          "output_type": "execute_result",
          "data": {
            "text/plain": [
              "Text(0, 0.5, 'Count')"
            ]
          },
          "metadata": {},
          "execution_count": 13
        },
        {
          "output_type": "execute_result",
          "data": {
            "text/plain": [
              "Text(0.5, 1.0, 'DirectorAssistedCalls')"
            ]
          },
          "metadata": {},
          "execution_count": 13
        },
        {
          "output_type": "display_data",
          "data": {
            "image/png": "[encoded data removed]",
            "text/plain": [
              "<Figure size 432x288 with 1 Axes>"
            ]
          },
          "metadata": {
            "needs_background": "light"
          }
        },
        {
          "output_type": "execute_result",
          "data": {
            "text/plain": [
              "<matplotlib.axes._subplots.AxesSubplot at 0x7f5290f0bf90>"
            ]
          },
          "metadata": {},
          "execution_count": 13
        },
        {
          "output_type": "execute_result",
          "data": {
            "text/plain": [
              "Text(0.5, 0, 'OverageMinutes')"
            ]
          },
          "metadata": {},
          "execution_count": 13
        },
        {
          "output_type": "execute_result",
          "data": {
            "text/plain": [
              "Text(0, 0.5, 'Count')"
            ]
          },
          "metadata": {},
          "execution_count": 13
        },
        {
          "output_type": "execute_result",
          "data": {
            "text/plain": [
              "Text(0.5, 1.0, 'OverageMinutes')"
            ]
          },
          "metadata": {},
          "execution_count": 13
        },
        {
          "output_type": "display_data",
          "data": {
            "image/png": "[encoded data removed]",
            "text/plain": [
              "<Figure size 432x288 with 1 Axes>"
            ]
          },
          "metadata": {
            "needs_background": "light"
          }
        },
        {
          "output_type": "execute_result",
          "data": {
            "text/plain": [
              "<matplotlib.axes._subplots.AxesSubplot at 0x7f5290ef8d10>"
            ]
          },
          "metadata": {},
          "execution_count": 13
        },
        {
          "output_type": "execute_result",
          "data": {
            "text/plain": [
              "Text(0.5, 0, 'RoamingCalls')"
            ]
          },
          "metadata": {},
          "execution_count": 13
        },
        {
          "output_type": "execute_result",
          "data": {
            "text/plain": [
              "Text(0, 0.5, 'Count')"
            ]
          },
          "metadata": {},
          "execution_count": 13
        },
        {
          "output_type": "execute_result",
          "data": {
            "text/plain": [
              "Text(0.5, 1.0, 'RoamingCalls')"
            ]
          },
          "metadata": {},
          "execution_count": 13
        },
        {
          "output_type": "display_data",
          "data": {
            "image/png": "[encoded data removed]",
            "text/plain": [
              "<Figure size 432x288 with 1 Axes>"
            ]
          },
          "metadata": {
            "needs_background": "light"
          }
        },
        {
          "output_type": "execute_result",
          "data": {
            "text/plain": [
              "<matplotlib.axes._subplots.AxesSubplot at 0x7f5290e4ff10>"
            ]
          },
          "metadata": {},
          "execution_count": 13
        },
        {
          "output_type": "execute_result",
          "data": {
            "text/plain": [
              "Text(0.5, 0, 'PercChangeMinutes')"
            ]
          },
          "metadata": {},
          "execution_count": 13
        },
        {
          "output_type": "execute_result",
          "data": {
            "text/plain": [
              "Text(0, 0.5, 'Count')"
            ]
          },
          "metadata": {},
          "execution_count": 13
        },
        {
          "output_type": "execute_result",
          "data": {
            "text/plain": [
              "Text(0.5, 1.0, 'PercChangeMinutes')"
            ]
          },
          "metadata": {},
          "execution_count": 13
        },
        {
          "output_type": "display_data",
          "data": {
            "image/png": "[encoded data removed]",
            "text/plain": [
              "<Figure size 432x288 with 1 Axes>"
            ]
          },
          "metadata": {
            "needs_background": "light"
          }
        },
        {
          "output_type": "execute_result",
          "data": {
            "text/plain": [
              "<matplotlib.axes._subplots.AxesSubplot at 0x7f5290e0d610>"
            ]
          },
          "metadata": {},
          "execution_count": 13
        },
        {
          "output_type": "execute_result",
          "data": {
            "text/plain": [
              "Text(0.5, 0, 'PercChangeRevenues')"
            ]
          },
          "metadata": {},
          "execution_count": 13
        },
        {
          "output_type": "execute_result",
          "data": {
            "text/plain": [
              "Text(0, 0.5, 'Count')"
            ]
          },
          "metadata": {},
          "execution_count": 13
        },
        {
          "output_type": "execute_result",
          "data": {
            "text/plain": [
              "Text(0.5, 1.0, 'PercChangeRevenues')"
            ]
          },
          "metadata": {},
          "execution_count": 13
        },
        {
          "output_type": "display_data",
          "data": {
            "image/png": "[encoded data removed]",
            "text/plain": [
              "<Figure size 432x288 with 1 Axes>"
            ]
          },
          "metadata": {
            "needs_background": "light"
          }
        },
        {
          "output_type": "execute_result",
          "data": {
            "text/plain": [
              "<matplotlib.axes._subplots.AxesSubplot at 0x7f5290e33890>"
            ]
          },
          "metadata": {},
          "execution_count": 13
        },
        {
          "output_type": "execute_result",
          "data": {
            "text/plain": [
              "Text(0.5, 0, 'DroppedCalls')"
            ]
          },
          "metadata": {},
          "execution_count": 13
        },
        {
          "output_type": "execute_result",
          "data": {
            "text/plain": [
              "Text(0, 0.5, 'Count')"
            ]
          },
          "metadata": {},
          "execution_count": 13
        },
        {
          "output_type": "execute_result",
          "data": {
            "text/plain": [
              "Text(0.5, 1.0, 'DroppedCalls')"
            ]
          },
          "metadata": {},
          "execution_count": 13
        },
        {
          "output_type": "display_data",
          "data": {
            "image/png": "[encoded data removed]",
            "text/plain": [
              "<Figure size 432x288 with 1 Axes>"
            ]
          },
          "metadata": {
            "needs_background": "light"
          }
        },
        {
          "output_type": "execute_result",
          "data": {
            "text/plain": [
              "<matplotlib.axes._subplots.AxesSubplot at 0x7f5291014c90>"
            ]
          },
          "metadata": {},
          "execution_count": 13
        },
        {
          "output_type": "execute_result",
          "data": {
            "text/plain": [
              "Text(0.5, 0, 'BlockedCalls')"
            ]
          },
          "metadata": {},
          "execution_count": 13
        },
        {
          "output_type": "execute_result",
          "data": {
            "text/plain": [
              "Text(0, 0.5, 'Count')"
            ]
          },
          "metadata": {},
          "execution_count": 13
        },
        {
          "output_type": "execute_result",
          "data": {
            "text/plain": [
              "Text(0.5, 1.0, 'BlockedCalls')"
            ]
          },
          "metadata": {},
          "execution_count": 13
        },
        {
          "output_type": "display_data",
          "data": {
            "image/png": "[encoded data removed]",
            "text/plain": [
              "<Figure size 432x288 with 1 Axes>"
            ]
          },
          "metadata": {
            "needs_background": "light"
          }
        },
        {
          "output_type": "execute_result",
          "data": {
            "text/plain": [
              "<matplotlib.axes._subplots.AxesSubplot at 0x7f52914b6610>"
            ]
          },
          "metadata": {},
          "execution_count": 13
        },
        {
          "output_type": "execute_result",
          "data": {
            "text/plain": [
              "Text(0.5, 0, 'UnansweredCalls')"
            ]
          },
          "metadata": {},
          "execution_count": 13
        },
        {
          "output_type": "execute_result",
          "data": {
            "text/plain": [
              "Text(0, 0.5, 'Count')"
            ]
          },
          "metadata": {},
          "execution_count": 13
        },
        {
          "output_type": "execute_result",
          "data": {
            "text/plain": [
              "Text(0.5, 1.0, 'UnansweredCalls')"
            ]
          },
          "metadata": {},
          "execution_count": 13
        },
        {
          "output_type": "display_data",
          "data": {
            "image/png": "[encoded data removed]",
            "text/plain": [
              "<Figure size 432x288 with 1 Axes>"
            ]
          },
          "metadata": {
            "needs_background": "light"
          }
        },
        {
          "output_type": "execute_result",
          "data": {
            "text/plain": [
              "<matplotlib.axes._subplots.AxesSubplot at 0x7f5290fea3d0>"
            ]
          },
          "metadata": {},
          "execution_count": 13
        },
        {
          "output_type": "execute_result",
          "data": {
            "text/plain": [
              "Text(0.5, 0, 'CustomerCareCalls')"
            ]
          },
          "metadata": {},
          "execution_count": 13
        },
        {
          "output_type": "execute_result",
          "data": {
            "text/plain": [
              "Text(0, 0.5, 'Count')"
            ]
          },
          "metadata": {},
          "execution_count": 13
        },
        {
          "output_type": "execute_result",
          "data": {
            "text/plain": [
              "Text(0.5, 1.0, 'CustomerCareCalls')"
            ]
          },
          "metadata": {},
          "execution_count": 13
        },
        {
          "output_type": "display_data",
          "data": {
            "image/png": "[encoded data removed]",
            "text/plain": [
              "<Figure size 432x288 with 1 Axes>"
            ]
          },
          "metadata": {
            "needs_background": "light"
          }
        },
        {
          "output_type": "execute_result",
          "data": {
            "text/plain": [
              "<matplotlib.axes._subplots.AxesSubplot at 0x7f52910b2090>"
            ]
          },
          "metadata": {},
          "execution_count": 13
        },
        {
          "output_type": "execute_result",
          "data": {
            "text/plain": [
              "Text(0.5, 0, 'ThreewayCalls')"
            ]
          },
          "metadata": {},
          "execution_count": 13
        },
        {
          "output_type": "execute_result",
          "data": {
            "text/plain": [
              "Text(0, 0.5, 'Count')"
            ]
          },
          "metadata": {},
          "execution_count": 13
        },
        {
          "output_type": "execute_result",
          "data": {
            "text/plain": [
              "Text(0.5, 1.0, 'ThreewayCalls')"
            ]
          },
          "metadata": {},
          "execution_count": 13
        },
        {
          "output_type": "display_data",
          "data": {
            "image/png": "[encoded data removed]",
            "text/plain": [
              "<Figure size 432x288 with 1 Axes>"
            ]
          },
          "metadata": {
            "needs_background": "light"
          }
        },
        {
          "output_type": "execute_result",
          "data": {
            "text/plain": [
              "<matplotlib.axes._subplots.AxesSubplot at 0x7f5290de7b10>"
            ]
          },
          "metadata": {},
          "execution_count": 13
        },
        {
          "output_type": "execute_result",
          "data": {
            "text/plain": [
              "Text(0.5, 0, 'ReceivedCalls')"
            ]
          },
          "metadata": {},
          "execution_count": 13
        },
        {
          "output_type": "execute_result",
          "data": {
            "text/plain": [
              "Text(0, 0.5, 'Count')"
            ]
          },
          "metadata": {},
          "execution_count": 13
        },
        {
          "output_type": "execute_result",
          "data": {
            "text/plain": [
              "Text(0.5, 1.0, 'ReceivedCalls')"
            ]
          },
          "metadata": {},
          "execution_count": 13
        },
        {
          "output_type": "display_data",
          "data": {
            "image/png": "[encoded data removed]",
            "text/plain": [
              "<Figure size 432x288 with 1 Axes>"
            ]
          },
          "metadata": {
            "needs_background": "light"
          }
        },
        {
          "output_type": "execute_result",
          "data": {
            "text/plain": [
              "<matplotlib.axes._subplots.AxesSubplot at 0x7f529131dd10>"
            ]
          },
          "metadata": {},
          "execution_count": 13
        },
        {
          "output_type": "execute_result",
          "data": {
            "text/plain": [
              "Text(0.5, 0, 'OutboundCalls')"
            ]
          },
          "metadata": {},
          "execution_count": 13
        },
        {
          "output_type": "execute_result",
          "data": {
            "text/plain": [
              "Text(0, 0.5, 'Count')"
            ]
          },
          "metadata": {},
          "execution_count": 13
        },
        {
          "output_type": "execute_result",
          "data": {
            "text/plain": [
              "Text(0.5, 1.0, 'OutboundCalls')"
            ]
          },
          "metadata": {},
          "execution_count": 13
        },
        {
          "output_type": "display_data",
          "data": {
            "image/png": "[encoded data removed]",
            "text/plain": [
              "<Figure size 432x288 with 1 Axes>"
            ]
          },
          "metadata": {
            "needs_background": "light"
          }
        },
        {
          "output_type": "execute_result",
          "data": {
            "text/plain": [
              "<matplotlib.axes._subplots.AxesSubplot at 0x7f52913c0e10>"
            ]
          },
          "metadata": {},
          "execution_count": 13
        },
        {
          "output_type": "execute_result",
          "data": {
            "text/plain": [
              "Text(0.5, 0, 'InboundCalls')"
            ]
          },
          "metadata": {},
          "execution_count": 13
        },
        {
          "output_type": "execute_result",
          "data": {
            "text/plain": [
              "Text(0, 0.5, 'Count')"
            ]
          },
          "metadata": {},
          "execution_count": 13
        },
        {
          "output_type": "execute_result",
          "data": {
            "text/plain": [
              "Text(0.5, 1.0, 'InboundCalls')"
            ]
          },
          "metadata": {},
          "execution_count": 13
        },
        {
          "output_type": "display_data",
          "data": {
            "image/png": "[encoded data removed]",
            "text/plain": [
              "<Figure size 432x288 with 1 Axes>"
            ]
          },
          "metadata": {
            "needs_background": "light"
          }
        },
        {
          "output_type": "execute_result",
          "data": {
            "text/plain": [
              "<matplotlib.axes._subplots.AxesSubplot at 0x7f529138f810>"
            ]
          },
          "metadata": {},
          "execution_count": 13
        },
        {
          "output_type": "execute_result",
          "data": {
            "text/plain": [
              "Text(0.5, 0, 'PeakCallsInOut')"
            ]
          },
          "metadata": {},
          "execution_count": 13
        },
        {
          "output_type": "execute_result",
          "data": {
            "text/plain": [
              "Text(0, 0.5, 'Count')"
            ]
          },
          "metadata": {},
          "execution_count": 13
        },
        {
          "output_type": "execute_result",
          "data": {
            "text/plain": [
              "Text(0.5, 1.0, 'PeakCallsInOut')"
            ]
          },
          "metadata": {},
          "execution_count": 13
        },
        {
          "output_type": "display_data",
          "data": {
            "image/png": "[encoded data removed]",
            "text/plain": [
              "<Figure size 432x288 with 1 Axes>"
            ]
          },
          "metadata": {
            "needs_background": "light"
          }
        },
        {
          "output_type": "execute_result",
          "data": {
            "text/plain": [
              "<matplotlib.axes._subplots.AxesSubplot at 0x7f5290c7f0d0>"
            ]
          },
          "metadata": {},
          "execution_count": 13
        },
        {
          "output_type": "execute_result",
          "data": {
            "text/plain": [
              "Text(0.5, 0, 'OffPeakCallsInOut')"
            ]
          },
          "metadata": {},
          "execution_count": 13
        },
        {
          "output_type": "execute_result",
          "data": {
            "text/plain": [
              "Text(0, 0.5, 'Count')"
            ]
          },
          "metadata": {},
          "execution_count": 13
        },
        {
          "output_type": "execute_result",
          "data": {
            "text/plain": [
              "Text(0.5, 1.0, 'OffPeakCallsInOut')"
            ]
          },
          "metadata": {},
          "execution_count": 13
        },
        {
          "output_type": "display_data",
          "data": {
            "image/png": "[encoded data removed]",
            "text/plain": [
              "<Figure size 432x288 with 1 Axes>"
            ]
          },
          "metadata": {
            "needs_background": "light"
          }
        },
        {
          "output_type": "execute_result",
          "data": {
            "text/plain": [
              "<matplotlib.axes._subplots.AxesSubplot at 0x7f52913cb090>"
            ]
          },
          "metadata": {},
          "execution_count": 13
        },
        {
          "output_type": "execute_result",
          "data": {
            "text/plain": [
              "Text(0.5, 0, 'DroppedBlockedCalls')"
            ]
          },
          "metadata": {},
          "execution_count": 13
        },
        {
          "output_type": "execute_result",
          "data": {
            "text/plain": [
              "Text(0, 0.5, 'Count')"
            ]
          },
          "metadata": {},
          "execution_count": 13
        },
        {
          "output_type": "execute_result",
          "data": {
            "text/plain": [
              "Text(0.5, 1.0, 'DroppedBlockedCalls')"
            ]
          },
          "metadata": {},
          "execution_count": 13
        },
        {
          "output_type": "display_data",
          "data": {
            "image/png": "[encoded data removed]",
            "text/plain": [
              "<Figure size 432x288 with 1 Axes>"
            ]
          },
          "metadata": {
            "needs_background": "light"
          }
        },
        {
          "output_type": "execute_result",
          "data": {
            "text/plain": [
              "<matplotlib.axes._subplots.AxesSubplot at 0x7f5291474650>"
            ]
          },
          "metadata": {},
          "execution_count": 13
        },
        {
          "output_type": "execute_result",
          "data": {
            "text/plain": [
              "Text(0.5, 0, 'CallForwardingCalls')"
            ]
          },
          "metadata": {},
          "execution_count": 13
        },
        {
          "output_type": "execute_result",
          "data": {
            "text/plain": [
              "Text(0, 0.5, 'Count')"
            ]
          },
          "metadata": {},
          "execution_count": 13
        },
        {
          "output_type": "execute_result",
          "data": {
            "text/plain": [
              "Text(0.5, 1.0, 'CallForwardingCalls')"
            ]
          },
          "metadata": {},
          "execution_count": 13
        },
        {
          "output_type": "display_data",
          "data": {
            "image/png": "[encoded data removed]",
            "text/plain": [
              "<Figure size 432x288 with 1 Axes>"
            ]
          },
          "metadata": {
            "needs_background": "light"
          }
        },
        {
          "output_type": "execute_result",
          "data": {
            "text/plain": [
              "<matplotlib.axes._subplots.AxesSubplot at 0x7f5291494a90>"
            ]
          },
          "metadata": {},
          "execution_count": 13
        },
        {
          "output_type": "execute_result",
          "data": {
            "text/plain": [
              "Text(0.5, 0, 'CallWaitingCalls')"
            ]
          },
          "metadata": {},
          "execution_count": 13
        },
        {
          "output_type": "execute_result",
          "data": {
            "text/plain": [
              "Text(0, 0.5, 'Count')"
            ]
          },
          "metadata": {},
          "execution_count": 13
        },
        {
          "output_type": "execute_result",
          "data": {
            "text/plain": [
              "Text(0.5, 1.0, 'CallWaitingCalls')"
            ]
          },
          "metadata": {},
          "execution_count": 13
        },
        {
          "output_type": "display_data",
          "data": {
            "image/png": "[encoded data removed]",
            "text/plain": [
              "<Figure size 432x288 with 1 Axes>"
            ]
          },
          "metadata": {
            "needs_background": "light"
          }
        },
        {
          "output_type": "execute_result",
          "data": {
            "text/plain": [
              "<matplotlib.axes._subplots.AxesSubplot at 0x7f52911e0390>"
            ]
          },
          "metadata": {},
          "execution_count": 13
        },
        {
          "output_type": "execute_result",
          "data": {
            "text/plain": [
              "Text(0.5, 0, 'MonthsInService')"
            ]
          },
          "metadata": {},
          "execution_count": 13
        },
        {
          "output_type": "execute_result",
          "data": {
            "text/plain": [
              "Text(0, 0.5, 'Count')"
            ]
          },
          "metadata": {},
          "execution_count": 13
        },
        {
          "output_type": "execute_result",
          "data": {
            "text/plain": [
              "Text(0.5, 1.0, 'MonthsInService')"
            ]
          },
          "metadata": {},
          "execution_count": 13
        },
        {
          "output_type": "display_data",
          "data": {
            "image/png": "[encoded data removed]",
            "text/plain": [
              "<Figure size 432x288 with 1 Axes>"
            ]
          },
          "metadata": {
            "needs_background": "light"
          }
        },
        {
          "output_type": "execute_result",
          "data": {
            "text/plain": [
              "<matplotlib.axes._subplots.AxesSubplot at 0x7f5290fd1f90>"
            ]
          },
          "metadata": {},
          "execution_count": 13
        },
        {
          "output_type": "execute_result",
          "data": {
            "text/plain": [
              "Text(0.5, 0, 'CurrentEquipmentDays')"
            ]
          },
          "metadata": {},
          "execution_count": 13
        },
        {
          "output_type": "execute_result",
          "data": {
            "text/plain": [
              "Text(0, 0.5, 'Count')"
            ]
          },
          "metadata": {},
          "execution_count": 13
        },
        {
          "output_type": "execute_result",
          "data": {
            "text/plain": [
              "Text(0.5, 1.0, 'CurrentEquipmentDays')"
            ]
          },
          "metadata": {},
          "execution_count": 13
        },
        {
          "output_type": "display_data",
          "data": {
            "image/png": "[encoded data removed]",
            "text/plain": [
              "<Figure size 432x288 with 1 Axes>"
            ]
          },
          "metadata": {
            "needs_background": "light"
          }
        },
        {
          "output_type": "execute_result",
          "data": {
            "text/plain": [
              "<matplotlib.axes._subplots.AxesSubplot at 0x7f5291115a10>"
            ]
          },
          "metadata": {},
          "execution_count": 13
        },
        {
          "output_type": "execute_result",
          "data": {
            "text/plain": [
              "Text(0.5, 0, 'AgeHH1')"
            ]
          },
          "metadata": {},
          "execution_count": 13
        },
        {
          "output_type": "execute_result",
          "data": {
            "text/plain": [
              "Text(0, 0.5, 'Count')"
            ]
          },
          "metadata": {},
          "execution_count": 13
        },
        {
          "output_type": "execute_result",
          "data": {
            "text/plain": [
              "Text(0.5, 1.0, 'AgeHH1')"
            ]
          },
          "metadata": {},
          "execution_count": 13
        },
        {
          "output_type": "display_data",
          "data": {
            "image/png": "[encoded data removed]",
            "text/plain": [
              "<Figure size 432x288 with 1 Axes>"
            ]
          },
          "metadata": {
            "needs_background": "light"
          }
        },
        {
          "output_type": "execute_result",
          "data": {
            "text/plain": [
              "<matplotlib.axes._subplots.AxesSubplot at 0x7f5291415d50>"
            ]
          },
          "metadata": {},
          "execution_count": 13
        },
        {
          "output_type": "execute_result",
          "data": {
            "text/plain": [
              "Text(0.5, 0, 'AgeHH2')"
            ]
          },
          "metadata": {},
          "execution_count": 13
        },
        {
          "output_type": "execute_result",
          "data": {
            "text/plain": [
              "Text(0, 0.5, 'Count')"
            ]
          },
          "metadata": {},
          "execution_count": 13
        },
        {
          "output_type": "execute_result",
          "data": {
            "text/plain": [
              "Text(0.5, 1.0, 'AgeHH2')"
            ]
          },
          "metadata": {},
          "execution_count": 13
        },
        {
          "output_type": "display_data",
          "data": {
            "image/png": "[encoded data removed]",
            "text/plain": [
              "<Figure size 432x288 with 1 Axes>"
            ]
          },
          "metadata": {
            "needs_background": "light"
          }
        }
      ]
    },
    {
      "cell_type": "code",
      "metadata": {
        "colab": {
          "base_uri": "https://localhost:8080/",
          "height": 1000
        },
        "id": "JECUgSjE6tt6",
        "outputId": "81fedd9e-4f30-41fd-aedb-8ab1fdeb593b"
      },
      "source": [
        "## Categorical Features\n",
        "\n",
        "categorical_feature = [feature for feature in telecom_cust.columns if telecom_cust[feature].dtype == 'O']\n",
        "for feature in categorical_feature:\n",
        "  data=telecom_cust.copy()\n",
        "  data.groupby(feature)['Churn1'].mean().plot.bar()\n",
        "  plt.xlabel(feature)\n",
        "  plt.ylabel(\"Churn\")\n",
        "  plt.show()\n"
      ],
      "execution_count": null,
      "outputs": [
        {
          "output_type": "execute_result",
          "data": {
            "text/plain": [
              "<matplotlib.axes._subplots.AxesSubplot at 0x7f5290fd4150>"
            ]
          },
          "metadata": {},
          "execution_count": 14
        },
        {
          "output_type": "execute_result",
          "data": {
            "text/plain": [
              "Text(0.5, 0, 'Churn')"
            ]
          },
          "metadata": {},
          "execution_count": 14
        },
        {
          "output_type": "execute_result",
          "data": {
            "text/plain": [
              "Text(0, 0.5, 'Churn')"
            ]
          },
          "metadata": {},
          "execution_count": 14
        },
        {
          "output_type": "display_data",
          "data": {
            "image/png": "[encoded data removed]",
            "text/plain": [
              "<Figure size 432x288 with 1 Axes>"
            ]
          },
          "metadata": {
            "needs_background": "light"
          }
        },
        {
          "output_type": "execute_result",
          "data": {
            "text/plain": [
              "<matplotlib.axes._subplots.AxesSubplot at 0x7f5290c9bad0>"
            ]
          },
          "metadata": {},
          "execution_count": 14
        },
        {
          "output_type": "execute_result",
          "data": {
            "text/plain": [
              "Text(0.5, 0, 'ServiceArea')"
            ]
          },
          "metadata": {},
          "execution_count": 14
        },
        {
          "output_type": "execute_result",
          "data": {
            "text/plain": [
              "Text(0, 0.5, 'Churn')"
            ]
          },
          "metadata": {},
          "execution_count": 14
        },
        {
          "output_type": "display_data",
          "data": {
            "image/png": "[encoded data removed]",
            "text/plain": [
              "<Figure size 432x288 with 1 Axes>"
            ]
          },
          "metadata": {
            "needs_background": "light"
          }
        },
        {
          "output_type": "execute_result",
          "data": {
            "text/plain": [
              "<matplotlib.axes._subplots.AxesSubplot at 0x7f5290d0ead0>"
            ]
          },
          "metadata": {},
          "execution_count": 14
        },
        {
          "output_type": "execute_result",
          "data": {
            "text/plain": [
              "Text(0.5, 0, 'ChildrenInHH')"
            ]
          },
          "metadata": {},
          "execution_count": 14
        },
        {
          "output_type": "execute_result",
          "data": {
            "text/plain": [
              "Text(0, 0.5, 'Churn')"
            ]
          },
          "metadata": {},
          "execution_count": 14
        },
        {
          "output_type": "display_data",
          "data": {
            "image/png": "[encoded data removed]",
            "text/plain": [
              "<Figure size 432x288 with 1 Axes>"
            ]
          },
          "metadata": {
            "needs_background": "light"
          }
        },
        {
          "output_type": "execute_result",
          "data": {
            "text/plain": [
              "<matplotlib.axes._subplots.AxesSubplot at 0x7f5290252910>"
            ]
          },
          "metadata": {},
          "execution_count": 14
        },
        {
          "output_type": "execute_result",
          "data": {
            "text/plain": [
              "Text(0.5, 0, 'HandsetRefurbished')"
            ]
          },
          "metadata": {},
          "execution_count": 14
        },
        {
          "output_type": "execute_result",
          "data": {
            "text/plain": [
              "Text(0, 0.5, 'Churn')"
            ]
          },
          "metadata": {},
          "execution_count": 14
        },
        {
          "output_type": "display_data",
          "data": {
            "image/png": "[encoded data removed]",
            "text/plain": [
              "<Figure size 432x288 with 1 Axes>"
            ]
          },
          "metadata": {
            "needs_background": "light"
          }
        },
        {
          "output_type": "execute_result",
          "data": {
            "text/plain": [
              "<matplotlib.axes._subplots.AxesSubplot at 0x7f5290279250>"
            ]
          },
          "metadata": {},
          "execution_count": 14
        },
        {
          "output_type": "execute_result",
          "data": {
            "text/plain": [
              "Text(0.5, 0, 'HandsetWebCapable')"
            ]
          },
          "metadata": {},
          "execution_count": 14
        },
        {
          "output_type": "execute_result",
          "data": {
            "text/plain": [
              "Text(0, 0.5, 'Churn')"
            ]
          },
          "metadata": {},
          "execution_count": 14
        },
        {
          "output_type": "display_data",
          "data": {
            "image/png": "[encoded data removed]",
            "text/plain": [
              "<Figure size 432x288 with 1 Axes>"
            ]
          },
          "metadata": {
            "needs_background": "light"
          }
        },
        {
          "output_type": "execute_result",
          "data": {
            "text/plain": [
              "<matplotlib.axes._subplots.AxesSubplot at 0x7f5290185090>"
            ]
          },
          "metadata": {},
          "execution_count": 14
        },
        {
          "output_type": "execute_result",
          "data": {
            "text/plain": [
              "Text(0.5, 0, 'TruckOwner')"
            ]
          },
          "metadata": {},
          "execution_count": 14
        },
        {
          "output_type": "execute_result",
          "data": {
            "text/plain": [
              "Text(0, 0.5, 'Churn')"
            ]
          },
          "metadata": {},
          "execution_count": 14
        },
        {
          "output_type": "display_data",
          "data": {
            "image/png": "[encoded data removed]",
            "text/plain": [
              "<Figure size 432x288 with 1 Axes>"
            ]
          },
          "metadata": {
            "needs_background": "light"
          }
        },
        {
          "output_type": "execute_result",
          "data": {
            "text/plain": [
              "<matplotlib.axes._subplots.AxesSubplot at 0x7f5290161dd0>"
            ]
          },
          "metadata": {},
          "execution_count": 14
        },
        {
          "output_type": "execute_result",
          "data": {
            "text/plain": [
              "Text(0.5, 0, 'RVOwner')"
            ]
          },
          "metadata": {},
          "execution_count": 14
        },
        {
          "output_type": "execute_result",
          "data": {
            "text/plain": [
              "Text(0, 0.5, 'Churn')"
            ]
          },
          "metadata": {},
          "execution_count": 14
        },
        {
          "output_type": "display_data",
          "data": {
            "image/png": "[encoded data removed]",
            "text/plain": [
              "<Figure size 432x288 with 1 Axes>"
            ]
          },
          "metadata": {
            "needs_background": "light"
          }
        },
        {
          "output_type": "execute_result",
          "data": {
            "text/plain": [
              "<matplotlib.axes._subplots.AxesSubplot at 0x7f52900d45d0>"
            ]
          },
          "metadata": {},
          "execution_count": 14
        },
        {
          "output_type": "execute_result",
          "data": {
            "text/plain": [
              "Text(0.5, 0, 'Homeownership')"
            ]
          },
          "metadata": {},
          "execution_count": 14
        },
        {
          "output_type": "execute_result",
          "data": {
            "text/plain": [
              "Text(0, 0.5, 'Churn')"
            ]
          },
          "metadata": {},
          "execution_count": 14
        },
        {
          "output_type": "display_data",
          "data": {
            "image/png": "[encoded data removed]",
            "text/plain": [
              "<Figure size 432x288 with 1 Axes>"
            ]
          },
          "metadata": {
            "needs_background": "light"
          }
        },
        {
          "output_type": "execute_result",
          "data": {
            "text/plain": [
              "<matplotlib.axes._subplots.AxesSubplot at 0x7f52900b3fd0>"
            ]
          },
          "metadata": {},
          "execution_count": 14
        },
        {
          "output_type": "execute_result",
          "data": {
            "text/plain": [
              "Text(0.5, 0, 'BuysViaMailOrder')"
            ]
          },
          "metadata": {},
          "execution_count": 14
        },
        {
          "output_type": "execute_result",
          "data": {
            "text/plain": [
              "Text(0, 0.5, 'Churn')"
            ]
          },
          "metadata": {},
          "execution_count": 14
        },
        {
          "output_type": "display_data",
          "data": {
            "image/png": "[encoded data removed]",
            "text/plain": [
              "<Figure size 432x288 with 1 Axes>"
            ]
          },
          "metadata": {
            "needs_background": "light"
          }
        },
        {
          "output_type": "execute_result",
          "data": {
            "text/plain": [
              "<matplotlib.axes._subplots.AxesSubplot at 0x7f529022a850>"
            ]
          },
          "metadata": {},
          "execution_count": 14
        },
        {
          "output_type": "execute_result",
          "data": {
            "text/plain": [
              "Text(0.5, 0, 'RespondsToMailOffers')"
            ]
          },
          "metadata": {},
          "execution_count": 14
        },
        {
          "output_type": "execute_result",
          "data": {
            "text/plain": [
              "Text(0, 0.5, 'Churn')"
            ]
          },
          "metadata": {},
          "execution_count": 14
        },
        {
          "output_type": "display_data",
          "data": {
            "image/png": "[encoded data removed]",
            "text/plain": [
              "<Figure size 432x288 with 1 Axes>"
            ]
          },
          "metadata": {
            "needs_background": "light"
          }
        },
        {
          "output_type": "execute_result",
          "data": {
            "text/plain": [
              "<matplotlib.axes._subplots.AxesSubplot at 0x7f5290252990>"
            ]
          },
          "metadata": {},
          "execution_count": 14
        },
        {
          "output_type": "execute_result",
          "data": {
            "text/plain": [
              "Text(0.5, 0, 'OptOutMailings')"
            ]
          },
          "metadata": {},
          "execution_count": 14
        },
        {
          "output_type": "execute_result",
          "data": {
            "text/plain": [
              "Text(0, 0.5, 'Churn')"
            ]
          },
          "metadata": {},
          "execution_count": 14
        },
        {
          "output_type": "display_data",
          "data": {
            "image/png": "[encoded data removed]",
            "text/plain": [
              "<Figure size 432x288 with 1 Axes>"
            ]
          },
          "metadata": {
            "needs_background": "light"
          }
        },
        {
          "output_type": "execute_result",
          "data": {
            "text/plain": [
              "<matplotlib.axes._subplots.AxesSubplot at 0x7f52914840d0>"
            ]
          },
          "metadata": {},
          "execution_count": 14
        },
        {
          "output_type": "execute_result",
          "data": {
            "text/plain": [
              "Text(0.5, 0, 'NonUSTravel')"
            ]
          },
          "metadata": {},
          "execution_count": 14
        },
        {
          "output_type": "execute_result",
          "data": {
            "text/plain": [
              "Text(0, 0.5, 'Churn')"
            ]
          },
          "metadata": {},
          "execution_count": 14
        },
        {
          "output_type": "display_data",
          "data": {
            "image/png": "[encoded data removed]",
            "text/plain": [
              "<Figure size 432x288 with 1 Axes>"
            ]
          },
          "metadata": {
            "needs_background": "light"
          }
        },
        {
          "output_type": "execute_result",
          "data": {
            "text/plain": [
              "<matplotlib.axes._subplots.AxesSubplot at 0x7f5291400c10>"
            ]
          },
          "metadata": {},
          "execution_count": 14
        },
        {
          "output_type": "execute_result",
          "data": {
            "text/plain": [
              "Text(0.5, 0, 'OwnsComputer')"
            ]
          },
          "metadata": {},
          "execution_count": 14
        },
        {
          "output_type": "execute_result",
          "data": {
            "text/plain": [
              "Text(0, 0.5, 'Churn')"
            ]
          },
          "metadata": {},
          "execution_count": 14
        },
        {
          "output_type": "display_data",
          "data": {
            "image/png": "[encoded data removed]",
            "text/plain": [
              "<Figure size 432x288 with 1 Axes>"
            ]
          },
          "metadata": {
            "needs_background": "light"
          }
        },
        {
          "output_type": "execute_result",
          "data": {
            "text/plain": [
              "<matplotlib.axes._subplots.AxesSubplot at 0x7f529128c8d0>"
            ]
          },
          "metadata": {},
          "execution_count": 14
        },
        {
          "output_type": "execute_result",
          "data": {
            "text/plain": [
              "Text(0.5, 0, 'HasCreditCard')"
            ]
          },
          "metadata": {},
          "execution_count": 14
        },
        {
          "output_type": "execute_result",
          "data": {
            "text/plain": [
              "Text(0, 0.5, 'Churn')"
            ]
          },
          "metadata": {},
          "execution_count": 14
        },
        {
          "output_type": "display_data",
          "data": {
            "image/png": "[encoded data removed]",
            "text/plain": [
              "<Figure size 432x288 with 1 Axes>"
            ]
          },
          "metadata": {
            "needs_background": "light"
          }
        },
        {
          "output_type": "execute_result",
          "data": {
            "text/plain": [
              "<matplotlib.axes._subplots.AxesSubplot at 0x7f529122e3d0>"
            ]
          },
          "metadata": {},
          "execution_count": 14
        },
        {
          "output_type": "execute_result",
          "data": {
            "text/plain": [
              "Text(0.5, 0, 'NewCellphoneUser')"
            ]
          },
          "metadata": {},
          "execution_count": 14
        },
        {
          "output_type": "execute_result",
          "data": {
            "text/plain": [
              "Text(0, 0.5, 'Churn')"
            ]
          },
          "metadata": {},
          "execution_count": 14
        },
        {
          "output_type": "display_data",
          "data": {
            "image/png": "[encoded data removed]",
            "text/plain": [
              "<Figure size 432x288 with 1 Axes>"
            ]
          },
          "metadata": {
            "needs_background": "light"
          }
        },
        {
          "output_type": "execute_result",
          "data": {
            "text/plain": [
              "<matplotlib.axes._subplots.AxesSubplot at 0x7f5290e1b650>"
            ]
          },
          "metadata": {},
          "execution_count": 14
        },
        {
          "output_type": "execute_result",
          "data": {
            "text/plain": [
              "Text(0.5, 0, 'NotNewCellphoneUser')"
            ]
          },
          "metadata": {},
          "execution_count": 14
        },
        {
          "output_type": "execute_result",
          "data": {
            "text/plain": [
              "Text(0, 0.5, 'Churn')"
            ]
          },
          "metadata": {},
          "execution_count": 14
        },
        {
          "output_type": "display_data",
          "data": {
            "image/png": "[encoded data removed]",
            "text/plain": [
              "<Figure size 432x288 with 1 Axes>"
            ]
          },
          "metadata": {
            "needs_background": "light"
          }
        },
        {
          "output_type": "execute_result",
          "data": {
            "text/plain": [
              "<matplotlib.axes._subplots.AxesSubplot at 0x7f529080e990>"
            ]
          },
          "metadata": {},
          "execution_count": 14
        },
        {
          "output_type": "execute_result",
          "data": {
            "text/plain": [
              "Text(0.5, 0, 'OwnsMotorcycle')"
            ]
          },
          "metadata": {},
          "execution_count": 14
        },
        {
          "output_type": "execute_result",
          "data": {
            "text/plain": [
              "Text(0, 0.5, 'Churn')"
            ]
          },
          "metadata": {},
          "execution_count": 14
        },
        {
          "output_type": "display_data",
          "data": {
            "image/png": "[encoded data removed]",
            "text/plain": [
              "<Figure size 432x288 with 1 Axes>"
            ]
          },
          "metadata": {
            "needs_background": "light"
          }
        },
        {
          "output_type": "execute_result",
          "data": {
            "text/plain": [
              "<matplotlib.axes._subplots.AxesSubplot at 0x7f5291431390>"
            ]
          },
          "metadata": {},
          "execution_count": 14
        },
        {
          "output_type": "execute_result",
          "data": {
            "text/plain": [
              "Text(0.5, 0, 'MadeCallToRetentionTeam')"
            ]
          },
          "metadata": {},
          "execution_count": 14
        },
        {
          "output_type": "execute_result",
          "data": {
            "text/plain": [
              "Text(0, 0.5, 'Churn')"
            ]
          },
          "metadata": {},
          "execution_count": 14
        },
        {
          "output_type": "display_data",
          "data": {
            "image/png": "[encoded data removed]",
            "text/plain": [
              "<Figure size 432x288 with 1 Axes>"
            ]
          },
          "metadata": {
            "needs_background": "light"
          }
        },
        {
          "output_type": "execute_result",
          "data": {
            "text/plain": [
              "<matplotlib.axes._subplots.AxesSubplot at 0x7f5290c9d610>"
            ]
          },
          "metadata": {},
          "execution_count": 14
        },
        {
          "output_type": "execute_result",
          "data": {
            "text/plain": [
              "Text(0.5, 0, 'CreditRating')"
            ]
          },
          "metadata": {},
          "execution_count": 14
        },
        {
          "output_type": "execute_result",
          "data": {
            "text/plain": [
              "Text(0, 0.5, 'Churn')"
            ]
          },
          "metadata": {},
          "execution_count": 14
        },
        {
          "output_type": "display_data",
          "data": {
            "image/png": "[encoded data removed]",
            "text/plain": [
              "<Figure size 432x288 with 1 Axes>"
            ]
          },
          "metadata": {
            "needs_background": "light"
          }
        },
        {
          "output_type": "execute_result",
          "data": {
            "text/plain": [
              "<matplotlib.axes._subplots.AxesSubplot at 0x7f5291393490>"
            ]
          },
          "metadata": {},
          "execution_count": 14
        },
        {
          "output_type": "execute_result",
          "data": {
            "text/plain": [
              "Text(0.5, 0, 'PrizmCode')"
            ]
          },
          "metadata": {},
          "execution_count": 14
        },
        {
          "output_type": "execute_result",
          "data": {
            "text/plain": [
              "Text(0, 0.5, 'Churn')"
            ]
          },
          "metadata": {},
          "execution_count": 14
        },
        {
          "output_type": "display_data",
          "data": {
            "image/png": "[encoded data removed]",
            "text/plain": [
              "<Figure size 432x288 with 1 Axes>"
            ]
          },
          "metadata": {
            "needs_background": "light"
          }
        },
        {
          "output_type": "execute_result",
          "data": {
            "text/plain": [
              "<matplotlib.axes._subplots.AxesSubplot at 0x7f52911d1850>"
            ]
          },
          "metadata": {},
          "execution_count": 14
        },
        {
          "output_type": "execute_result",
          "data": {
            "text/plain": [
              "Text(0.5, 0, 'Occupation')"
            ]
          },
          "metadata": {},
          "execution_count": 14
        },
        {
          "output_type": "execute_result",
          "data": {
            "text/plain": [
              "Text(0, 0.5, 'Churn')"
            ]
          },
          "metadata": {},
          "execution_count": 14
        },
        {
          "output_type": "display_data",
          "data": {
            "image/png": "[encoded data removed]",
            "text/plain": [
              "<Figure size 432x288 with 1 Axes>"
            ]
          },
          "metadata": {
            "needs_background": "light"
          }
        },
        {
          "output_type": "execute_result",
          "data": {
            "text/plain": [
              "<matplotlib.axes._subplots.AxesSubplot at 0x7f529020a850>"
            ]
          },
          "metadata": {},
          "execution_count": 14
        },
        {
          "output_type": "execute_result",
          "data": {
            "text/plain": [
              "Text(0.5, 0, 'MaritalStatus')"
            ]
          },
          "metadata": {},
          "execution_count": 14
        },
        {
          "output_type": "execute_result",
          "data": {
            "text/plain": [
              "Text(0, 0.5, 'Churn')"
            ]
          },
          "metadata": {},
          "execution_count": 14
        },
        {
          "output_type": "display_data",
          "data": {
            "image/png": "[encoded data removed]",
            "text/plain": [
              "<Figure size 432x288 with 1 Axes>"
            ]
          },
          "metadata": {
            "needs_background": "light"
          }
        }
      ]
    },
    {
      "cell_type": "markdown",
      "metadata": {
        "id": "ZcG8YhdY7SP1"
      },
      "source": [
        "#Feature Engineering"
      ]
    },
    {
      "cell_type": "markdown",
      "metadata": {
        "id": "eFuskeeV7-_r"
      },
      "source": [
        "### Handling Missing Values (Categorical features)"
      ]
    },
    {
      "cell_type": "code",
      "metadata": {
        "colab": {
          "base_uri": "https://localhost:8080/",
          "height": 223
        },
        "id": "h7FYZhau7VGw",
        "outputId": "c509e2e7-83b3-4760-b87e-f9df7c83bfec"
      },
      "source": [
        "data = telecom_cust.copy()\n",
        "data.head()"
      ],
      "execution_count": null,
      "outputs": [
        {
          "output_type": "execute_result",
          "data": {
            "text/html": [
              "<div>\n",
              "<style scoped>\n",
              "    .dataframe tbody tr th:only-of-type {\n",
              "        vertical-align: middle;\n",
              "    }\n",
              "\n",
              "    .dataframe tbody tr th {\n",
              "        vertical-align: top;\n",
              "    }\n",
              "\n",
              "    .dataframe thead th {\n",
              "        text-align: right;\n",
              "    }\n",
              "</style>\n",
              "<table border=\"1\" class=\"dataframe\">\n",
              "  <thead>\n",
              "    <tr style=\"text-align: right;\">\n",
              "      <th></th>\n",
              "      <th>CustomerID</th>\n",
              "      <th>Churn</th>\n",
              "      <th>MonthlyRevenue</th>\n",
              "      <th>MonthlyMinutes</th>\n",
              "      <th>TotalRecurringCharge</th>\n",
              "      <th>DirectorAssistedCalls</th>\n",
              "      <th>OverageMinutes</th>\n",
              "      <th>RoamingCalls</th>\n",
              "      <th>PercChangeMinutes</th>\n",
              "      <th>PercChangeRevenues</th>\n",
              "      <th>DroppedCalls</th>\n",
              "      <th>BlockedCalls</th>\n",
              "      <th>UnansweredCalls</th>\n",
              "      <th>CustomerCareCalls</th>\n",
              "      <th>ThreewayCalls</th>\n",
              "      <th>ReceivedCalls</th>\n",
              "      <th>OutboundCalls</th>\n",
              "      <th>InboundCalls</th>\n",
              "      <th>PeakCallsInOut</th>\n",
              "      <th>OffPeakCallsInOut</th>\n",
              "      <th>DroppedBlockedCalls</th>\n",
              "      <th>CallForwardingCalls</th>\n",
              "      <th>CallWaitingCalls</th>\n",
              "      <th>MonthsInService</th>\n",
              "      <th>UniqueSubs</th>\n",
              "      <th>ActiveSubs</th>\n",
              "      <th>ServiceArea</th>\n",
              "      <th>Handsets</th>\n",
              "      <th>HandsetModels</th>\n",
              "      <th>CurrentEquipmentDays</th>\n",
              "      <th>AgeHH1</th>\n",
              "      <th>AgeHH2</th>\n",
              "      <th>ChildrenInHH</th>\n",
              "      <th>HandsetRefurbished</th>\n",
              "      <th>HandsetWebCapable</th>\n",
              "      <th>TruckOwner</th>\n",
              "      <th>RVOwner</th>\n",
              "      <th>Homeownership</th>\n",
              "      <th>BuysViaMailOrder</th>\n",
              "      <th>RespondsToMailOffers</th>\n",
              "      <th>OptOutMailings</th>\n",
              "      <th>NonUSTravel</th>\n",
              "      <th>OwnsComputer</th>\n",
              "      <th>HasCreditCard</th>\n",
              "      <th>RetentionCalls</th>\n",
              "      <th>RetentionOffersAccepted</th>\n",
              "      <th>NewCellphoneUser</th>\n",
              "      <th>NotNewCellphoneUser</th>\n",
              "      <th>ReferralsMadeBySubscriber</th>\n",
              "      <th>IncomeGroup</th>\n",
              "      <th>OwnsMotorcycle</th>\n",
              "      <th>AdjustmentsToCreditRating</th>\n",
              "      <th>HandsetPrice</th>\n",
              "      <th>MadeCallToRetentionTeam</th>\n",
              "      <th>CreditRating</th>\n",
              "      <th>PrizmCode</th>\n",
              "      <th>Occupation</th>\n",
              "      <th>MaritalStatus</th>\n",
              "      <th>Churn1</th>\n",
              "    </tr>\n",
              "  </thead>\n",
              "  <tbody>\n",
              "    <tr>\n",
              "      <th>0</th>\n",
              "      <td>3000002</td>\n",
              "      <td>Yes</td>\n",
              "      <td>24.00</td>\n",
              "      <td>219.0</td>\n",
              "      <td>22.0</td>\n",
              "      <td>0.25</td>\n",
              "      <td>0.0</td>\n",
              "      <td>0.0</td>\n",
              "      <td>-157.0</td>\n",
              "      <td>-19.0</td>\n",
              "      <td>0.7</td>\n",
              "      <td>0.7</td>\n",
              "      <td>6.3</td>\n",
              "      <td>0.0</td>\n",
              "      <td>0.0</td>\n",
              "      <td>97.2</td>\n",
              "      <td>0.0</td>\n",
              "      <td>0.0</td>\n",
              "      <td>58.0</td>\n",
              "      <td>24.0</td>\n",
              "      <td>1.3</td>\n",
              "      <td>0.0</td>\n",
              "      <td>0.3</td>\n",
              "      <td>61</td>\n",
              "      <td>2</td>\n",
              "      <td>1</td>\n",
              "      <td>SEAPOR503</td>\n",
              "      <td>2.0</td>\n",
              "      <td>2.0</td>\n",
              "      <td>361.0</td>\n",
              "      <td>62.0</td>\n",
              "      <td>0.0</td>\n",
              "      <td>No</td>\n",
              "      <td>No</td>\n",
              "      <td>Yes</td>\n",
              "      <td>No</td>\n",
              "      <td>No</td>\n",
              "      <td>Known</td>\n",
              "      <td>Yes</td>\n",
              "      <td>Yes</td>\n",
              "      <td>No</td>\n",
              "      <td>No</td>\n",
              "      <td>Yes</td>\n",
              "      <td>Yes</td>\n",
              "      <td>1</td>\n",
              "      <td>0</td>\n",
              "      <td>No</td>\n",
              "      <td>No</td>\n",
              "      <td>0</td>\n",
              "      <td>4</td>\n",
              "      <td>No</td>\n",
              "      <td>0</td>\n",
              "      <td>30</td>\n",
              "      <td>Yes</td>\n",
              "      <td>1-Highest</td>\n",
              "      <td>Suburban</td>\n",
              "      <td>Professional</td>\n",
              "      <td>No</td>\n",
              "      <td>1</td>\n",
              "    </tr>\n",
              "    <tr>\n",
              "      <th>1</th>\n",
              "      <td>3000010</td>\n",
              "      <td>Yes</td>\n",
              "      <td>16.99</td>\n",
              "      <td>10.0</td>\n",
              "      <td>17.0</td>\n",
              "      <td>0.00</td>\n",
              "      <td>0.0</td>\n",
              "      <td>0.0</td>\n",
              "      <td>-4.0</td>\n",
              "      <td>0.0</td>\n",
              "      <td>0.3</td>\n",
              "      <td>0.0</td>\n",
              "      <td>2.7</td>\n",
              "      <td>0.0</td>\n",
              "      <td>0.0</td>\n",
              "      <td>0.0</td>\n",
              "      <td>0.0</td>\n",
              "      <td>0.0</td>\n",
              "      <td>5.0</td>\n",
              "      <td>1.0</td>\n",
              "      <td>0.3</td>\n",
              "      <td>0.0</td>\n",
              "      <td>0.0</td>\n",
              "      <td>58</td>\n",
              "      <td>1</td>\n",
              "      <td>1</td>\n",
              "      <td>PITHOM412</td>\n",
              "      <td>2.0</td>\n",
              "      <td>1.0</td>\n",
              "      <td>1504.0</td>\n",
              "      <td>40.0</td>\n",
              "      <td>42.0</td>\n",
              "      <td>Yes</td>\n",
              "      <td>No</td>\n",
              "      <td>No</td>\n",
              "      <td>No</td>\n",
              "      <td>No</td>\n",
              "      <td>Known</td>\n",
              "      <td>Yes</td>\n",
              "      <td>Yes</td>\n",
              "      <td>No</td>\n",
              "      <td>No</td>\n",
              "      <td>Yes</td>\n",
              "      <td>Yes</td>\n",
              "      <td>0</td>\n",
              "      <td>0</td>\n",
              "      <td>Yes</td>\n",
              "      <td>No</td>\n",
              "      <td>0</td>\n",
              "      <td>5</td>\n",
              "      <td>No</td>\n",
              "      <td>0</td>\n",
              "      <td>30</td>\n",
              "      <td>No</td>\n",
              "      <td>4-Medium</td>\n",
              "      <td>Suburban</td>\n",
              "      <td>Professional</td>\n",
              "      <td>Yes</td>\n",
              "      <td>1</td>\n",
              "    </tr>\n",
              "    <tr>\n",
              "      <th>2</th>\n",
              "      <td>3000014</td>\n",
              "      <td>No</td>\n",
              "      <td>38.00</td>\n",
              "      <td>8.0</td>\n",
              "      <td>38.0</td>\n",
              "      <td>0.00</td>\n",
              "      <td>0.0</td>\n",
              "      <td>0.0</td>\n",
              "      <td>-2.0</td>\n",
              "      <td>0.0</td>\n",
              "      <td>0.0</td>\n",
              "      <td>0.0</td>\n",
              "      <td>0.0</td>\n",
              "      <td>0.0</td>\n",
              "      <td>0.0</td>\n",
              "      <td>0.4</td>\n",
              "      <td>0.3</td>\n",
              "      <td>0.0</td>\n",
              "      <td>1.3</td>\n",
              "      <td>3.7</td>\n",
              "      <td>0.0</td>\n",
              "      <td>0.0</td>\n",
              "      <td>0.0</td>\n",
              "      <td>60</td>\n",
              "      <td>1</td>\n",
              "      <td>1</td>\n",
              "      <td>MILMIL414</td>\n",
              "      <td>1.0</td>\n",
              "      <td>1.0</td>\n",
              "      <td>1812.0</td>\n",
              "      <td>26.0</td>\n",
              "      <td>26.0</td>\n",
              "      <td>Yes</td>\n",
              "      <td>No</td>\n",
              "      <td>No</td>\n",
              "      <td>No</td>\n",
              "      <td>No</td>\n",
              "      <td>Unknown</td>\n",
              "      <td>No</td>\n",
              "      <td>No</td>\n",
              "      <td>No</td>\n",
              "      <td>No</td>\n",
              "      <td>No</td>\n",
              "      <td>Yes</td>\n",
              "      <td>0</td>\n",
              "      <td>0</td>\n",
              "      <td>Yes</td>\n",
              "      <td>No</td>\n",
              "      <td>0</td>\n",
              "      <td>6</td>\n",
              "      <td>No</td>\n",
              "      <td>0</td>\n",
              "      <td>30</td>\n",
              "      <td>No</td>\n",
              "      <td>3-Good</td>\n",
              "      <td>Town</td>\n",
              "      <td>Crafts</td>\n",
              "      <td>Yes</td>\n",
              "      <td>0</td>\n",
              "    </tr>\n",
              "    <tr>\n",
              "      <th>3</th>\n",
              "      <td>3000022</td>\n",
              "      <td>No</td>\n",
              "      <td>82.28</td>\n",
              "      <td>1312.0</td>\n",
              "      <td>75.0</td>\n",
              "      <td>1.24</td>\n",
              "      <td>0.0</td>\n",
              "      <td>0.0</td>\n",
              "      <td>157.0</td>\n",
              "      <td>8.1</td>\n",
              "      <td>52.0</td>\n",
              "      <td>7.7</td>\n",
              "      <td>76.0</td>\n",
              "      <td>4.3</td>\n",
              "      <td>1.3</td>\n",
              "      <td>200.3</td>\n",
              "      <td>370.3</td>\n",
              "      <td>147.0</td>\n",
              "      <td>555.7</td>\n",
              "      <td>303.7</td>\n",
              "      <td>59.7</td>\n",
              "      <td>0.0</td>\n",
              "      <td>22.7</td>\n",
              "      <td>59</td>\n",
              "      <td>2</td>\n",
              "      <td>2</td>\n",
              "      <td>PITHOM412</td>\n",
              "      <td>9.0</td>\n",
              "      <td>4.0</td>\n",
              "      <td>458.0</td>\n",
              "      <td>30.0</td>\n",
              "      <td>0.0</td>\n",
              "      <td>No</td>\n",
              "      <td>No</td>\n",
              "      <td>Yes</td>\n",
              "      <td>No</td>\n",
              "      <td>No</td>\n",
              "      <td>Known</td>\n",
              "      <td>Yes</td>\n",
              "      <td>Yes</td>\n",
              "      <td>No</td>\n",
              "      <td>No</td>\n",
              "      <td>No</td>\n",
              "      <td>Yes</td>\n",
              "      <td>0</td>\n",
              "      <td>0</td>\n",
              "      <td>Yes</td>\n",
              "      <td>No</td>\n",
              "      <td>0</td>\n",
              "      <td>6</td>\n",
              "      <td>No</td>\n",
              "      <td>0</td>\n",
              "      <td>10</td>\n",
              "      <td>No</td>\n",
              "      <td>4-Medium</td>\n",
              "      <td>Other</td>\n",
              "      <td>Other</td>\n",
              "      <td>No</td>\n",
              "      <td>0</td>\n",
              "    </tr>\n",
              "    <tr>\n",
              "      <th>4</th>\n",
              "      <td>3000026</td>\n",
              "      <td>Yes</td>\n",
              "      <td>17.14</td>\n",
              "      <td>0.0</td>\n",
              "      <td>17.0</td>\n",
              "      <td>0.00</td>\n",
              "      <td>0.0</td>\n",
              "      <td>0.0</td>\n",
              "      <td>0.0</td>\n",
              "      <td>-0.2</td>\n",
              "      <td>0.0</td>\n",
              "      <td>0.0</td>\n",
              "      <td>0.0</td>\n",
              "      <td>0.0</td>\n",
              "      <td>0.0</td>\n",
              "      <td>0.0</td>\n",
              "      <td>0.0</td>\n",
              "      <td>0.0</td>\n",
              "      <td>0.0</td>\n",
              "      <td>0.0</td>\n",
              "      <td>0.0</td>\n",
              "      <td>0.0</td>\n",
              "      <td>0.0</td>\n",
              "      <td>53</td>\n",
              "      <td>2</td>\n",
              "      <td>2</td>\n",
              "      <td>OKCTUL918</td>\n",
              "      <td>4.0</td>\n",
              "      <td>3.0</td>\n",
              "      <td>852.0</td>\n",
              "      <td>46.0</td>\n",
              "      <td>54.0</td>\n",
              "      <td>No</td>\n",
              "      <td>No</td>\n",
              "      <td>No</td>\n",
              "      <td>No</td>\n",
              "      <td>No</td>\n",
              "      <td>Known</td>\n",
              "      <td>Yes</td>\n",
              "      <td>Yes</td>\n",
              "      <td>No</td>\n",
              "      <td>No</td>\n",
              "      <td>Yes</td>\n",
              "      <td>Yes</td>\n",
              "      <td>0</td>\n",
              "      <td>0</td>\n",
              "      <td>No</td>\n",
              "      <td>Yes</td>\n",
              "      <td>0</td>\n",
              "      <td>9</td>\n",
              "      <td>No</td>\n",
              "      <td>1</td>\n",
              "      <td>10</td>\n",
              "      <td>No</td>\n",
              "      <td>1-Highest</td>\n",
              "      <td>Other</td>\n",
              "      <td>Professional</td>\n",
              "      <td>Yes</td>\n",
              "      <td>1</td>\n",
              "    </tr>\n",
              "  </tbody>\n",
              "</table>\n",
              "</div>"
            ],
            "text/plain": [
              "   CustomerID Churn  MonthlyRevenue  MonthlyMinutes  TotalRecurringCharge  \\\n",
              "0     3000002   Yes           24.00           219.0                  22.0   \n",
              "1     3000010   Yes           16.99            10.0                  17.0   \n",
              "2     3000014    No           38.00             8.0                  38.0   \n",
              "3     3000022    No           82.28          1312.0                  75.0   \n",
              "4     3000026   Yes           17.14             0.0                  17.0   \n",
              "\n",
              "   DirectorAssistedCalls  OverageMinutes  RoamingCalls  PercChangeMinutes  \\\n",
              "0                   0.25             0.0           0.0             -157.0   \n",
              "1                   0.00             0.0           0.0               -4.0   \n",
              "2                   0.00             0.0           0.0               -2.0   \n",
              "3                   1.24             0.0           0.0              157.0   \n",
              "4                   0.00             0.0           0.0                0.0   \n",
              "\n",
              "   PercChangeRevenues  DroppedCalls  BlockedCalls  UnansweredCalls  \\\n",
              "0               -19.0           0.7           0.7              6.3   \n",
              "1                 0.0           0.3           0.0              2.7   \n",
              "2                 0.0           0.0           0.0              0.0   \n",
              "3                 8.1          52.0           7.7             76.0   \n",
              "4                -0.2           0.0           0.0              0.0   \n",
              "\n",
              "   CustomerCareCalls  ThreewayCalls  ReceivedCalls  OutboundCalls  \\\n",
              "0                0.0            0.0           97.2            0.0   \n",
              "1                0.0            0.0            0.0            0.0   \n",
              "2                0.0            0.0            0.4            0.3   \n",
              "3                4.3            1.3          200.3          370.3   \n",
              "4                0.0            0.0            0.0            0.0   \n",
              "\n",
              "   InboundCalls  PeakCallsInOut  OffPeakCallsInOut  DroppedBlockedCalls  \\\n",
              "0           0.0            58.0               24.0                  1.3   \n",
              "1           0.0             5.0                1.0                  0.3   \n",
              "2           0.0             1.3                3.7                  0.0   \n",
              "3         147.0           555.7              303.7                 59.7   \n",
              "4           0.0             0.0                0.0                  0.0   \n",
              "\n",
              "   CallForwardingCalls  CallWaitingCalls  MonthsInService  UniqueSubs  \\\n",
              "0                  0.0               0.3               61           2   \n",
              "1                  0.0               0.0               58           1   \n",
              "2                  0.0               0.0               60           1   \n",
              "3                  0.0              22.7               59           2   \n",
              "4                  0.0               0.0               53           2   \n",
              "\n",
              "   ActiveSubs ServiceArea  Handsets  HandsetModels  CurrentEquipmentDays  \\\n",
              "0           1   SEAPOR503       2.0            2.0                 361.0   \n",
              "1           1   PITHOM412       2.0            1.0                1504.0   \n",
              "2           1   MILMIL414       1.0            1.0                1812.0   \n",
              "3           2   PITHOM412       9.0            4.0                 458.0   \n",
              "4           2   OKCTUL918       4.0            3.0                 852.0   \n",
              "\n",
              "   AgeHH1  AgeHH2 ChildrenInHH HandsetRefurbished HandsetWebCapable  \\\n",
              "0    62.0     0.0           No                 No               Yes   \n",
              "1    40.0    42.0          Yes                 No                No   \n",
              "2    26.0    26.0          Yes                 No                No   \n",
              "3    30.0     0.0           No                 No               Yes   \n",
              "4    46.0    54.0           No                 No                No   \n",
              "\n",
              "  TruckOwner RVOwner Homeownership BuysViaMailOrder RespondsToMailOffers  \\\n",
              "0         No      No         Known              Yes                  Yes   \n",
              "1         No      No         Known              Yes                  Yes   \n",
              "2         No      No       Unknown               No                   No   \n",
              "3         No      No         Known              Yes                  Yes   \n",
              "4         No      No         Known              Yes                  Yes   \n",
              "\n",
              "  OptOutMailings NonUSTravel OwnsComputer HasCreditCard  RetentionCalls  \\\n",
              "0             No          No          Yes           Yes               1   \n",
              "1             No          No          Yes           Yes               0   \n",
              "2             No          No           No           Yes               0   \n",
              "3             No          No           No           Yes               0   \n",
              "4             No          No          Yes           Yes               0   \n",
              "\n",
              "   RetentionOffersAccepted NewCellphoneUser NotNewCellphoneUser  \\\n",
              "0                        0               No                  No   \n",
              "1                        0              Yes                  No   \n",
              "2                        0              Yes                  No   \n",
              "3                        0              Yes                  No   \n",
              "4                        0               No                 Yes   \n",
              "\n",
              "   ReferralsMadeBySubscriber  IncomeGroup OwnsMotorcycle  \\\n",
              "0                          0            4             No   \n",
              "1                          0            5             No   \n",
              "2                          0            6             No   \n",
              "3                          0            6             No   \n",
              "4                          0            9             No   \n",
              "\n",
              "   AdjustmentsToCreditRating  HandsetPrice MadeCallToRetentionTeam  \\\n",
              "0                          0            30                     Yes   \n",
              "1                          0            30                      No   \n",
              "2                          0            30                      No   \n",
              "3                          0            10                      No   \n",
              "4                          1            10                      No   \n",
              "\n",
              "  CreditRating PrizmCode    Occupation MaritalStatus  Churn1  \n",
              "0    1-Highest  Suburban  Professional            No       1  \n",
              "1     4-Medium  Suburban  Professional           Yes       1  \n",
              "2       3-Good      Town        Crafts           Yes       0  \n",
              "3     4-Medium     Other         Other            No       0  \n",
              "4    1-Highest     Other  Professional           Yes       1  "
            ]
          },
          "metadata": {},
          "execution_count": 15
        }
      ]
    },
    {
      "cell_type": "code",
      "metadata": {
        "colab": {
          "base_uri": "https://localhost:8080/",
          "height": 223
        },
        "id": "KPEZvlat80HS",
        "outputId": "071fd6db-7376-41d2-9ae5-6368fb43c1fc"
      },
      "source": [
        "data = data.drop(['Churn','CustomerID'],axis=1)\n",
        "data.head()"
      ],
      "execution_count": null,
      "outputs": [
        {
          "output_type": "execute_result",
          "data": {
            "text/html": [
              "<div>\n",
              "<style scoped>\n",
              "    .dataframe tbody tr th:only-of-type {\n",
              "        vertical-align: middle;\n",
              "    }\n",
              "\n",
              "    .dataframe tbody tr th {\n",
              "        vertical-align: top;\n",
              "    }\n",
              "\n",
              "    .dataframe thead th {\n",
              "        text-align: right;\n",
              "    }\n",
              "</style>\n",
              "<table border=\"1\" class=\"dataframe\">\n",
              "  <thead>\n",
              "    <tr style=\"text-align: right;\">\n",
              "      <th></th>\n",
              "      <th>MonthlyRevenue</th>\n",
              "      <th>MonthlyMinutes</th>\n",
              "      <th>TotalRecurringCharge</th>\n",
              "      <th>DirectorAssistedCalls</th>\n",
              "      <th>OverageMinutes</th>\n",
              "      <th>RoamingCalls</th>\n",
              "      <th>PercChangeMinutes</th>\n",
              "      <th>PercChangeRevenues</th>\n",
              "      <th>DroppedCalls</th>\n",
              "      <th>BlockedCalls</th>\n",
              "      <th>UnansweredCalls</th>\n",
              "      <th>CustomerCareCalls</th>\n",
              "      <th>ThreewayCalls</th>\n",
              "      <th>ReceivedCalls</th>\n",
              "      <th>OutboundCalls</th>\n",
              "      <th>InboundCalls</th>\n",
              "      <th>PeakCallsInOut</th>\n",
              "      <th>OffPeakCallsInOut</th>\n",
              "      <th>DroppedBlockedCalls</th>\n",
              "      <th>CallForwardingCalls</th>\n",
              "      <th>CallWaitingCalls</th>\n",
              "      <th>MonthsInService</th>\n",
              "      <th>UniqueSubs</th>\n",
              "      <th>ActiveSubs</th>\n",
              "      <th>ServiceArea</th>\n",
              "      <th>Handsets</th>\n",
              "      <th>HandsetModels</th>\n",
              "      <th>CurrentEquipmentDays</th>\n",
              "      <th>AgeHH1</th>\n",
              "      <th>AgeHH2</th>\n",
              "      <th>ChildrenInHH</th>\n",
              "      <th>HandsetRefurbished</th>\n",
              "      <th>HandsetWebCapable</th>\n",
              "      <th>TruckOwner</th>\n",
              "      <th>RVOwner</th>\n",
              "      <th>Homeownership</th>\n",
              "      <th>BuysViaMailOrder</th>\n",
              "      <th>RespondsToMailOffers</th>\n",
              "      <th>OptOutMailings</th>\n",
              "      <th>NonUSTravel</th>\n",
              "      <th>OwnsComputer</th>\n",
              "      <th>HasCreditCard</th>\n",
              "      <th>RetentionCalls</th>\n",
              "      <th>RetentionOffersAccepted</th>\n",
              "      <th>NewCellphoneUser</th>\n",
              "      <th>NotNewCellphoneUser</th>\n",
              "      <th>ReferralsMadeBySubscriber</th>\n",
              "      <th>IncomeGroup</th>\n",
              "      <th>OwnsMotorcycle</th>\n",
              "      <th>AdjustmentsToCreditRating</th>\n",
              "      <th>HandsetPrice</th>\n",
              "      <th>MadeCallToRetentionTeam</th>\n",
              "      <th>CreditRating</th>\n",
              "      <th>PrizmCode</th>\n",
              "      <th>Occupation</th>\n",
              "      <th>MaritalStatus</th>\n",
              "      <th>Churn1</th>\n",
              "    </tr>\n",
              "  </thead>\n",
              "  <tbody>\n",
              "    <tr>\n",
              "      <th>0</th>\n",
              "      <td>24.00</td>\n",
              "      <td>219.0</td>\n",
              "      <td>22.0</td>\n",
              "      <td>0.25</td>\n",
              "      <td>0.0</td>\n",
              "      <td>0.0</td>\n",
              "      <td>-157.0</td>\n",
              "      <td>-19.0</td>\n",
              "      <td>0.7</td>\n",
              "      <td>0.7</td>\n",
              "      <td>6.3</td>\n",
              "      <td>0.0</td>\n",
              "      <td>0.0</td>\n",
              "      <td>97.2</td>\n",
              "      <td>0.0</td>\n",
              "      <td>0.0</td>\n",
              "      <td>58.0</td>\n",
              "      <td>24.0</td>\n",
              "      <td>1.3</td>\n",
              "      <td>0.0</td>\n",
              "      <td>0.3</td>\n",
              "      <td>61</td>\n",
              "      <td>2</td>\n",
              "      <td>1</td>\n",
              "      <td>SEAPOR503</td>\n",
              "      <td>2.0</td>\n",
              "      <td>2.0</td>\n",
              "      <td>361.0</td>\n",
              "      <td>62.0</td>\n",
              "      <td>0.0</td>\n",
              "      <td>No</td>\n",
              "      <td>No</td>\n",
              "      <td>Yes</td>\n",
              "      <td>No</td>\n",
              "      <td>No</td>\n",
              "      <td>Known</td>\n",
              "      <td>Yes</td>\n",
              "      <td>Yes</td>\n",
              "      <td>No</td>\n",
              "      <td>No</td>\n",
              "      <td>Yes</td>\n",
              "      <td>Yes</td>\n",
              "      <td>1</td>\n",
              "      <td>0</td>\n",
              "      <td>No</td>\n",
              "      <td>No</td>\n",
              "      <td>0</td>\n",
              "      <td>4</td>\n",
              "      <td>No</td>\n",
              "      <td>0</td>\n",
              "      <td>30</td>\n",
              "      <td>Yes</td>\n",
              "      <td>1-Highest</td>\n",
              "      <td>Suburban</td>\n",
              "      <td>Professional</td>\n",
              "      <td>No</td>\n",
              "      <td>1</td>\n",
              "    </tr>\n",
              "    <tr>\n",
              "      <th>1</th>\n",
              "      <td>16.99</td>\n",
              "      <td>10.0</td>\n",
              "      <td>17.0</td>\n",
              "      <td>0.00</td>\n",
              "      <td>0.0</td>\n",
              "      <td>0.0</td>\n",
              "      <td>-4.0</td>\n",
              "      <td>0.0</td>\n",
              "      <td>0.3</td>\n",
              "      <td>0.0</td>\n",
              "      <td>2.7</td>\n",
              "      <td>0.0</td>\n",
              "      <td>0.0</td>\n",
              "      <td>0.0</td>\n",
              "      <td>0.0</td>\n",
              "      <td>0.0</td>\n",
              "      <td>5.0</td>\n",
              "      <td>1.0</td>\n",
              "      <td>0.3</td>\n",
              "      <td>0.0</td>\n",
              "      <td>0.0</td>\n",
              "      <td>58</td>\n",
              "      <td>1</td>\n",
              "      <td>1</td>\n",
              "      <td>PITHOM412</td>\n",
              "      <td>2.0</td>\n",
              "      <td>1.0</td>\n",
              "      <td>1504.0</td>\n",
              "      <td>40.0</td>\n",
              "      <td>42.0</td>\n",
              "      <td>Yes</td>\n",
              "      <td>No</td>\n",
              "      <td>No</td>\n",
              "      <td>No</td>\n",
              "      <td>No</td>\n",
              "      <td>Known</td>\n",
              "      <td>Yes</td>\n",
              "      <td>Yes</td>\n",
              "      <td>No</td>\n",
              "      <td>No</td>\n",
              "      <td>Yes</td>\n",
              "      <td>Yes</td>\n",
              "      <td>0</td>\n",
              "      <td>0</td>\n",
              "      <td>Yes</td>\n",
              "      <td>No</td>\n",
              "      <td>0</td>\n",
              "      <td>5</td>\n",
              "      <td>No</td>\n",
              "      <td>0</td>\n",
              "      <td>30</td>\n",
              "      <td>No</td>\n",
              "      <td>4-Medium</td>\n",
              "      <td>Suburban</td>\n",
              "      <td>Professional</td>\n",
              "      <td>Yes</td>\n",
              "      <td>1</td>\n",
              "    </tr>\n",
              "    <tr>\n",
              "      <th>2</th>\n",
              "      <td>38.00</td>\n",
              "      <td>8.0</td>\n",
              "      <td>38.0</td>\n",
              "      <td>0.00</td>\n",
              "      <td>0.0</td>\n",
              "      <td>0.0</td>\n",
              "      <td>-2.0</td>\n",
              "      <td>0.0</td>\n",
              "      <td>0.0</td>\n",
              "      <td>0.0</td>\n",
              "      <td>0.0</td>\n",
              "      <td>0.0</td>\n",
              "      <td>0.0</td>\n",
              "      <td>0.4</td>\n",
              "      <td>0.3</td>\n",
              "      <td>0.0</td>\n",
              "      <td>1.3</td>\n",
              "      <td>3.7</td>\n",
              "      <td>0.0</td>\n",
              "      <td>0.0</td>\n",
              "      <td>0.0</td>\n",
              "      <td>60</td>\n",
              "      <td>1</td>\n",
              "      <td>1</td>\n",
              "      <td>MILMIL414</td>\n",
              "      <td>1.0</td>\n",
              "      <td>1.0</td>\n",
              "      <td>1812.0</td>\n",
              "      <td>26.0</td>\n",
              "      <td>26.0</td>\n",
              "      <td>Yes</td>\n",
              "      <td>No</td>\n",
              "      <td>No</td>\n",
              "      <td>No</td>\n",
              "      <td>No</td>\n",
              "      <td>Unknown</td>\n",
              "      <td>No</td>\n",
              "      <td>No</td>\n",
              "      <td>No</td>\n",
              "      <td>No</td>\n",
              "      <td>No</td>\n",
              "      <td>Yes</td>\n",
              "      <td>0</td>\n",
              "      <td>0</td>\n",
              "      <td>Yes</td>\n",
              "      <td>No</td>\n",
              "      <td>0</td>\n",
              "      <td>6</td>\n",
              "      <td>No</td>\n",
              "      <td>0</td>\n",
              "      <td>30</td>\n",
              "      <td>No</td>\n",
              "      <td>3-Good</td>\n",
              "      <td>Town</td>\n",
              "      <td>Crafts</td>\n",
              "      <td>Yes</td>\n",
              "      <td>0</td>\n",
              "    </tr>\n",
              "    <tr>\n",
              "      <th>3</th>\n",
              "      <td>82.28</td>\n",
              "      <td>1312.0</td>\n",
              "      <td>75.0</td>\n",
              "      <td>1.24</td>\n",
              "      <td>0.0</td>\n",
              "      <td>0.0</td>\n",
              "      <td>157.0</td>\n",
              "      <td>8.1</td>\n",
              "      <td>52.0</td>\n",
              "      <td>7.7</td>\n",
              "      <td>76.0</td>\n",
              "      <td>4.3</td>\n",
              "      <td>1.3</td>\n",
              "      <td>200.3</td>\n",
              "      <td>370.3</td>\n",
              "      <td>147.0</td>\n",
              "      <td>555.7</td>\n",
              "      <td>303.7</td>\n",
              "      <td>59.7</td>\n",
              "      <td>0.0</td>\n",
              "      <td>22.7</td>\n",
              "      <td>59</td>\n",
              "      <td>2</td>\n",
              "      <td>2</td>\n",
              "      <td>PITHOM412</td>\n",
              "      <td>9.0</td>\n",
              "      <td>4.0</td>\n",
              "      <td>458.0</td>\n",
              "      <td>30.0</td>\n",
              "      <td>0.0</td>\n",
              "      <td>No</td>\n",
              "      <td>No</td>\n",
              "      <td>Yes</td>\n",
              "      <td>No</td>\n",
              "      <td>No</td>\n",
              "      <td>Known</td>\n",
              "      <td>Yes</td>\n",
              "      <td>Yes</td>\n",
              "      <td>No</td>\n",
              "      <td>No</td>\n",
              "      <td>No</td>\n",
              "      <td>Yes</td>\n",
              "      <td>0</td>\n",
              "      <td>0</td>\n",
              "      <td>Yes</td>\n",
              "      <td>No</td>\n",
              "      <td>0</td>\n",
              "      <td>6</td>\n",
              "      <td>No</td>\n",
              "      <td>0</td>\n",
              "      <td>10</td>\n",
              "      <td>No</td>\n",
              "      <td>4-Medium</td>\n",
              "      <td>Other</td>\n",
              "      <td>Other</td>\n",
              "      <td>No</td>\n",
              "      <td>0</td>\n",
              "    </tr>\n",
              "    <tr>\n",
              "      <th>4</th>\n",
              "      <td>17.14</td>\n",
              "      <td>0.0</td>\n",
              "      <td>17.0</td>\n",
              "      <td>0.00</td>\n",
              "      <td>0.0</td>\n",
              "      <td>0.0</td>\n",
              "      <td>0.0</td>\n",
              "      <td>-0.2</td>\n",
              "      <td>0.0</td>\n",
              "      <td>0.0</td>\n",
              "      <td>0.0</td>\n",
              "      <td>0.0</td>\n",
              "      <td>0.0</td>\n",
              "      <td>0.0</td>\n",
              "      <td>0.0</td>\n",
              "      <td>0.0</td>\n",
              "      <td>0.0</td>\n",
              "      <td>0.0</td>\n",
              "      <td>0.0</td>\n",
              "      <td>0.0</td>\n",
              "      <td>0.0</td>\n",
              "      <td>53</td>\n",
              "      <td>2</td>\n",
              "      <td>2</td>\n",
              "      <td>OKCTUL918</td>\n",
              "      <td>4.0</td>\n",
              "      <td>3.0</td>\n",
              "      <td>852.0</td>\n",
              "      <td>46.0</td>\n",
              "      <td>54.0</td>\n",
              "      <td>No</td>\n",
              "      <td>No</td>\n",
              "      <td>No</td>\n",
              "      <td>No</td>\n",
              "      <td>No</td>\n",
              "      <td>Known</td>\n",
              "      <td>Yes</td>\n",
              "      <td>Yes</td>\n",
              "      <td>No</td>\n",
              "      <td>No</td>\n",
              "      <td>Yes</td>\n",
              "      <td>Yes</td>\n",
              "      <td>0</td>\n",
              "      <td>0</td>\n",
              "      <td>No</td>\n",
              "      <td>Yes</td>\n",
              "      <td>0</td>\n",
              "      <td>9</td>\n",
              "      <td>No</td>\n",
              "      <td>1</td>\n",
              "      <td>10</td>\n",
              "      <td>No</td>\n",
              "      <td>1-Highest</td>\n",
              "      <td>Other</td>\n",
              "      <td>Professional</td>\n",
              "      <td>Yes</td>\n",
              "      <td>1</td>\n",
              "    </tr>\n",
              "  </tbody>\n",
              "</table>\n",
              "</div>"
            ],
            "text/plain": [
              "   MonthlyRevenue  MonthlyMinutes  TotalRecurringCharge  \\\n",
              "0           24.00           219.0                  22.0   \n",
              "1           16.99            10.0                  17.0   \n",
              "2           38.00             8.0                  38.0   \n",
              "3           82.28          1312.0                  75.0   \n",
              "4           17.14             0.0                  17.0   \n",
              "\n",
              "   DirectorAssistedCalls  OverageMinutes  RoamingCalls  PercChangeMinutes  \\\n",
              "0                   0.25             0.0           0.0             -157.0   \n",
              "1                   0.00             0.0           0.0               -4.0   \n",
              "2                   0.00             0.0           0.0               -2.0   \n",
              "3                   1.24             0.0           0.0              157.0   \n",
              "4                   0.00             0.0           0.0                0.0   \n",
              "\n",
              "   PercChangeRevenues  DroppedCalls  BlockedCalls  UnansweredCalls  \\\n",
              "0               -19.0           0.7           0.7              6.3   \n",
              "1                 0.0           0.3           0.0              2.7   \n",
              "2                 0.0           0.0           0.0              0.0   \n",
              "3                 8.1          52.0           7.7             76.0   \n",
              "4                -0.2           0.0           0.0              0.0   \n",
              "\n",
              "   CustomerCareCalls  ThreewayCalls  ReceivedCalls  OutboundCalls  \\\n",
              "0                0.0            0.0           97.2            0.0   \n",
              "1                0.0            0.0            0.0            0.0   \n",
              "2                0.0            0.0            0.4            0.3   \n",
              "3                4.3            1.3          200.3          370.3   \n",
              "4                0.0            0.0            0.0            0.0   \n",
              "\n",
              "   InboundCalls  PeakCallsInOut  OffPeakCallsInOut  DroppedBlockedCalls  \\\n",
              "0           0.0            58.0               24.0                  1.3   \n",
              "1           0.0             5.0                1.0                  0.3   \n",
              "2           0.0             1.3                3.7                  0.0   \n",
              "3         147.0           555.7              303.7                 59.7   \n",
              "4           0.0             0.0                0.0                  0.0   \n",
              "\n",
              "   CallForwardingCalls  CallWaitingCalls  MonthsInService  UniqueSubs  \\\n",
              "0                  0.0               0.3               61           2   \n",
              "1                  0.0               0.0               58           1   \n",
              "2                  0.0               0.0               60           1   \n",
              "3                  0.0              22.7               59           2   \n",
              "4                  0.0               0.0               53           2   \n",
              "\n",
              "   ActiveSubs ServiceArea  Handsets  HandsetModels  CurrentEquipmentDays  \\\n",
              "0           1   SEAPOR503       2.0            2.0                 361.0   \n",
              "1           1   PITHOM412       2.0            1.0                1504.0   \n",
              "2           1   MILMIL414       1.0            1.0                1812.0   \n",
              "3           2   PITHOM412       9.0            4.0                 458.0   \n",
              "4           2   OKCTUL918       4.0            3.0                 852.0   \n",
              "\n",
              "   AgeHH1  AgeHH2 ChildrenInHH HandsetRefurbished HandsetWebCapable  \\\n",
              "0    62.0     0.0           No                 No               Yes   \n",
              "1    40.0    42.0          Yes                 No                No   \n",
              "2    26.0    26.0          Yes                 No                No   \n",
              "3    30.0     0.0           No                 No               Yes   \n",
              "4    46.0    54.0           No                 No                No   \n",
              "\n",
              "  TruckOwner RVOwner Homeownership BuysViaMailOrder RespondsToMailOffers  \\\n",
              "0         No      No         Known              Yes                  Yes   \n",
              "1         No      No         Known              Yes                  Yes   \n",
              "2         No      No       Unknown               No                   No   \n",
              "3         No      No         Known              Yes                  Yes   \n",
              "4         No      No         Known              Yes                  Yes   \n",
              "\n",
              "  OptOutMailings NonUSTravel OwnsComputer HasCreditCard  RetentionCalls  \\\n",
              "0             No          No          Yes           Yes               1   \n",
              "1             No          No          Yes           Yes               0   \n",
              "2             No          No           No           Yes               0   \n",
              "3             No          No           No           Yes               0   \n",
              "4             No          No          Yes           Yes               0   \n",
              "\n",
              "   RetentionOffersAccepted NewCellphoneUser NotNewCellphoneUser  \\\n",
              "0                        0               No                  No   \n",
              "1                        0              Yes                  No   \n",
              "2                        0              Yes                  No   \n",
              "3                        0              Yes                  No   \n",
              "4                        0               No                 Yes   \n",
              "\n",
              "   ReferralsMadeBySubscriber  IncomeGroup OwnsMotorcycle  \\\n",
              "0                          0            4             No   \n",
              "1                          0            5             No   \n",
              "2                          0            6             No   \n",
              "3                          0            6             No   \n",
              "4                          0            9             No   \n",
              "\n",
              "   AdjustmentsToCreditRating  HandsetPrice MadeCallToRetentionTeam  \\\n",
              "0                          0            30                     Yes   \n",
              "1                          0            30                      No   \n",
              "2                          0            30                      No   \n",
              "3                          0            10                      No   \n",
              "4                          1            10                      No   \n",
              "\n",
              "  CreditRating PrizmCode    Occupation MaritalStatus  Churn1  \n",
              "0    1-Highest  Suburban  Professional            No       1  \n",
              "1     4-Medium  Suburban  Professional           Yes       1  \n",
              "2       3-Good      Town        Crafts           Yes       0  \n",
              "3     4-Medium     Other         Other            No       0  \n",
              "4    1-Highest     Other  Professional           Yes       1  "
            ]
          },
          "metadata": {},
          "execution_count": 16
        }
      ]
    },
    {
      "cell_type": "code",
      "metadata": {
        "colab": {
          "base_uri": "https://localhost:8080/"
        },
        "id": "gBy9DImh9E_n",
        "outputId": "b6ee1bc2-a731-4531-8548-f03d87457b56"
      },
      "source": [
        "categorical_feature = [feature for feature in data.columns if data[feature].dtype == 'O']\n",
        "features_na = [feature for feature in data.columns if data[feature].isnull().sum() > 0 and data[feature].dtype == 'O']\n",
        "features_na\n",
        "for feature in features_na:\n",
        "  print(\"{} {} % missing value\" .format(feature,np.round(data[feature].isnull().mean(),4)))"
      ],
      "execution_count": null,
      "outputs": [
        {
          "output_type": "execute_result",
          "data": {
            "text/plain": [
              "['ServiceArea']"
            ]
          },
          "metadata": {},
          "execution_count": 17
        },
        {
          "output_type": "stream",
          "name": "stdout",
          "text": [
            "ServiceArea 0.0005 % missing value\n"
          ]
        }
      ]
    },
    {
      "cell_type": "code",
      "metadata": {
        "colab": {
          "base_uri": "https://localhost:8080/"
        },
        "id": "doHNQee19E6s",
        "outputId": "85416385-f011-4779-ad9f-545f465a1ba3"
      },
      "source": [
        "## filling missing values of featyre \"Service area\" \n",
        "data['ServiceArea']=data['ServiceArea'].fillna('Missing')\n",
        "data['ServiceArea'].isnull().sum()\n"
      ],
      "execution_count": null,
      "outputs": [
        {
          "output_type": "execute_result",
          "data": {
            "text/plain": [
              "0"
            ]
          },
          "metadata": {},
          "execution_count": 18
        }
      ]
    },
    {
      "cell_type": "markdown",
      "metadata": {
        "id": "_5RvSNVs-Lcg"
      },
      "source": [
        "###Handling Missing Values(Numeric Variable)"
      ]
    },
    {
      "cell_type": "code",
      "metadata": {
        "colab": {
          "base_uri": "https://localhost:8080/"
        },
        "id": "aILYz2_H9E2F",
        "outputId": "1cce965e-bffb-4f18-8c73-97062053fac8"
      },
      "source": [
        "numeric_na = [feature for feature in data.columns if data[feature].isnull().sum() > 0 and data[feature].dtype != 'O']\n",
        "numeric_na\n",
        "for feature in numeric_na:\n",
        "  print(\"{} {} % missing value\" .format(feature,np.round(data[feature].isnull().mean(),4)))"
      ],
      "execution_count": null,
      "outputs": [
        {
          "output_type": "execute_result",
          "data": {
            "text/plain": [
              "['MonthlyRevenue',\n",
              " 'MonthlyMinutes',\n",
              " 'TotalRecurringCharge',\n",
              " 'DirectorAssistedCalls',\n",
              " 'OverageMinutes',\n",
              " 'RoamingCalls',\n",
              " 'PercChangeMinutes',\n",
              " 'PercChangeRevenues',\n",
              " 'Handsets',\n",
              " 'HandsetModels',\n",
              " 'CurrentEquipmentDays',\n",
              " 'AgeHH1',\n",
              " 'AgeHH2']"
            ]
          },
          "metadata": {},
          "execution_count": 19
        },
        {
          "output_type": "stream",
          "name": "stdout",
          "text": [
            "MonthlyRevenue 0.0031 % missing value\n",
            "MonthlyMinutes 0.0031 % missing value\n",
            "TotalRecurringCharge 0.0031 % missing value\n",
            "DirectorAssistedCalls 0.0031 % missing value\n",
            "OverageMinutes 0.0031 % missing value\n",
            "RoamingCalls 0.0031 % missing value\n",
            "PercChangeMinutes 0.0072 % missing value\n",
            "PercChangeRevenues 0.0072 % missing value\n",
            "Handsets 0.0 % missing value\n",
            "HandsetModels 0.0 % missing value\n",
            "CurrentEquipmentDays 0.0 % missing value\n",
            "AgeHH1 0.0178 % missing value\n",
            "AgeHH2 0.0178 % missing value\n"
          ]
        }
      ]
    },
    {
      "cell_type": "code",
      "metadata": {
        "colab": {
          "base_uri": "https://localhost:8080/"
        },
        "id": "Rqc-A1Ah9Eqv",
        "outputId": "071ada4b-97ac-4686-fe47-4d695bdf43a5"
      },
      "source": [
        "## Replacing numeric missing values\n",
        "for feature in numeric_na:\n",
        "  median_value = data[feature].median()\n",
        "  data[feature+'nan']=np.where(data[feature].isnull(),1,0)\n",
        "  data[feature].fillna(median_value,inplace=True)\n",
        "for feature in numeric_na:\n",
        " print(feature,data[feature].isnull().sum())  "
      ],
      "execution_count": null,
      "outputs": [
        {
          "output_type": "stream",
          "name": "stdout",
          "text": [
            "MonthlyRevenue 0\n",
            "MonthlyMinutes 0\n",
            "TotalRecurringCharge 0\n",
            "DirectorAssistedCalls 0\n",
            "OverageMinutes 0\n",
            "RoamingCalls 0\n",
            "PercChangeMinutes 0\n",
            "PercChangeRevenues 0\n",
            "Handsets 0\n",
            "HandsetModels 0\n",
            "CurrentEquipmentDays 0\n",
            "AgeHH1 0\n",
            "AgeHH2 0\n"
          ]
        }
      ]
    },
    {
      "cell_type": "markdown",
      "metadata": {
        "id": "ymzav7qn-o93"
      },
      "source": [
        "###Handling Rare Categorical Feature"
      ]
    },
    {
      "cell_type": "code",
      "metadata": {
        "id": "RV56VVJ--rll"
      },
      "source": [
        "for feature in categorical_feature:\n",
        "  temp = data.groupby(feature)['Churn1'].count()/len(data)\n",
        "  temp_df = temp[temp>0.001].index\n",
        "  data[feature]=np.where(data[feature].isin(temp_df),data[feature],'Rare_var')"
      ],
      "execution_count": null,
      "outputs": []
    },
    {
      "cell_type": "markdown",
      "metadata": {
        "id": "2J1Bns81_DRy"
      },
      "source": [
        "###Handling Numeric Feature"
      ]
    },
    {
      "cell_type": "code",
      "metadata": {
        "colab": {
          "base_uri": "https://localhost:8080/",
          "height": 377
        },
        "id": "Oibi4Yet_KbZ",
        "outputId": "05ab2d72-a522-4f02-8052-2f17b905f4fa"
      },
      "source": [
        "data.head(10)"
      ],
      "execution_count": null,
      "outputs": [
        {
          "output_type": "execute_result",
          "data": {
            "text/html": [
              "<div>\n",
              "<style scoped>\n",
              "    .dataframe tbody tr th:only-of-type {\n",
              "        vertical-align: middle;\n",
              "    }\n",
              "\n",
              "    .dataframe tbody tr th {\n",
              "        vertical-align: top;\n",
              "    }\n",
              "\n",
              "    .dataframe thead th {\n",
              "        text-align: right;\n",
              "    }\n",
              "</style>\n",
              "<table border=\"1\" class=\"dataframe\">\n",
              "  <thead>\n",
              "    <tr style=\"text-align: right;\">\n",
              "      <th></th>\n",
              "      <th>MonthlyRevenue</th>\n",
              "      <th>MonthlyMinutes</th>\n",
              "      <th>TotalRecurringCharge</th>\n",
              "      <th>DirectorAssistedCalls</th>\n",
              "      <th>OverageMinutes</th>\n",
              "      <th>RoamingCalls</th>\n",
              "      <th>PercChangeMinutes</th>\n",
              "      <th>PercChangeRevenues</th>\n",
              "      <th>DroppedCalls</th>\n",
              "      <th>BlockedCalls</th>\n",
              "      <th>UnansweredCalls</th>\n",
              "      <th>CustomerCareCalls</th>\n",
              "      <th>ThreewayCalls</th>\n",
              "      <th>ReceivedCalls</th>\n",
              "      <th>OutboundCalls</th>\n",
              "      <th>InboundCalls</th>\n",
              "      <th>PeakCallsInOut</th>\n",
              "      <th>OffPeakCallsInOut</th>\n",
              "      <th>DroppedBlockedCalls</th>\n",
              "      <th>CallForwardingCalls</th>\n",
              "      <th>CallWaitingCalls</th>\n",
              "      <th>MonthsInService</th>\n",
              "      <th>UniqueSubs</th>\n",
              "      <th>ActiveSubs</th>\n",
              "      <th>ServiceArea</th>\n",
              "      <th>Handsets</th>\n",
              "      <th>HandsetModels</th>\n",
              "      <th>CurrentEquipmentDays</th>\n",
              "      <th>AgeHH1</th>\n",
              "      <th>AgeHH2</th>\n",
              "      <th>ChildrenInHH</th>\n",
              "      <th>HandsetRefurbished</th>\n",
              "      <th>HandsetWebCapable</th>\n",
              "      <th>TruckOwner</th>\n",
              "      <th>RVOwner</th>\n",
              "      <th>Homeownership</th>\n",
              "      <th>BuysViaMailOrder</th>\n",
              "      <th>RespondsToMailOffers</th>\n",
              "      <th>OptOutMailings</th>\n",
              "      <th>NonUSTravel</th>\n",
              "      <th>OwnsComputer</th>\n",
              "      <th>HasCreditCard</th>\n",
              "      <th>RetentionCalls</th>\n",
              "      <th>RetentionOffersAccepted</th>\n",
              "      <th>NewCellphoneUser</th>\n",
              "      <th>NotNewCellphoneUser</th>\n",
              "      <th>ReferralsMadeBySubscriber</th>\n",
              "      <th>IncomeGroup</th>\n",
              "      <th>OwnsMotorcycle</th>\n",
              "      <th>AdjustmentsToCreditRating</th>\n",
              "      <th>HandsetPrice</th>\n",
              "      <th>MadeCallToRetentionTeam</th>\n",
              "      <th>CreditRating</th>\n",
              "      <th>PrizmCode</th>\n",
              "      <th>Occupation</th>\n",
              "      <th>MaritalStatus</th>\n",
              "      <th>Churn1</th>\n",
              "      <th>MonthlyRevenuenan</th>\n",
              "      <th>MonthlyMinutesnan</th>\n",
              "      <th>TotalRecurringChargenan</th>\n",
              "      <th>DirectorAssistedCallsnan</th>\n",
              "      <th>OverageMinutesnan</th>\n",
              "      <th>RoamingCallsnan</th>\n",
              "      <th>PercChangeMinutesnan</th>\n",
              "      <th>PercChangeRevenuesnan</th>\n",
              "      <th>Handsetsnan</th>\n",
              "      <th>HandsetModelsnan</th>\n",
              "      <th>CurrentEquipmentDaysnan</th>\n",
              "      <th>AgeHH1nan</th>\n",
              "      <th>AgeHH2nan</th>\n",
              "    </tr>\n",
              "  </thead>\n",
              "  <tbody>\n",
              "    <tr>\n",
              "      <th>0</th>\n",
              "      <td>24.00</td>\n",
              "      <td>219.0</td>\n",
              "      <td>22.0</td>\n",
              "      <td>0.25</td>\n",
              "      <td>0.0</td>\n",
              "      <td>0.0</td>\n",
              "      <td>-157.0</td>\n",
              "      <td>-19.0</td>\n",
              "      <td>0.7</td>\n",
              "      <td>0.7</td>\n",
              "      <td>6.3</td>\n",
              "      <td>0.0</td>\n",
              "      <td>0.0</td>\n",
              "      <td>97.2</td>\n",
              "      <td>0.0</td>\n",
              "      <td>0.0</td>\n",
              "      <td>58.0</td>\n",
              "      <td>24.0</td>\n",
              "      <td>1.3</td>\n",
              "      <td>0.0</td>\n",
              "      <td>0.3</td>\n",
              "      <td>61</td>\n",
              "      <td>2</td>\n",
              "      <td>1</td>\n",
              "      <td>SEAPOR503</td>\n",
              "      <td>2.0</td>\n",
              "      <td>2.0</td>\n",
              "      <td>361.0</td>\n",
              "      <td>62.0</td>\n",
              "      <td>0.0</td>\n",
              "      <td>No</td>\n",
              "      <td>No</td>\n",
              "      <td>Yes</td>\n",
              "      <td>No</td>\n",
              "      <td>No</td>\n",
              "      <td>Known</td>\n",
              "      <td>Yes</td>\n",
              "      <td>Yes</td>\n",
              "      <td>No</td>\n",
              "      <td>No</td>\n",
              "      <td>Yes</td>\n",
              "      <td>Yes</td>\n",
              "      <td>1</td>\n",
              "      <td>0</td>\n",
              "      <td>No</td>\n",
              "      <td>No</td>\n",
              "      <td>0</td>\n",
              "      <td>4</td>\n",
              "      <td>No</td>\n",
              "      <td>0</td>\n",
              "      <td>30</td>\n",
              "      <td>Yes</td>\n",
              "      <td>1-Highest</td>\n",
              "      <td>Suburban</td>\n",
              "      <td>Professional</td>\n",
              "      <td>No</td>\n",
              "      <td>1</td>\n",
              "      <td>0</td>\n",
              "      <td>0</td>\n",
              "      <td>0</td>\n",
              "      <td>0</td>\n",
              "      <td>0</td>\n",
              "      <td>0</td>\n",
              "      <td>0</td>\n",
              "      <td>0</td>\n",
              "      <td>0</td>\n",
              "      <td>0</td>\n",
              "      <td>0</td>\n",
              "      <td>0</td>\n",
              "      <td>0</td>\n",
              "    </tr>\n",
              "    <tr>\n",
              "      <th>1</th>\n",
              "      <td>16.99</td>\n",
              "      <td>10.0</td>\n",
              "      <td>17.0</td>\n",
              "      <td>0.00</td>\n",
              "      <td>0.0</td>\n",
              "      <td>0.0</td>\n",
              "      <td>-4.0</td>\n",
              "      <td>0.0</td>\n",
              "      <td>0.3</td>\n",
              "      <td>0.0</td>\n",
              "      <td>2.7</td>\n",
              "      <td>0.0</td>\n",
              "      <td>0.0</td>\n",
              "      <td>0.0</td>\n",
              "      <td>0.0</td>\n",
              "      <td>0.0</td>\n",
              "      <td>5.0</td>\n",
              "      <td>1.0</td>\n",
              "      <td>0.3</td>\n",
              "      <td>0.0</td>\n",
              "      <td>0.0</td>\n",
              "      <td>58</td>\n",
              "      <td>1</td>\n",
              "      <td>1</td>\n",
              "      <td>PITHOM412</td>\n",
              "      <td>2.0</td>\n",
              "      <td>1.0</td>\n",
              "      <td>1504.0</td>\n",
              "      <td>40.0</td>\n",
              "      <td>42.0</td>\n",
              "      <td>Yes</td>\n",
              "      <td>No</td>\n",
              "      <td>No</td>\n",
              "      <td>No</td>\n",
              "      <td>No</td>\n",
              "      <td>Known</td>\n",
              "      <td>Yes</td>\n",
              "      <td>Yes</td>\n",
              "      <td>No</td>\n",
              "      <td>No</td>\n",
              "      <td>Yes</td>\n",
              "      <td>Yes</td>\n",
              "      <td>0</td>\n",
              "      <td>0</td>\n",
              "      <td>Yes</td>\n",
              "      <td>No</td>\n",
              "      <td>0</td>\n",
              "      <td>5</td>\n",
              "      <td>No</td>\n",
              "      <td>0</td>\n",
              "      <td>30</td>\n",
              "      <td>No</td>\n",
              "      <td>4-Medium</td>\n",
              "      <td>Suburban</td>\n",
              "      <td>Professional</td>\n",
              "      <td>Yes</td>\n",
              "      <td>1</td>\n",
              "      <td>0</td>\n",
              "      <td>0</td>\n",
              "      <td>0</td>\n",
              "      <td>0</td>\n",
              "      <td>0</td>\n",
              "      <td>0</td>\n",
              "      <td>0</td>\n",
              "      <td>0</td>\n",
              "      <td>0</td>\n",
              "      <td>0</td>\n",
              "      <td>0</td>\n",
              "      <td>0</td>\n",
              "      <td>0</td>\n",
              "    </tr>\n",
              "    <tr>\n",
              "      <th>2</th>\n",
              "      <td>38.00</td>\n",
              "      <td>8.0</td>\n",
              "      <td>38.0</td>\n",
              "      <td>0.00</td>\n",
              "      <td>0.0</td>\n",
              "      <td>0.0</td>\n",
              "      <td>-2.0</td>\n",
              "      <td>0.0</td>\n",
              "      <td>0.0</td>\n",
              "      <td>0.0</td>\n",
              "      <td>0.0</td>\n",
              "      <td>0.0</td>\n",
              "      <td>0.0</td>\n",
              "      <td>0.4</td>\n",
              "      <td>0.3</td>\n",
              "      <td>0.0</td>\n",
              "      <td>1.3</td>\n",
              "      <td>3.7</td>\n",
              "      <td>0.0</td>\n",
              "      <td>0.0</td>\n",
              "      <td>0.0</td>\n",
              "      <td>60</td>\n",
              "      <td>1</td>\n",
              "      <td>1</td>\n",
              "      <td>MILMIL414</td>\n",
              "      <td>1.0</td>\n",
              "      <td>1.0</td>\n",
              "      <td>1812.0</td>\n",
              "      <td>26.0</td>\n",
              "      <td>26.0</td>\n",
              "      <td>Yes</td>\n",
              "      <td>No</td>\n",
              "      <td>No</td>\n",
              "      <td>No</td>\n",
              "      <td>No</td>\n",
              "      <td>Unknown</td>\n",
              "      <td>No</td>\n",
              "      <td>No</td>\n",
              "      <td>No</td>\n",
              "      <td>No</td>\n",
              "      <td>No</td>\n",
              "      <td>Yes</td>\n",
              "      <td>0</td>\n",
              "      <td>0</td>\n",
              "      <td>Yes</td>\n",
              "      <td>No</td>\n",
              "      <td>0</td>\n",
              "      <td>6</td>\n",
              "      <td>No</td>\n",
              "      <td>0</td>\n",
              "      <td>30</td>\n",
              "      <td>No</td>\n",
              "      <td>3-Good</td>\n",
              "      <td>Town</td>\n",
              "      <td>Crafts</td>\n",
              "      <td>Yes</td>\n",
              "      <td>0</td>\n",
              "      <td>0</td>\n",
              "      <td>0</td>\n",
              "      <td>0</td>\n",
              "      <td>0</td>\n",
              "      <td>0</td>\n",
              "      <td>0</td>\n",
              "      <td>0</td>\n",
              "      <td>0</td>\n",
              "      <td>0</td>\n",
              "      <td>0</td>\n",
              "      <td>0</td>\n",
              "      <td>0</td>\n",
              "      <td>0</td>\n",
              "    </tr>\n",
              "    <tr>\n",
              "      <th>3</th>\n",
              "      <td>82.28</td>\n",
              "      <td>1312.0</td>\n",
              "      <td>75.0</td>\n",
              "      <td>1.24</td>\n",
              "      <td>0.0</td>\n",
              "      <td>0.0</td>\n",
              "      <td>157.0</td>\n",
              "      <td>8.1</td>\n",
              "      <td>52.0</td>\n",
              "      <td>7.7</td>\n",
              "      <td>76.0</td>\n",
              "      <td>4.3</td>\n",
              "      <td>1.3</td>\n",
              "      <td>200.3</td>\n",
              "      <td>370.3</td>\n",
              "      <td>147.0</td>\n",
              "      <td>555.7</td>\n",
              "      <td>303.7</td>\n",
              "      <td>59.7</td>\n",
              "      <td>0.0</td>\n",
              "      <td>22.7</td>\n",
              "      <td>59</td>\n",
              "      <td>2</td>\n",
              "      <td>2</td>\n",
              "      <td>PITHOM412</td>\n",
              "      <td>9.0</td>\n",
              "      <td>4.0</td>\n",
              "      <td>458.0</td>\n",
              "      <td>30.0</td>\n",
              "      <td>0.0</td>\n",
              "      <td>No</td>\n",
              "      <td>No</td>\n",
              "      <td>Yes</td>\n",
              "      <td>No</td>\n",
              "      <td>No</td>\n",
              "      <td>Known</td>\n",
              "      <td>Yes</td>\n",
              "      <td>Yes</td>\n",
              "      <td>No</td>\n",
              "      <td>No</td>\n",
              "      <td>No</td>\n",
              "      <td>Yes</td>\n",
              "      <td>0</td>\n",
              "      <td>0</td>\n",
              "      <td>Yes</td>\n",
              "      <td>No</td>\n",
              "      <td>0</td>\n",
              "      <td>6</td>\n",
              "      <td>No</td>\n",
              "      <td>0</td>\n",
              "      <td>10</td>\n",
              "      <td>No</td>\n",
              "      <td>4-Medium</td>\n",
              "      <td>Other</td>\n",
              "      <td>Other</td>\n",
              "      <td>No</td>\n",
              "      <td>0</td>\n",
              "      <td>0</td>\n",
              "      <td>0</td>\n",
              "      <td>0</td>\n",
              "      <td>0</td>\n",
              "      <td>0</td>\n",
              "      <td>0</td>\n",
              "      <td>0</td>\n",
              "      <td>0</td>\n",
              "      <td>0</td>\n",
              "      <td>0</td>\n",
              "      <td>0</td>\n",
              "      <td>0</td>\n",
              "      <td>0</td>\n",
              "    </tr>\n",
              "    <tr>\n",
              "      <th>4</th>\n",
              "      <td>17.14</td>\n",
              "      <td>0.0</td>\n",
              "      <td>17.0</td>\n",
              "      <td>0.00</td>\n",
              "      <td>0.0</td>\n",
              "      <td>0.0</td>\n",
              "      <td>0.0</td>\n",
              "      <td>-0.2</td>\n",
              "      <td>0.0</td>\n",
              "      <td>0.0</td>\n",
              "      <td>0.0</td>\n",
              "      <td>0.0</td>\n",
              "      <td>0.0</td>\n",
              "      <td>0.0</td>\n",
              "      <td>0.0</td>\n",
              "      <td>0.0</td>\n",
              "      <td>0.0</td>\n",
              "      <td>0.0</td>\n",
              "      <td>0.0</td>\n",
              "      <td>0.0</td>\n",
              "      <td>0.0</td>\n",
              "      <td>53</td>\n",
              "      <td>2</td>\n",
              "      <td>2</td>\n",
              "      <td>OKCTUL918</td>\n",
              "      <td>4.0</td>\n",
              "      <td>3.0</td>\n",
              "      <td>852.0</td>\n",
              "      <td>46.0</td>\n",
              "      <td>54.0</td>\n",
              "      <td>No</td>\n",
              "      <td>No</td>\n",
              "      <td>No</td>\n",
              "      <td>No</td>\n",
              "      <td>No</td>\n",
              "      <td>Known</td>\n",
              "      <td>Yes</td>\n",
              "      <td>Yes</td>\n",
              "      <td>No</td>\n",
              "      <td>No</td>\n",
              "      <td>Yes</td>\n",
              "      <td>Yes</td>\n",
              "      <td>0</td>\n",
              "      <td>0</td>\n",
              "      <td>No</td>\n",
              "      <td>Yes</td>\n",
              "      <td>0</td>\n",
              "      <td>9</td>\n",
              "      <td>No</td>\n",
              "      <td>1</td>\n",
              "      <td>10</td>\n",
              "      <td>No</td>\n",
              "      <td>1-Highest</td>\n",
              "      <td>Other</td>\n",
              "      <td>Professional</td>\n",
              "      <td>Yes</td>\n",
              "      <td>1</td>\n",
              "      <td>0</td>\n",
              "      <td>0</td>\n",
              "      <td>0</td>\n",
              "      <td>0</td>\n",
              "      <td>0</td>\n",
              "      <td>0</td>\n",
              "      <td>0</td>\n",
              "      <td>0</td>\n",
              "      <td>0</td>\n",
              "      <td>0</td>\n",
              "      <td>0</td>\n",
              "      <td>0</td>\n",
              "      <td>0</td>\n",
              "    </tr>\n",
              "    <tr>\n",
              "      <th>5</th>\n",
              "      <td>38.05</td>\n",
              "      <td>682.0</td>\n",
              "      <td>52.0</td>\n",
              "      <td>0.25</td>\n",
              "      <td>0.0</td>\n",
              "      <td>0.0</td>\n",
              "      <td>148.0</td>\n",
              "      <td>-3.1</td>\n",
              "      <td>9.0</td>\n",
              "      <td>1.7</td>\n",
              "      <td>13.0</td>\n",
              "      <td>0.7</td>\n",
              "      <td>0.0</td>\n",
              "      <td>42.2</td>\n",
              "      <td>6.7</td>\n",
              "      <td>0.0</td>\n",
              "      <td>33.3</td>\n",
              "      <td>53.0</td>\n",
              "      <td>10.7</td>\n",
              "      <td>0.0</td>\n",
              "      <td>0.7</td>\n",
              "      <td>53</td>\n",
              "      <td>1</td>\n",
              "      <td>1</td>\n",
              "      <td>OKCTUL918</td>\n",
              "      <td>3.0</td>\n",
              "      <td>2.0</td>\n",
              "      <td>231.0</td>\n",
              "      <td>28.0</td>\n",
              "      <td>0.0</td>\n",
              "      <td>No</td>\n",
              "      <td>No</td>\n",
              "      <td>Yes</td>\n",
              "      <td>No</td>\n",
              "      <td>No</td>\n",
              "      <td>Known</td>\n",
              "      <td>No</td>\n",
              "      <td>No</td>\n",
              "      <td>No</td>\n",
              "      <td>Yes</td>\n",
              "      <td>No</td>\n",
              "      <td>Yes</td>\n",
              "      <td>0</td>\n",
              "      <td>0</td>\n",
              "      <td>Yes</td>\n",
              "      <td>No</td>\n",
              "      <td>0</td>\n",
              "      <td>1</td>\n",
              "      <td>No</td>\n",
              "      <td>1</td>\n",
              "      <td>30</td>\n",
              "      <td>No</td>\n",
              "      <td>3-Good</td>\n",
              "      <td>Other</td>\n",
              "      <td>Other</td>\n",
              "      <td>Yes</td>\n",
              "      <td>0</td>\n",
              "      <td>0</td>\n",
              "      <td>0</td>\n",
              "      <td>0</td>\n",
              "      <td>0</td>\n",
              "      <td>0</td>\n",
              "      <td>0</td>\n",
              "      <td>0</td>\n",
              "      <td>0</td>\n",
              "      <td>0</td>\n",
              "      <td>0</td>\n",
              "      <td>0</td>\n",
              "      <td>0</td>\n",
              "      <td>0</td>\n",
              "    </tr>\n",
              "    <tr>\n",
              "      <th>6</th>\n",
              "      <td>31.66</td>\n",
              "      <td>26.0</td>\n",
              "      <td>30.0</td>\n",
              "      <td>0.25</td>\n",
              "      <td>0.0</td>\n",
              "      <td>0.0</td>\n",
              "      <td>60.0</td>\n",
              "      <td>4.0</td>\n",
              "      <td>0.0</td>\n",
              "      <td>1.0</td>\n",
              "      <td>2.3</td>\n",
              "      <td>0.0</td>\n",
              "      <td>0.0</td>\n",
              "      <td>0.0</td>\n",
              "      <td>0.0</td>\n",
              "      <td>0.0</td>\n",
              "      <td>1.7</td>\n",
              "      <td>1.7</td>\n",
              "      <td>1.0</td>\n",
              "      <td>0.0</td>\n",
              "      <td>0.0</td>\n",
              "      <td>57</td>\n",
              "      <td>2</td>\n",
              "      <td>2</td>\n",
              "      <td>OKCTUL918</td>\n",
              "      <td>2.0</td>\n",
              "      <td>2.0</td>\n",
              "      <td>601.0</td>\n",
              "      <td>52.0</td>\n",
              "      <td>58.0</td>\n",
              "      <td>No</td>\n",
              "      <td>No</td>\n",
              "      <td>Yes</td>\n",
              "      <td>No</td>\n",
              "      <td>No</td>\n",
              "      <td>Known</td>\n",
              "      <td>Yes</td>\n",
              "      <td>Yes</td>\n",
              "      <td>No</td>\n",
              "      <td>Yes</td>\n",
              "      <td>No</td>\n",
              "      <td>Yes</td>\n",
              "      <td>0</td>\n",
              "      <td>0</td>\n",
              "      <td>No</td>\n",
              "      <td>Yes</td>\n",
              "      <td>0</td>\n",
              "      <td>9</td>\n",
              "      <td>No</td>\n",
              "      <td>1</td>\n",
              "      <td>30</td>\n",
              "      <td>No</td>\n",
              "      <td>1-Highest</td>\n",
              "      <td>Other</td>\n",
              "      <td>Self</td>\n",
              "      <td>Yes</td>\n",
              "      <td>0</td>\n",
              "      <td>0</td>\n",
              "      <td>0</td>\n",
              "      <td>0</td>\n",
              "      <td>0</td>\n",
              "      <td>0</td>\n",
              "      <td>0</td>\n",
              "      <td>0</td>\n",
              "      <td>0</td>\n",
              "      <td>0</td>\n",
              "      <td>0</td>\n",
              "      <td>0</td>\n",
              "      <td>0</td>\n",
              "      <td>0</td>\n",
              "    </tr>\n",
              "    <tr>\n",
              "      <th>7</th>\n",
              "      <td>62.13</td>\n",
              "      <td>98.0</td>\n",
              "      <td>66.0</td>\n",
              "      <td>2.48</td>\n",
              "      <td>0.0</td>\n",
              "      <td>0.0</td>\n",
              "      <td>24.0</td>\n",
              "      <td>6.8</td>\n",
              "      <td>0.0</td>\n",
              "      <td>0.3</td>\n",
              "      <td>4.0</td>\n",
              "      <td>4.0</td>\n",
              "      <td>0.0</td>\n",
              "      <td>0.0</td>\n",
              "      <td>3.7</td>\n",
              "      <td>0.0</td>\n",
              "      <td>7.7</td>\n",
              "      <td>7.3</td>\n",
              "      <td>0.3</td>\n",
              "      <td>0.0</td>\n",
              "      <td>0.0</td>\n",
              "      <td>59</td>\n",
              "      <td>2</td>\n",
              "      <td>2</td>\n",
              "      <td>OKCOKC405</td>\n",
              "      <td>3.0</td>\n",
              "      <td>3.0</td>\n",
              "      <td>464.0</td>\n",
              "      <td>46.0</td>\n",
              "      <td>46.0</td>\n",
              "      <td>Yes</td>\n",
              "      <td>No</td>\n",
              "      <td>Yes</td>\n",
              "      <td>No</td>\n",
              "      <td>No</td>\n",
              "      <td>Known</td>\n",
              "      <td>Yes</td>\n",
              "      <td>Yes</td>\n",
              "      <td>No</td>\n",
              "      <td>No</td>\n",
              "      <td>No</td>\n",
              "      <td>Yes</td>\n",
              "      <td>0</td>\n",
              "      <td>0</td>\n",
              "      <td>Yes</td>\n",
              "      <td>No</td>\n",
              "      <td>0</td>\n",
              "      <td>6</td>\n",
              "      <td>No</td>\n",
              "      <td>0</td>\n",
              "      <td>30</td>\n",
              "      <td>No</td>\n",
              "      <td>1-Highest</td>\n",
              "      <td>Other</td>\n",
              "      <td>Professional</td>\n",
              "      <td>No</td>\n",
              "      <td>0</td>\n",
              "      <td>0</td>\n",
              "      <td>0</td>\n",
              "      <td>0</td>\n",
              "      <td>0</td>\n",
              "      <td>0</td>\n",
              "      <td>0</td>\n",
              "      <td>0</td>\n",
              "      <td>0</td>\n",
              "      <td>0</td>\n",
              "      <td>0</td>\n",
              "      <td>0</td>\n",
              "      <td>0</td>\n",
              "      <td>0</td>\n",
              "    </tr>\n",
              "    <tr>\n",
              "      <th>8</th>\n",
              "      <td>35.30</td>\n",
              "      <td>24.0</td>\n",
              "      <td>35.0</td>\n",
              "      <td>0.00</td>\n",
              "      <td>0.0</td>\n",
              "      <td>0.0</td>\n",
              "      <td>20.0</td>\n",
              "      <td>-0.3</td>\n",
              "      <td>0.0</td>\n",
              "      <td>0.0</td>\n",
              "      <td>1.0</td>\n",
              "      <td>0.0</td>\n",
              "      <td>0.0</td>\n",
              "      <td>2.4</td>\n",
              "      <td>4.0</td>\n",
              "      <td>1.7</td>\n",
              "      <td>9.3</td>\n",
              "      <td>1.7</td>\n",
              "      <td>0.0</td>\n",
              "      <td>0.0</td>\n",
              "      <td>0.0</td>\n",
              "      <td>53</td>\n",
              "      <td>3</td>\n",
              "      <td>3</td>\n",
              "      <td>SANMCA210</td>\n",
              "      <td>4.0</td>\n",
              "      <td>3.0</td>\n",
              "      <td>544.0</td>\n",
              "      <td>36.0</td>\n",
              "      <td>34.0</td>\n",
              "      <td>Yes</td>\n",
              "      <td>No</td>\n",
              "      <td>Yes</td>\n",
              "      <td>No</td>\n",
              "      <td>No</td>\n",
              "      <td>Known</td>\n",
              "      <td>No</td>\n",
              "      <td>No</td>\n",
              "      <td>No</td>\n",
              "      <td>No</td>\n",
              "      <td>No</td>\n",
              "      <td>Yes</td>\n",
              "      <td>0</td>\n",
              "      <td>0</td>\n",
              "      <td>Yes</td>\n",
              "      <td>No</td>\n",
              "      <td>0</td>\n",
              "      <td>9</td>\n",
              "      <td>No</td>\n",
              "      <td>0</td>\n",
              "      <td>80</td>\n",
              "      <td>No</td>\n",
              "      <td>1-Highest</td>\n",
              "      <td>Other</td>\n",
              "      <td>Other</td>\n",
              "      <td>Yes</td>\n",
              "      <td>0</td>\n",
              "      <td>0</td>\n",
              "      <td>0</td>\n",
              "      <td>0</td>\n",
              "      <td>0</td>\n",
              "      <td>0</td>\n",
              "      <td>0</td>\n",
              "      <td>0</td>\n",
              "      <td>0</td>\n",
              "      <td>0</td>\n",
              "      <td>0</td>\n",
              "      <td>0</td>\n",
              "      <td>0</td>\n",
              "      <td>0</td>\n",
              "    </tr>\n",
              "    <tr>\n",
              "      <th>9</th>\n",
              "      <td>81.00</td>\n",
              "      <td>1056.0</td>\n",
              "      <td>75.0</td>\n",
              "      <td>0.00</td>\n",
              "      <td>0.0</td>\n",
              "      <td>0.0</td>\n",
              "      <td>43.0</td>\n",
              "      <td>2.4</td>\n",
              "      <td>0.0</td>\n",
              "      <td>0.0</td>\n",
              "      <td>0.0</td>\n",
              "      <td>0.0</td>\n",
              "      <td>0.0</td>\n",
              "      <td>0.0</td>\n",
              "      <td>0.0</td>\n",
              "      <td>0.0</td>\n",
              "      <td>0.0</td>\n",
              "      <td>0.0</td>\n",
              "      <td>0.0</td>\n",
              "      <td>0.0</td>\n",
              "      <td>0.0</td>\n",
              "      <td>55</td>\n",
              "      <td>1</td>\n",
              "      <td>1</td>\n",
              "      <td>PITHOM412</td>\n",
              "      <td>9.0</td>\n",
              "      <td>5.0</td>\n",
              "      <td>388.0</td>\n",
              "      <td>46.0</td>\n",
              "      <td>68.0</td>\n",
              "      <td>No</td>\n",
              "      <td>No</td>\n",
              "      <td>Yes</td>\n",
              "      <td>No</td>\n",
              "      <td>No</td>\n",
              "      <td>Known</td>\n",
              "      <td>No</td>\n",
              "      <td>No</td>\n",
              "      <td>No</td>\n",
              "      <td>No</td>\n",
              "      <td>Yes</td>\n",
              "      <td>Yes</td>\n",
              "      <td>0</td>\n",
              "      <td>0</td>\n",
              "      <td>Yes</td>\n",
              "      <td>No</td>\n",
              "      <td>0</td>\n",
              "      <td>5</td>\n",
              "      <td>No</td>\n",
              "      <td>1</td>\n",
              "      <td>30</td>\n",
              "      <td>No</td>\n",
              "      <td>3-Good</td>\n",
              "      <td>Other</td>\n",
              "      <td>Professional</td>\n",
              "      <td>No</td>\n",
              "      <td>0</td>\n",
              "      <td>0</td>\n",
              "      <td>0</td>\n",
              "      <td>0</td>\n",
              "      <td>0</td>\n",
              "      <td>0</td>\n",
              "      <td>0</td>\n",
              "      <td>0</td>\n",
              "      <td>0</td>\n",
              "      <td>0</td>\n",
              "      <td>0</td>\n",
              "      <td>0</td>\n",
              "      <td>0</td>\n",
              "      <td>0</td>\n",
              "    </tr>\n",
              "  </tbody>\n",
              "</table>\n",
              "</div>"
            ],
            "text/plain": [
              "   MonthlyRevenue  MonthlyMinutes  TotalRecurringCharge  \\\n",
              "0           24.00           219.0                  22.0   \n",
              "1           16.99            10.0                  17.0   \n",
              "2           38.00             8.0                  38.0   \n",
              "3           82.28          1312.0                  75.0   \n",
              "4           17.14             0.0                  17.0   \n",
              "5           38.05           682.0                  52.0   \n",
              "6           31.66            26.0                  30.0   \n",
              "7           62.13            98.0                  66.0   \n",
              "8           35.30            24.0                  35.0   \n",
              "9           81.00          1056.0                  75.0   \n",
              "\n",
              "   DirectorAssistedCalls  OverageMinutes  RoamingCalls  PercChangeMinutes  \\\n",
              "0                   0.25             0.0           0.0             -157.0   \n",
              "1                   0.00             0.0           0.0               -4.0   \n",
              "2                   0.00             0.0           0.0               -2.0   \n",
              "3                   1.24             0.0           0.0              157.0   \n",
              "4                   0.00             0.0           0.0                0.0   \n",
              "5                   0.25             0.0           0.0              148.0   \n",
              "6                   0.25             0.0           0.0               60.0   \n",
              "7                   2.48             0.0           0.0               24.0   \n",
              "8                   0.00             0.0           0.0               20.0   \n",
              "9                   0.00             0.0           0.0               43.0   \n",
              "\n",
              "   PercChangeRevenues  DroppedCalls  BlockedCalls  UnansweredCalls  \\\n",
              "0               -19.0           0.7           0.7              6.3   \n",
              "1                 0.0           0.3           0.0              2.7   \n",
              "2                 0.0           0.0           0.0              0.0   \n",
              "3                 8.1          52.0           7.7             76.0   \n",
              "4                -0.2           0.0           0.0              0.0   \n",
              "5                -3.1           9.0           1.7             13.0   \n",
              "6                 4.0           0.0           1.0              2.3   \n",
              "7                 6.8           0.0           0.3              4.0   \n",
              "8                -0.3           0.0           0.0              1.0   \n",
              "9                 2.4           0.0           0.0              0.0   \n",
              "\n",
              "   CustomerCareCalls  ThreewayCalls  ReceivedCalls  OutboundCalls  \\\n",
              "0                0.0            0.0           97.2            0.0   \n",
              "1                0.0            0.0            0.0            0.0   \n",
              "2                0.0            0.0            0.4            0.3   \n",
              "3                4.3            1.3          200.3          370.3   \n",
              "4                0.0            0.0            0.0            0.0   \n",
              "5                0.7            0.0           42.2            6.7   \n",
              "6                0.0            0.0            0.0            0.0   \n",
              "7                4.0            0.0            0.0            3.7   \n",
              "8                0.0            0.0            2.4            4.0   \n",
              "9                0.0            0.0            0.0            0.0   \n",
              "\n",
              "   InboundCalls  PeakCallsInOut  OffPeakCallsInOut  DroppedBlockedCalls  \\\n",
              "0           0.0            58.0               24.0                  1.3   \n",
              "1           0.0             5.0                1.0                  0.3   \n",
              "2           0.0             1.3                3.7                  0.0   \n",
              "3         147.0           555.7              303.7                 59.7   \n",
              "4           0.0             0.0                0.0                  0.0   \n",
              "5           0.0            33.3               53.0                 10.7   \n",
              "6           0.0             1.7                1.7                  1.0   \n",
              "7           0.0             7.7                7.3                  0.3   \n",
              "8           1.7             9.3                1.7                  0.0   \n",
              "9           0.0             0.0                0.0                  0.0   \n",
              "\n",
              "   CallForwardingCalls  CallWaitingCalls  MonthsInService  UniqueSubs  \\\n",
              "0                  0.0               0.3               61           2   \n",
              "1                  0.0               0.0               58           1   \n",
              "2                  0.0               0.0               60           1   \n",
              "3                  0.0              22.7               59           2   \n",
              "4                  0.0               0.0               53           2   \n",
              "5                  0.0               0.7               53           1   \n",
              "6                  0.0               0.0               57           2   \n",
              "7                  0.0               0.0               59           2   \n",
              "8                  0.0               0.0               53           3   \n",
              "9                  0.0               0.0               55           1   \n",
              "\n",
              "   ActiveSubs ServiceArea  Handsets  HandsetModels  CurrentEquipmentDays  \\\n",
              "0           1   SEAPOR503       2.0            2.0                 361.0   \n",
              "1           1   PITHOM412       2.0            1.0                1504.0   \n",
              "2           1   MILMIL414       1.0            1.0                1812.0   \n",
              "3           2   PITHOM412       9.0            4.0                 458.0   \n",
              "4           2   OKCTUL918       4.0            3.0                 852.0   \n",
              "5           1   OKCTUL918       3.0            2.0                 231.0   \n",
              "6           2   OKCTUL918       2.0            2.0                 601.0   \n",
              "7           2   OKCOKC405       3.0            3.0                 464.0   \n",
              "8           3   SANMCA210       4.0            3.0                 544.0   \n",
              "9           1   PITHOM412       9.0            5.0                 388.0   \n",
              "\n",
              "   AgeHH1  AgeHH2 ChildrenInHH HandsetRefurbished HandsetWebCapable  \\\n",
              "0    62.0     0.0           No                 No               Yes   \n",
              "1    40.0    42.0          Yes                 No                No   \n",
              "2    26.0    26.0          Yes                 No                No   \n",
              "3    30.0     0.0           No                 No               Yes   \n",
              "4    46.0    54.0           No                 No                No   \n",
              "5    28.0     0.0           No                 No               Yes   \n",
              "6    52.0    58.0           No                 No               Yes   \n",
              "7    46.0    46.0          Yes                 No               Yes   \n",
              "8    36.0    34.0          Yes                 No               Yes   \n",
              "9    46.0    68.0           No                 No               Yes   \n",
              "\n",
              "  TruckOwner RVOwner Homeownership BuysViaMailOrder RespondsToMailOffers  \\\n",
              "0         No      No         Known              Yes                  Yes   \n",
              "1         No      No         Known              Yes                  Yes   \n",
              "2         No      No       Unknown               No                   No   \n",
              "3         No      No         Known              Yes                  Yes   \n",
              "4         No      No         Known              Yes                  Yes   \n",
              "5         No      No         Known               No                   No   \n",
              "6         No      No         Known              Yes                  Yes   \n",
              "7         No      No         Known              Yes                  Yes   \n",
              "8         No      No         Known               No                   No   \n",
              "9         No      No         Known               No                   No   \n",
              "\n",
              "  OptOutMailings NonUSTravel OwnsComputer HasCreditCard  RetentionCalls  \\\n",
              "0             No          No          Yes           Yes               1   \n",
              "1             No          No          Yes           Yes               0   \n",
              "2             No          No           No           Yes               0   \n",
              "3             No          No           No           Yes               0   \n",
              "4             No          No          Yes           Yes               0   \n",
              "5             No         Yes           No           Yes               0   \n",
              "6             No         Yes           No           Yes               0   \n",
              "7             No          No           No           Yes               0   \n",
              "8             No          No           No           Yes               0   \n",
              "9             No          No          Yes           Yes               0   \n",
              "\n",
              "   RetentionOffersAccepted NewCellphoneUser NotNewCellphoneUser  \\\n",
              "0                        0               No                  No   \n",
              "1                        0              Yes                  No   \n",
              "2                        0              Yes                  No   \n",
              "3                        0              Yes                  No   \n",
              "4                        0               No                 Yes   \n",
              "5                        0              Yes                  No   \n",
              "6                        0               No                 Yes   \n",
              "7                        0              Yes                  No   \n",
              "8                        0              Yes                  No   \n",
              "9                        0              Yes                  No   \n",
              "\n",
              "   ReferralsMadeBySubscriber  IncomeGroup OwnsMotorcycle  \\\n",
              "0                          0            4             No   \n",
              "1                          0            5             No   \n",
              "2                          0            6             No   \n",
              "3                          0            6             No   \n",
              "4                          0            9             No   \n",
              "5                          0            1             No   \n",
              "6                          0            9             No   \n",
              "7                          0            6             No   \n",
              "8                          0            9             No   \n",
              "9                          0            5             No   \n",
              "\n",
              "   AdjustmentsToCreditRating  HandsetPrice MadeCallToRetentionTeam  \\\n",
              "0                          0            30                     Yes   \n",
              "1                          0            30                      No   \n",
              "2                          0            30                      No   \n",
              "3                          0            10                      No   \n",
              "4                          1            10                      No   \n",
              "5                          1            30                      No   \n",
              "6                          1            30                      No   \n",
              "7                          0            30                      No   \n",
              "8                          0            80                      No   \n",
              "9                          1            30                      No   \n",
              "\n",
              "  CreditRating PrizmCode    Occupation MaritalStatus  Churn1  \\\n",
              "0    1-Highest  Suburban  Professional            No       1   \n",
              "1     4-Medium  Suburban  Professional           Yes       1   \n",
              "2       3-Good      Town        Crafts           Yes       0   \n",
              "3     4-Medium     Other         Other            No       0   \n",
              "4    1-Highest     Other  Professional           Yes       1   \n",
              "5       3-Good     Other         Other           Yes       0   \n",
              "6    1-Highest     Other          Self           Yes       0   \n",
              "7    1-Highest     Other  Professional            No       0   \n",
              "8    1-Highest     Other         Other           Yes       0   \n",
              "9       3-Good     Other  Professional            No       0   \n",
              "\n",
              "   MonthlyRevenuenan  MonthlyMinutesnan  TotalRecurringChargenan  \\\n",
              "0                  0                  0                        0   \n",
              "1                  0                  0                        0   \n",
              "2                  0                  0                        0   \n",
              "3                  0                  0                        0   \n",
              "4                  0                  0                        0   \n",
              "5                  0                  0                        0   \n",
              "6                  0                  0                        0   \n",
              "7                  0                  0                        0   \n",
              "8                  0                  0                        0   \n",
              "9                  0                  0                        0   \n",
              "\n",
              "   DirectorAssistedCallsnan  OverageMinutesnan  RoamingCallsnan  \\\n",
              "0                         0                  0                0   \n",
              "1                         0                  0                0   \n",
              "2                         0                  0                0   \n",
              "3                         0                  0                0   \n",
              "4                         0                  0                0   \n",
              "5                         0                  0                0   \n",
              "6                         0                  0                0   \n",
              "7                         0                  0                0   \n",
              "8                         0                  0                0   \n",
              "9                         0                  0                0   \n",
              "\n",
              "   PercChangeMinutesnan  PercChangeRevenuesnan  Handsetsnan  HandsetModelsnan  \\\n",
              "0                     0                      0            0                 0   \n",
              "1                     0                      0            0                 0   \n",
              "2                     0                      0            0                 0   \n",
              "3                     0                      0            0                 0   \n",
              "4                     0                      0            0                 0   \n",
              "5                     0                      0            0                 0   \n",
              "6                     0                      0            0                 0   \n",
              "7                     0                      0            0                 0   \n",
              "8                     0                      0            0                 0   \n",
              "9                     0                      0            0                 0   \n",
              "\n",
              "   CurrentEquipmentDaysnan  AgeHH1nan  AgeHH2nan  \n",
              "0                        0          0          0  \n",
              "1                        0          0          0  \n",
              "2                        0          0          0  \n",
              "3                        0          0          0  \n",
              "4                        0          0          0  \n",
              "5                        0          0          0  \n",
              "6                        0          0          0  \n",
              "7                        0          0          0  \n",
              "8                        0          0          0  \n",
              "9                        0          0          0  "
            ]
          },
          "metadata": {},
          "execution_count": 22
        }
      ]
    },
    {
      "cell_type": "code",
      "metadata": {
        "colab": {
          "base_uri": "https://localhost:8080/"
        },
        "id": "YTozDTaxC96q",
        "outputId": "09442452-e699-4b72-8cbb-f03d581bd2f9"
      },
      "source": [
        "numeric_feature1 = [feature for feature in data.columns if data[feature].dtype != 'O']\n",
        "discrete_feature = [feature for feature in numeric_feature1 if len(data[feature].unique())<25 ]\n",
        "continous_feature1 = [feature for feature in numeric_feature1 if feature not in discrete_feature ]\n",
        "continous_feature1"
      ],
      "execution_count": null,
      "outputs": [
        {
          "output_type": "execute_result",
          "data": {
            "text/plain": [
              "['MonthlyRevenue',\n",
              " 'MonthlyMinutes',\n",
              " 'TotalRecurringCharge',\n",
              " 'DirectorAssistedCalls',\n",
              " 'OverageMinutes',\n",
              " 'RoamingCalls',\n",
              " 'PercChangeMinutes',\n",
              " 'PercChangeRevenues',\n",
              " 'DroppedCalls',\n",
              " 'BlockedCalls',\n",
              " 'UnansweredCalls',\n",
              " 'CustomerCareCalls',\n",
              " 'ThreewayCalls',\n",
              " 'ReceivedCalls',\n",
              " 'OutboundCalls',\n",
              " 'InboundCalls',\n",
              " 'PeakCallsInOut',\n",
              " 'OffPeakCallsInOut',\n",
              " 'DroppedBlockedCalls',\n",
              " 'CallForwardingCalls',\n",
              " 'CallWaitingCalls',\n",
              " 'MonthsInService',\n",
              " 'CurrentEquipmentDays',\n",
              " 'AgeHH1',\n",
              " 'AgeHH2']"
            ]
          },
          "metadata": {},
          "execution_count": 23
        }
      ]
    },
    {
      "cell_type": "markdown",
      "metadata": {
        "id": "JZjpUllSH4zJ"
      },
      "source": [
        "### Handling Categorical Feature"
      ]
    },
    {
      "cell_type": "code",
      "metadata": {
        "colab": {
          "base_uri": "https://localhost:8080/"
        },
        "id": "hn83HB_rH3_J",
        "outputId": "b5ecefdf-3d89-4195-ec12-056a82336ef0"
      },
      "source": [
        "categorical_feature\n"
      ],
      "execution_count": null,
      "outputs": [
        {
          "output_type": "execute_result",
          "data": {
            "text/plain": [
              "['ServiceArea',\n",
              " 'ChildrenInHH',\n",
              " 'HandsetRefurbished',\n",
              " 'HandsetWebCapable',\n",
              " 'TruckOwner',\n",
              " 'RVOwner',\n",
              " 'Homeownership',\n",
              " 'BuysViaMailOrder',\n",
              " 'RespondsToMailOffers',\n",
              " 'OptOutMailings',\n",
              " 'NonUSTravel',\n",
              " 'OwnsComputer',\n",
              " 'HasCreditCard',\n",
              " 'NewCellphoneUser',\n",
              " 'NotNewCellphoneUser',\n",
              " 'OwnsMotorcycle',\n",
              " 'MadeCallToRetentionTeam',\n",
              " 'CreditRating',\n",
              " 'PrizmCode',\n",
              " 'Occupation',\n",
              " 'MaritalStatus']"
            ]
          },
          "metadata": {},
          "execution_count": 24
        }
      ]
    },
    {
      "cell_type": "code",
      "metadata": {
        "colab": {
          "base_uri": "https://localhost:8080/",
          "height": 223
        },
        "id": "6E_VYNvzI7QH",
        "outputId": "ee8d9033-4412-4db5-992c-cdfc6ad30ae7"
      },
      "source": [
        "telecom_cust['ServiceArea']=telecom_cust['ServiceArea'].fillna('Missing')\n",
        "data['Churn2']=telecom_cust['Churn1']\n",
        "data.head()"
      ],
      "execution_count": null,
      "outputs": [
        {
          "output_type": "execute_result",
          "data": {
            "text/html": [
              "<div>\n",
              "<style scoped>\n",
              "    .dataframe tbody tr th:only-of-type {\n",
              "        vertical-align: middle;\n",
              "    }\n",
              "\n",
              "    .dataframe tbody tr th {\n",
              "        vertical-align: top;\n",
              "    }\n",
              "\n",
              "    .dataframe thead th {\n",
              "        text-align: right;\n",
              "    }\n",
              "</style>\n",
              "<table border=\"1\" class=\"dataframe\">\n",
              "  <thead>\n",
              "    <tr style=\"text-align: right;\">\n",
              "      <th></th>\n",
              "      <th>MonthlyRevenue</th>\n",
              "      <th>MonthlyMinutes</th>\n",
              "      <th>TotalRecurringCharge</th>\n",
              "      <th>DirectorAssistedCalls</th>\n",
              "      <th>OverageMinutes</th>\n",
              "      <th>RoamingCalls</th>\n",
              "      <th>PercChangeMinutes</th>\n",
              "      <th>PercChangeRevenues</th>\n",
              "      <th>DroppedCalls</th>\n",
              "      <th>BlockedCalls</th>\n",
              "      <th>UnansweredCalls</th>\n",
              "      <th>CustomerCareCalls</th>\n",
              "      <th>ThreewayCalls</th>\n",
              "      <th>ReceivedCalls</th>\n",
              "      <th>OutboundCalls</th>\n",
              "      <th>InboundCalls</th>\n",
              "      <th>PeakCallsInOut</th>\n",
              "      <th>OffPeakCallsInOut</th>\n",
              "      <th>DroppedBlockedCalls</th>\n",
              "      <th>CallForwardingCalls</th>\n",
              "      <th>CallWaitingCalls</th>\n",
              "      <th>MonthsInService</th>\n",
              "      <th>UniqueSubs</th>\n",
              "      <th>ActiveSubs</th>\n",
              "      <th>ServiceArea</th>\n",
              "      <th>Handsets</th>\n",
              "      <th>HandsetModels</th>\n",
              "      <th>CurrentEquipmentDays</th>\n",
              "      <th>AgeHH1</th>\n",
              "      <th>AgeHH2</th>\n",
              "      <th>ChildrenInHH</th>\n",
              "      <th>HandsetRefurbished</th>\n",
              "      <th>HandsetWebCapable</th>\n",
              "      <th>TruckOwner</th>\n",
              "      <th>RVOwner</th>\n",
              "      <th>Homeownership</th>\n",
              "      <th>BuysViaMailOrder</th>\n",
              "      <th>RespondsToMailOffers</th>\n",
              "      <th>OptOutMailings</th>\n",
              "      <th>NonUSTravel</th>\n",
              "      <th>OwnsComputer</th>\n",
              "      <th>HasCreditCard</th>\n",
              "      <th>RetentionCalls</th>\n",
              "      <th>RetentionOffersAccepted</th>\n",
              "      <th>NewCellphoneUser</th>\n",
              "      <th>NotNewCellphoneUser</th>\n",
              "      <th>ReferralsMadeBySubscriber</th>\n",
              "      <th>IncomeGroup</th>\n",
              "      <th>OwnsMotorcycle</th>\n",
              "      <th>AdjustmentsToCreditRating</th>\n",
              "      <th>HandsetPrice</th>\n",
              "      <th>MadeCallToRetentionTeam</th>\n",
              "      <th>CreditRating</th>\n",
              "      <th>PrizmCode</th>\n",
              "      <th>Occupation</th>\n",
              "      <th>MaritalStatus</th>\n",
              "      <th>Churn1</th>\n",
              "      <th>MonthlyRevenuenan</th>\n",
              "      <th>MonthlyMinutesnan</th>\n",
              "      <th>TotalRecurringChargenan</th>\n",
              "      <th>DirectorAssistedCallsnan</th>\n",
              "      <th>OverageMinutesnan</th>\n",
              "      <th>RoamingCallsnan</th>\n",
              "      <th>PercChangeMinutesnan</th>\n",
              "      <th>PercChangeRevenuesnan</th>\n",
              "      <th>Handsetsnan</th>\n",
              "      <th>HandsetModelsnan</th>\n",
              "      <th>CurrentEquipmentDaysnan</th>\n",
              "      <th>AgeHH1nan</th>\n",
              "      <th>AgeHH2nan</th>\n",
              "      <th>Churn2</th>\n",
              "    </tr>\n",
              "  </thead>\n",
              "  <tbody>\n",
              "    <tr>\n",
              "      <th>0</th>\n",
              "      <td>24.00</td>\n",
              "      <td>219.0</td>\n",
              "      <td>22.0</td>\n",
              "      <td>0.25</td>\n",
              "      <td>0.0</td>\n",
              "      <td>0.0</td>\n",
              "      <td>-157.0</td>\n",
              "      <td>-19.0</td>\n",
              "      <td>0.7</td>\n",
              "      <td>0.7</td>\n",
              "      <td>6.3</td>\n",
              "      <td>0.0</td>\n",
              "      <td>0.0</td>\n",
              "      <td>97.2</td>\n",
              "      <td>0.0</td>\n",
              "      <td>0.0</td>\n",
              "      <td>58.0</td>\n",
              "      <td>24.0</td>\n",
              "      <td>1.3</td>\n",
              "      <td>0.0</td>\n",
              "      <td>0.3</td>\n",
              "      <td>61</td>\n",
              "      <td>2</td>\n",
              "      <td>1</td>\n",
              "      <td>SEAPOR503</td>\n",
              "      <td>2.0</td>\n",
              "      <td>2.0</td>\n",
              "      <td>361.0</td>\n",
              "      <td>62.0</td>\n",
              "      <td>0.0</td>\n",
              "      <td>No</td>\n",
              "      <td>No</td>\n",
              "      <td>Yes</td>\n",
              "      <td>No</td>\n",
              "      <td>No</td>\n",
              "      <td>Known</td>\n",
              "      <td>Yes</td>\n",
              "      <td>Yes</td>\n",
              "      <td>No</td>\n",
              "      <td>No</td>\n",
              "      <td>Yes</td>\n",
              "      <td>Yes</td>\n",
              "      <td>1</td>\n",
              "      <td>0</td>\n",
              "      <td>No</td>\n",
              "      <td>No</td>\n",
              "      <td>0</td>\n",
              "      <td>4</td>\n",
              "      <td>No</td>\n",
              "      <td>0</td>\n",
              "      <td>30</td>\n",
              "      <td>Yes</td>\n",
              "      <td>1-Highest</td>\n",
              "      <td>Suburban</td>\n",
              "      <td>Professional</td>\n",
              "      <td>No</td>\n",
              "      <td>1</td>\n",
              "      <td>0</td>\n",
              "      <td>0</td>\n",
              "      <td>0</td>\n",
              "      <td>0</td>\n",
              "      <td>0</td>\n",
              "      <td>0</td>\n",
              "      <td>0</td>\n",
              "      <td>0</td>\n",
              "      <td>0</td>\n",
              "      <td>0</td>\n",
              "      <td>0</td>\n",
              "      <td>0</td>\n",
              "      <td>0</td>\n",
              "      <td>1</td>\n",
              "    </tr>\n",
              "    <tr>\n",
              "      <th>1</th>\n",
              "      <td>16.99</td>\n",
              "      <td>10.0</td>\n",
              "      <td>17.0</td>\n",
              "      <td>0.00</td>\n",
              "      <td>0.0</td>\n",
              "      <td>0.0</td>\n",
              "      <td>-4.0</td>\n",
              "      <td>0.0</td>\n",
              "      <td>0.3</td>\n",
              "      <td>0.0</td>\n",
              "      <td>2.7</td>\n",
              "      <td>0.0</td>\n",
              "      <td>0.0</td>\n",
              "      <td>0.0</td>\n",
              "      <td>0.0</td>\n",
              "      <td>0.0</td>\n",
              "      <td>5.0</td>\n",
              "      <td>1.0</td>\n",
              "      <td>0.3</td>\n",
              "      <td>0.0</td>\n",
              "      <td>0.0</td>\n",
              "      <td>58</td>\n",
              "      <td>1</td>\n",
              "      <td>1</td>\n",
              "      <td>PITHOM412</td>\n",
              "      <td>2.0</td>\n",
              "      <td>1.0</td>\n",
              "      <td>1504.0</td>\n",
              "      <td>40.0</td>\n",
              "      <td>42.0</td>\n",
              "      <td>Yes</td>\n",
              "      <td>No</td>\n",
              "      <td>No</td>\n",
              "      <td>No</td>\n",
              "      <td>No</td>\n",
              "      <td>Known</td>\n",
              "      <td>Yes</td>\n",
              "      <td>Yes</td>\n",
              "      <td>No</td>\n",
              "      <td>No</td>\n",
              "      <td>Yes</td>\n",
              "      <td>Yes</td>\n",
              "      <td>0</td>\n",
              "      <td>0</td>\n",
              "      <td>Yes</td>\n",
              "      <td>No</td>\n",
              "      <td>0</td>\n",
              "      <td>5</td>\n",
              "      <td>No</td>\n",
              "      <td>0</td>\n",
              "      <td>30</td>\n",
              "      <td>No</td>\n",
              "      <td>4-Medium</td>\n",
              "      <td>Suburban</td>\n",
              "      <td>Professional</td>\n",
              "      <td>Yes</td>\n",
              "      <td>1</td>\n",
              "      <td>0</td>\n",
              "      <td>0</td>\n",
              "      <td>0</td>\n",
              "      <td>0</td>\n",
              "      <td>0</td>\n",
              "      <td>0</td>\n",
              "      <td>0</td>\n",
              "      <td>0</td>\n",
              "      <td>0</td>\n",
              "      <td>0</td>\n",
              "      <td>0</td>\n",
              "      <td>0</td>\n",
              "      <td>0</td>\n",
              "      <td>1</td>\n",
              "    </tr>\n",
              "    <tr>\n",
              "      <th>2</th>\n",
              "      <td>38.00</td>\n",
              "      <td>8.0</td>\n",
              "      <td>38.0</td>\n",
              "      <td>0.00</td>\n",
              "      <td>0.0</td>\n",
              "      <td>0.0</td>\n",
              "      <td>-2.0</td>\n",
              "      <td>0.0</td>\n",
              "      <td>0.0</td>\n",
              "      <td>0.0</td>\n",
              "      <td>0.0</td>\n",
              "      <td>0.0</td>\n",
              "      <td>0.0</td>\n",
              "      <td>0.4</td>\n",
              "      <td>0.3</td>\n",
              "      <td>0.0</td>\n",
              "      <td>1.3</td>\n",
              "      <td>3.7</td>\n",
              "      <td>0.0</td>\n",
              "      <td>0.0</td>\n",
              "      <td>0.0</td>\n",
              "      <td>60</td>\n",
              "      <td>1</td>\n",
              "      <td>1</td>\n",
              "      <td>MILMIL414</td>\n",
              "      <td>1.0</td>\n",
              "      <td>1.0</td>\n",
              "      <td>1812.0</td>\n",
              "      <td>26.0</td>\n",
              "      <td>26.0</td>\n",
              "      <td>Yes</td>\n",
              "      <td>No</td>\n",
              "      <td>No</td>\n",
              "      <td>No</td>\n",
              "      <td>No</td>\n",
              "      <td>Unknown</td>\n",
              "      <td>No</td>\n",
              "      <td>No</td>\n",
              "      <td>No</td>\n",
              "      <td>No</td>\n",
              "      <td>No</td>\n",
              "      <td>Yes</td>\n",
              "      <td>0</td>\n",
              "      <td>0</td>\n",
              "      <td>Yes</td>\n",
              "      <td>No</td>\n",
              "      <td>0</td>\n",
              "      <td>6</td>\n",
              "      <td>No</td>\n",
              "      <td>0</td>\n",
              "      <td>30</td>\n",
              "      <td>No</td>\n",
              "      <td>3-Good</td>\n",
              "      <td>Town</td>\n",
              "      <td>Crafts</td>\n",
              "      <td>Yes</td>\n",
              "      <td>0</td>\n",
              "      <td>0</td>\n",
              "      <td>0</td>\n",
              "      <td>0</td>\n",
              "      <td>0</td>\n",
              "      <td>0</td>\n",
              "      <td>0</td>\n",
              "      <td>0</td>\n",
              "      <td>0</td>\n",
              "      <td>0</td>\n",
              "      <td>0</td>\n",
              "      <td>0</td>\n",
              "      <td>0</td>\n",
              "      <td>0</td>\n",
              "      <td>0</td>\n",
              "    </tr>\n",
              "    <tr>\n",
              "      <th>3</th>\n",
              "      <td>82.28</td>\n",
              "      <td>1312.0</td>\n",
              "      <td>75.0</td>\n",
              "      <td>1.24</td>\n",
              "      <td>0.0</td>\n",
              "      <td>0.0</td>\n",
              "      <td>157.0</td>\n",
              "      <td>8.1</td>\n",
              "      <td>52.0</td>\n",
              "      <td>7.7</td>\n",
              "      <td>76.0</td>\n",
              "      <td>4.3</td>\n",
              "      <td>1.3</td>\n",
              "      <td>200.3</td>\n",
              "      <td>370.3</td>\n",
              "      <td>147.0</td>\n",
              "      <td>555.7</td>\n",
              "      <td>303.7</td>\n",
              "      <td>59.7</td>\n",
              "      <td>0.0</td>\n",
              "      <td>22.7</td>\n",
              "      <td>59</td>\n",
              "      <td>2</td>\n",
              "      <td>2</td>\n",
              "      <td>PITHOM412</td>\n",
              "      <td>9.0</td>\n",
              "      <td>4.0</td>\n",
              "      <td>458.0</td>\n",
              "      <td>30.0</td>\n",
              "      <td>0.0</td>\n",
              "      <td>No</td>\n",
              "      <td>No</td>\n",
              "      <td>Yes</td>\n",
              "      <td>No</td>\n",
              "      <td>No</td>\n",
              "      <td>Known</td>\n",
              "      <td>Yes</td>\n",
              "      <td>Yes</td>\n",
              "      <td>No</td>\n",
              "      <td>No</td>\n",
              "      <td>No</td>\n",
              "      <td>Yes</td>\n",
              "      <td>0</td>\n",
              "      <td>0</td>\n",
              "      <td>Yes</td>\n",
              "      <td>No</td>\n",
              "      <td>0</td>\n",
              "      <td>6</td>\n",
              "      <td>No</td>\n",
              "      <td>0</td>\n",
              "      <td>10</td>\n",
              "      <td>No</td>\n",
              "      <td>4-Medium</td>\n",
              "      <td>Other</td>\n",
              "      <td>Other</td>\n",
              "      <td>No</td>\n",
              "      <td>0</td>\n",
              "      <td>0</td>\n",
              "      <td>0</td>\n",
              "      <td>0</td>\n",
              "      <td>0</td>\n",
              "      <td>0</td>\n",
              "      <td>0</td>\n",
              "      <td>0</td>\n",
              "      <td>0</td>\n",
              "      <td>0</td>\n",
              "      <td>0</td>\n",
              "      <td>0</td>\n",
              "      <td>0</td>\n",
              "      <td>0</td>\n",
              "      <td>0</td>\n",
              "    </tr>\n",
              "    <tr>\n",
              "      <th>4</th>\n",
              "      <td>17.14</td>\n",
              "      <td>0.0</td>\n",
              "      <td>17.0</td>\n",
              "      <td>0.00</td>\n",
              "      <td>0.0</td>\n",
              "      <td>0.0</td>\n",
              "      <td>0.0</td>\n",
              "      <td>-0.2</td>\n",
              "      <td>0.0</td>\n",
              "      <td>0.0</td>\n",
              "      <td>0.0</td>\n",
              "      <td>0.0</td>\n",
              "      <td>0.0</td>\n",
              "      <td>0.0</td>\n",
              "      <td>0.0</td>\n",
              "      <td>0.0</td>\n",
              "      <td>0.0</td>\n",
              "      <td>0.0</td>\n",
              "      <td>0.0</td>\n",
              "      <td>0.0</td>\n",
              "      <td>0.0</td>\n",
              "      <td>53</td>\n",
              "      <td>2</td>\n",
              "      <td>2</td>\n",
              "      <td>OKCTUL918</td>\n",
              "      <td>4.0</td>\n",
              "      <td>3.0</td>\n",
              "      <td>852.0</td>\n",
              "      <td>46.0</td>\n",
              "      <td>54.0</td>\n",
              "      <td>No</td>\n",
              "      <td>No</td>\n",
              "      <td>No</td>\n",
              "      <td>No</td>\n",
              "      <td>No</td>\n",
              "      <td>Known</td>\n",
              "      <td>Yes</td>\n",
              "      <td>Yes</td>\n",
              "      <td>No</td>\n",
              "      <td>No</td>\n",
              "      <td>Yes</td>\n",
              "      <td>Yes</td>\n",
              "      <td>0</td>\n",
              "      <td>0</td>\n",
              "      <td>No</td>\n",
              "      <td>Yes</td>\n",
              "      <td>0</td>\n",
              "      <td>9</td>\n",
              "      <td>No</td>\n",
              "      <td>1</td>\n",
              "      <td>10</td>\n",
              "      <td>No</td>\n",
              "      <td>1-Highest</td>\n",
              "      <td>Other</td>\n",
              "      <td>Professional</td>\n",
              "      <td>Yes</td>\n",
              "      <td>1</td>\n",
              "      <td>0</td>\n",
              "      <td>0</td>\n",
              "      <td>0</td>\n",
              "      <td>0</td>\n",
              "      <td>0</td>\n",
              "      <td>0</td>\n",
              "      <td>0</td>\n",
              "      <td>0</td>\n",
              "      <td>0</td>\n",
              "      <td>0</td>\n",
              "      <td>0</td>\n",
              "      <td>0</td>\n",
              "      <td>0</td>\n",
              "      <td>1</td>\n",
              "    </tr>\n",
              "  </tbody>\n",
              "</table>\n",
              "</div>"
            ],
            "text/plain": [
              "   MonthlyRevenue  MonthlyMinutes  TotalRecurringCharge  \\\n",
              "0           24.00           219.0                  22.0   \n",
              "1           16.99            10.0                  17.0   \n",
              "2           38.00             8.0                  38.0   \n",
              "3           82.28          1312.0                  75.0   \n",
              "4           17.14             0.0                  17.0   \n",
              "\n",
              "   DirectorAssistedCalls  OverageMinutes  RoamingCalls  PercChangeMinutes  \\\n",
              "0                   0.25             0.0           0.0             -157.0   \n",
              "1                   0.00             0.0           0.0               -4.0   \n",
              "2                   0.00             0.0           0.0               -2.0   \n",
              "3                   1.24             0.0           0.0              157.0   \n",
              "4                   0.00             0.0           0.0                0.0   \n",
              "\n",
              "   PercChangeRevenues  DroppedCalls  BlockedCalls  UnansweredCalls  \\\n",
              "0               -19.0           0.7           0.7              6.3   \n",
              "1                 0.0           0.3           0.0              2.7   \n",
              "2                 0.0           0.0           0.0              0.0   \n",
              "3                 8.1          52.0           7.7             76.0   \n",
              "4                -0.2           0.0           0.0              0.0   \n",
              "\n",
              "   CustomerCareCalls  ThreewayCalls  ReceivedCalls  OutboundCalls  \\\n",
              "0                0.0            0.0           97.2            0.0   \n",
              "1                0.0            0.0            0.0            0.0   \n",
              "2                0.0            0.0            0.4            0.3   \n",
              "3                4.3            1.3          200.3          370.3   \n",
              "4                0.0            0.0            0.0            0.0   \n",
              "\n",
              "   InboundCalls  PeakCallsInOut  OffPeakCallsInOut  DroppedBlockedCalls  \\\n",
              "0           0.0            58.0               24.0                  1.3   \n",
              "1           0.0             5.0                1.0                  0.3   \n",
              "2           0.0             1.3                3.7                  0.0   \n",
              "3         147.0           555.7              303.7                 59.7   \n",
              "4           0.0             0.0                0.0                  0.0   \n",
              "\n",
              "   CallForwardingCalls  CallWaitingCalls  MonthsInService  UniqueSubs  \\\n",
              "0                  0.0               0.3               61           2   \n",
              "1                  0.0               0.0               58           1   \n",
              "2                  0.0               0.0               60           1   \n",
              "3                  0.0              22.7               59           2   \n",
              "4                  0.0               0.0               53           2   \n",
              "\n",
              "   ActiveSubs ServiceArea  Handsets  HandsetModels  CurrentEquipmentDays  \\\n",
              "0           1   SEAPOR503       2.0            2.0                 361.0   \n",
              "1           1   PITHOM412       2.0            1.0                1504.0   \n",
              "2           1   MILMIL414       1.0            1.0                1812.0   \n",
              "3           2   PITHOM412       9.0            4.0                 458.0   \n",
              "4           2   OKCTUL918       4.0            3.0                 852.0   \n",
              "\n",
              "   AgeHH1  AgeHH2 ChildrenInHH HandsetRefurbished HandsetWebCapable  \\\n",
              "0    62.0     0.0           No                 No               Yes   \n",
              "1    40.0    42.0          Yes                 No                No   \n",
              "2    26.0    26.0          Yes                 No                No   \n",
              "3    30.0     0.0           No                 No               Yes   \n",
              "4    46.0    54.0           No                 No                No   \n",
              "\n",
              "  TruckOwner RVOwner Homeownership BuysViaMailOrder RespondsToMailOffers  \\\n",
              "0         No      No         Known              Yes                  Yes   \n",
              "1         No      No         Known              Yes                  Yes   \n",
              "2         No      No       Unknown               No                   No   \n",
              "3         No      No         Known              Yes                  Yes   \n",
              "4         No      No         Known              Yes                  Yes   \n",
              "\n",
              "  OptOutMailings NonUSTravel OwnsComputer HasCreditCard  RetentionCalls  \\\n",
              "0             No          No          Yes           Yes               1   \n",
              "1             No          No          Yes           Yes               0   \n",
              "2             No          No           No           Yes               0   \n",
              "3             No          No           No           Yes               0   \n",
              "4             No          No          Yes           Yes               0   \n",
              "\n",
              "   RetentionOffersAccepted NewCellphoneUser NotNewCellphoneUser  \\\n",
              "0                        0               No                  No   \n",
              "1                        0              Yes                  No   \n",
              "2                        0              Yes                  No   \n",
              "3                        0              Yes                  No   \n",
              "4                        0               No                 Yes   \n",
              "\n",
              "   ReferralsMadeBySubscriber  IncomeGroup OwnsMotorcycle  \\\n",
              "0                          0            4             No   \n",
              "1                          0            5             No   \n",
              "2                          0            6             No   \n",
              "3                          0            6             No   \n",
              "4                          0            9             No   \n",
              "\n",
              "   AdjustmentsToCreditRating  HandsetPrice MadeCallToRetentionTeam  \\\n",
              "0                          0            30                     Yes   \n",
              "1                          0            30                      No   \n",
              "2                          0            30                      No   \n",
              "3                          0            10                      No   \n",
              "4                          1            10                      No   \n",
              "\n",
              "  CreditRating PrizmCode    Occupation MaritalStatus  Churn1  \\\n",
              "0    1-Highest  Suburban  Professional            No       1   \n",
              "1     4-Medium  Suburban  Professional           Yes       1   \n",
              "2       3-Good      Town        Crafts           Yes       0   \n",
              "3     4-Medium     Other         Other            No       0   \n",
              "4    1-Highest     Other  Professional           Yes       1   \n",
              "\n",
              "   MonthlyRevenuenan  MonthlyMinutesnan  TotalRecurringChargenan  \\\n",
              "0                  0                  0                        0   \n",
              "1                  0                  0                        0   \n",
              "2                  0                  0                        0   \n",
              "3                  0                  0                        0   \n",
              "4                  0                  0                        0   \n",
              "\n",
              "   DirectorAssistedCallsnan  OverageMinutesnan  RoamingCallsnan  \\\n",
              "0                         0                  0                0   \n",
              "1                         0                  0                0   \n",
              "2                         0                  0                0   \n",
              "3                         0                  0                0   \n",
              "4                         0                  0                0   \n",
              "\n",
              "   PercChangeMinutesnan  PercChangeRevenuesnan  Handsetsnan  HandsetModelsnan  \\\n",
              "0                     0                      0            0                 0   \n",
              "1                     0                      0            0                 0   \n",
              "2                     0                      0            0                 0   \n",
              "3                     0                      0            0                 0   \n",
              "4                     0                      0            0                 0   \n",
              "\n",
              "   CurrentEquipmentDaysnan  AgeHH1nan  AgeHH2nan  Churn2  \n",
              "0                        0          0          0       1  \n",
              "1                        0          0          0       1  \n",
              "2                        0          0          0       0  \n",
              "3                        0          0          0       0  \n",
              "4                        0          0          0       1  "
            ]
          },
          "metadata": {},
          "execution_count": 25
        }
      ]
    },
    {
      "cell_type": "code",
      "metadata": {
        "id": "-dmTArobMyK0"
      },
      "source": [
        "for feature in categorical_feature:\n",
        " mean_ordinal=data.groupby(feature)['Churn1'].mean().to_dict()\n",
        " data['mean_ordinal_'+feature]=data[feature].map(mean_ordinal)"
      ],
      "execution_count": null,
      "outputs": []
    },
    {
      "cell_type": "code",
      "metadata": {
        "colab": {
          "base_uri": "https://localhost:8080/",
          "height": 223
        },
        "id": "83N7lLbWNeYx",
        "outputId": "b27e1526-9ba9-45c0-bb1d-6e02c4eb576c"
      },
      "source": [
        "data.head()"
      ],
      "execution_count": null,
      "outputs": [
        {
          "output_type": "execute_result",
          "data": {
            "text/html": [
              "<div>\n",
              "<style scoped>\n",
              "    .dataframe tbody tr th:only-of-type {\n",
              "        vertical-align: middle;\n",
              "    }\n",
              "\n",
              "    .dataframe tbody tr th {\n",
              "        vertical-align: top;\n",
              "    }\n",
              "\n",
              "    .dataframe thead th {\n",
              "        text-align: right;\n",
              "    }\n",
              "</style>\n",
              "<table border=\"1\" class=\"dataframe\">\n",
              "  <thead>\n",
              "    <tr style=\"text-align: right;\">\n",
              "      <th></th>\n",
              "      <th>MonthlyRevenue</th>\n",
              "      <th>MonthlyMinutes</th>\n",
              "      <th>TotalRecurringCharge</th>\n",
              "      <th>DirectorAssistedCalls</th>\n",
              "      <th>OverageMinutes</th>\n",
              "      <th>RoamingCalls</th>\n",
              "      <th>PercChangeMinutes</th>\n",
              "      <th>PercChangeRevenues</th>\n",
              "      <th>DroppedCalls</th>\n",
              "      <th>BlockedCalls</th>\n",
              "      <th>UnansweredCalls</th>\n",
              "      <th>CustomerCareCalls</th>\n",
              "      <th>ThreewayCalls</th>\n",
              "      <th>ReceivedCalls</th>\n",
              "      <th>OutboundCalls</th>\n",
              "      <th>InboundCalls</th>\n",
              "      <th>PeakCallsInOut</th>\n",
              "      <th>OffPeakCallsInOut</th>\n",
              "      <th>DroppedBlockedCalls</th>\n",
              "      <th>CallForwardingCalls</th>\n",
              "      <th>CallWaitingCalls</th>\n",
              "      <th>MonthsInService</th>\n",
              "      <th>UniqueSubs</th>\n",
              "      <th>ActiveSubs</th>\n",
              "      <th>ServiceArea</th>\n",
              "      <th>Handsets</th>\n",
              "      <th>HandsetModels</th>\n",
              "      <th>CurrentEquipmentDays</th>\n",
              "      <th>AgeHH1</th>\n",
              "      <th>AgeHH2</th>\n",
              "      <th>ChildrenInHH</th>\n",
              "      <th>HandsetRefurbished</th>\n",
              "      <th>HandsetWebCapable</th>\n",
              "      <th>TruckOwner</th>\n",
              "      <th>RVOwner</th>\n",
              "      <th>Homeownership</th>\n",
              "      <th>BuysViaMailOrder</th>\n",
              "      <th>RespondsToMailOffers</th>\n",
              "      <th>OptOutMailings</th>\n",
              "      <th>NonUSTravel</th>\n",
              "      <th>OwnsComputer</th>\n",
              "      <th>HasCreditCard</th>\n",
              "      <th>RetentionCalls</th>\n",
              "      <th>RetentionOffersAccepted</th>\n",
              "      <th>NewCellphoneUser</th>\n",
              "      <th>NotNewCellphoneUser</th>\n",
              "      <th>ReferralsMadeBySubscriber</th>\n",
              "      <th>IncomeGroup</th>\n",
              "      <th>OwnsMotorcycle</th>\n",
              "      <th>AdjustmentsToCreditRating</th>\n",
              "      <th>HandsetPrice</th>\n",
              "      <th>MadeCallToRetentionTeam</th>\n",
              "      <th>CreditRating</th>\n",
              "      <th>PrizmCode</th>\n",
              "      <th>Occupation</th>\n",
              "      <th>MaritalStatus</th>\n",
              "      <th>Churn1</th>\n",
              "      <th>MonthlyRevenuenan</th>\n",
              "      <th>MonthlyMinutesnan</th>\n",
              "      <th>TotalRecurringChargenan</th>\n",
              "      <th>DirectorAssistedCallsnan</th>\n",
              "      <th>OverageMinutesnan</th>\n",
              "      <th>RoamingCallsnan</th>\n",
              "      <th>PercChangeMinutesnan</th>\n",
              "      <th>PercChangeRevenuesnan</th>\n",
              "      <th>Handsetsnan</th>\n",
              "      <th>HandsetModelsnan</th>\n",
              "      <th>CurrentEquipmentDaysnan</th>\n",
              "      <th>AgeHH1nan</th>\n",
              "      <th>AgeHH2nan</th>\n",
              "      <th>Churn2</th>\n",
              "      <th>mean_ordinal_ServiceArea</th>\n",
              "      <th>mean_ordinal_ChildrenInHH</th>\n",
              "      <th>mean_ordinal_HandsetRefurbished</th>\n",
              "      <th>mean_ordinal_HandsetWebCapable</th>\n",
              "      <th>mean_ordinal_TruckOwner</th>\n",
              "      <th>mean_ordinal_RVOwner</th>\n",
              "      <th>mean_ordinal_Homeownership</th>\n",
              "      <th>mean_ordinal_BuysViaMailOrder</th>\n",
              "      <th>mean_ordinal_RespondsToMailOffers</th>\n",
              "      <th>mean_ordinal_OptOutMailings</th>\n",
              "      <th>mean_ordinal_NonUSTravel</th>\n",
              "      <th>mean_ordinal_OwnsComputer</th>\n",
              "      <th>mean_ordinal_HasCreditCard</th>\n",
              "      <th>mean_ordinal_NewCellphoneUser</th>\n",
              "      <th>mean_ordinal_NotNewCellphoneUser</th>\n",
              "      <th>mean_ordinal_OwnsMotorcycle</th>\n",
              "      <th>mean_ordinal_MadeCallToRetentionTeam</th>\n",
              "      <th>mean_ordinal_CreditRating</th>\n",
              "      <th>mean_ordinal_PrizmCode</th>\n",
              "      <th>mean_ordinal_Occupation</th>\n",
              "      <th>mean_ordinal_MaritalStatus</th>\n",
              "    </tr>\n",
              "  </thead>\n",
              "  <tbody>\n",
              "    <tr>\n",
              "      <th>0</th>\n",
              "      <td>24.00</td>\n",
              "      <td>219.0</td>\n",
              "      <td>22.0</td>\n",
              "      <td>0.25</td>\n",
              "      <td>0.0</td>\n",
              "      <td>0.0</td>\n",
              "      <td>-157.0</td>\n",
              "      <td>-19.0</td>\n",
              "      <td>0.7</td>\n",
              "      <td>0.7</td>\n",
              "      <td>6.3</td>\n",
              "      <td>0.0</td>\n",
              "      <td>0.0</td>\n",
              "      <td>97.2</td>\n",
              "      <td>0.0</td>\n",
              "      <td>0.0</td>\n",
              "      <td>58.0</td>\n",
              "      <td>24.0</td>\n",
              "      <td>1.3</td>\n",
              "      <td>0.0</td>\n",
              "      <td>0.3</td>\n",
              "      <td>61</td>\n",
              "      <td>2</td>\n",
              "      <td>1</td>\n",
              "      <td>SEAPOR503</td>\n",
              "      <td>2.0</td>\n",
              "      <td>2.0</td>\n",
              "      <td>361.0</td>\n",
              "      <td>62.0</td>\n",
              "      <td>0.0</td>\n",
              "      <td>No</td>\n",
              "      <td>No</td>\n",
              "      <td>Yes</td>\n",
              "      <td>No</td>\n",
              "      <td>No</td>\n",
              "      <td>Known</td>\n",
              "      <td>Yes</td>\n",
              "      <td>Yes</td>\n",
              "      <td>No</td>\n",
              "      <td>No</td>\n",
              "      <td>Yes</td>\n",
              "      <td>Yes</td>\n",
              "      <td>1</td>\n",
              "      <td>0</td>\n",
              "      <td>No</td>\n",
              "      <td>No</td>\n",
              "      <td>0</td>\n",
              "      <td>4</td>\n",
              "      <td>No</td>\n",
              "      <td>0</td>\n",
              "      <td>30</td>\n",
              "      <td>Yes</td>\n",
              "      <td>1-Highest</td>\n",
              "      <td>Suburban</td>\n",
              "      <td>Professional</td>\n",
              "      <td>No</td>\n",
              "      <td>1</td>\n",
              "      <td>0</td>\n",
              "      <td>0</td>\n",
              "      <td>0</td>\n",
              "      <td>0</td>\n",
              "      <td>0</td>\n",
              "      <td>0</td>\n",
              "      <td>0</td>\n",
              "      <td>0</td>\n",
              "      <td>0</td>\n",
              "      <td>0</td>\n",
              "      <td>0</td>\n",
              "      <td>0</td>\n",
              "      <td>0</td>\n",
              "      <td>1</td>\n",
              "      <td>0.371257</td>\n",
              "      <td>0.285736</td>\n",
              "      <td>0.282737</td>\n",
              "      <td>0.278917</td>\n",
              "      <td>0.28923</td>\n",
              "      <td>0.288651</td>\n",
              "      <td>0.283962</td>\n",
              "      <td>0.275107</td>\n",
              "      <td>0.274836</td>\n",
              "      <td>0.28818</td>\n",
              "      <td>0.288511</td>\n",
              "      <td>0.286243</td>\n",
              "      <td>0.285482</td>\n",
              "      <td>0.289887</td>\n",
              "      <td>0.286967</td>\n",
              "      <td>0.287802</td>\n",
              "      <td>0.450430</td>\n",
              "      <td>0.308378</td>\n",
              "      <td>0.281414</td>\n",
              "      <td>0.281782</td>\n",
              "      <td>0.27103</td>\n",
              "    </tr>\n",
              "    <tr>\n",
              "      <th>1</th>\n",
              "      <td>16.99</td>\n",
              "      <td>10.0</td>\n",
              "      <td>17.0</td>\n",
              "      <td>0.00</td>\n",
              "      <td>0.0</td>\n",
              "      <td>0.0</td>\n",
              "      <td>-4.0</td>\n",
              "      <td>0.0</td>\n",
              "      <td>0.3</td>\n",
              "      <td>0.0</td>\n",
              "      <td>2.7</td>\n",
              "      <td>0.0</td>\n",
              "      <td>0.0</td>\n",
              "      <td>0.0</td>\n",
              "      <td>0.0</td>\n",
              "      <td>0.0</td>\n",
              "      <td>5.0</td>\n",
              "      <td>1.0</td>\n",
              "      <td>0.3</td>\n",
              "      <td>0.0</td>\n",
              "      <td>0.0</td>\n",
              "      <td>58</td>\n",
              "      <td>1</td>\n",
              "      <td>1</td>\n",
              "      <td>PITHOM412</td>\n",
              "      <td>2.0</td>\n",
              "      <td>1.0</td>\n",
              "      <td>1504.0</td>\n",
              "      <td>40.0</td>\n",
              "      <td>42.0</td>\n",
              "      <td>Yes</td>\n",
              "      <td>No</td>\n",
              "      <td>No</td>\n",
              "      <td>No</td>\n",
              "      <td>No</td>\n",
              "      <td>Known</td>\n",
              "      <td>Yes</td>\n",
              "      <td>Yes</td>\n",
              "      <td>No</td>\n",
              "      <td>No</td>\n",
              "      <td>Yes</td>\n",
              "      <td>Yes</td>\n",
              "      <td>0</td>\n",
              "      <td>0</td>\n",
              "      <td>Yes</td>\n",
              "      <td>No</td>\n",
              "      <td>0</td>\n",
              "      <td>5</td>\n",
              "      <td>No</td>\n",
              "      <td>0</td>\n",
              "      <td>30</td>\n",
              "      <td>No</td>\n",
              "      <td>4-Medium</td>\n",
              "      <td>Suburban</td>\n",
              "      <td>Professional</td>\n",
              "      <td>Yes</td>\n",
              "      <td>1</td>\n",
              "      <td>0</td>\n",
              "      <td>0</td>\n",
              "      <td>0</td>\n",
              "      <td>0</td>\n",
              "      <td>0</td>\n",
              "      <td>0</td>\n",
              "      <td>0</td>\n",
              "      <td>0</td>\n",
              "      <td>0</td>\n",
              "      <td>0</td>\n",
              "      <td>0</td>\n",
              "      <td>0</td>\n",
              "      <td>0</td>\n",
              "      <td>1</td>\n",
              "      <td>0.288889</td>\n",
              "      <td>0.295844</td>\n",
              "      <td>0.282737</td>\n",
              "      <td>0.373525</td>\n",
              "      <td>0.28923</td>\n",
              "      <td>0.288651</td>\n",
              "      <td>0.283962</td>\n",
              "      <td>0.275107</td>\n",
              "      <td>0.274836</td>\n",
              "      <td>0.28818</td>\n",
              "      <td>0.288511</td>\n",
              "      <td>0.286243</td>\n",
              "      <td>0.285482</td>\n",
              "      <td>0.281046</td>\n",
              "      <td>0.286967</td>\n",
              "      <td>0.287802</td>\n",
              "      <td>0.282443</td>\n",
              "      <td>0.261154</td>\n",
              "      <td>0.281414</td>\n",
              "      <td>0.281782</td>\n",
              "      <td>0.28540</td>\n",
              "    </tr>\n",
              "    <tr>\n",
              "      <th>2</th>\n",
              "      <td>38.00</td>\n",
              "      <td>8.0</td>\n",
              "      <td>38.0</td>\n",
              "      <td>0.00</td>\n",
              "      <td>0.0</td>\n",
              "      <td>0.0</td>\n",
              "      <td>-2.0</td>\n",
              "      <td>0.0</td>\n",
              "      <td>0.0</td>\n",
              "      <td>0.0</td>\n",
              "      <td>0.0</td>\n",
              "      <td>0.0</td>\n",
              "      <td>0.0</td>\n",
              "      <td>0.4</td>\n",
              "      <td>0.3</td>\n",
              "      <td>0.0</td>\n",
              "      <td>1.3</td>\n",
              "      <td>3.7</td>\n",
              "      <td>0.0</td>\n",
              "      <td>0.0</td>\n",
              "      <td>0.0</td>\n",
              "      <td>60</td>\n",
              "      <td>1</td>\n",
              "      <td>1</td>\n",
              "      <td>MILMIL414</td>\n",
              "      <td>1.0</td>\n",
              "      <td>1.0</td>\n",
              "      <td>1812.0</td>\n",
              "      <td>26.0</td>\n",
              "      <td>26.0</td>\n",
              "      <td>Yes</td>\n",
              "      <td>No</td>\n",
              "      <td>No</td>\n",
              "      <td>No</td>\n",
              "      <td>No</td>\n",
              "      <td>Unknown</td>\n",
              "      <td>No</td>\n",
              "      <td>No</td>\n",
              "      <td>No</td>\n",
              "      <td>No</td>\n",
              "      <td>No</td>\n",
              "      <td>Yes</td>\n",
              "      <td>0</td>\n",
              "      <td>0</td>\n",
              "      <td>Yes</td>\n",
              "      <td>No</td>\n",
              "      <td>0</td>\n",
              "      <td>6</td>\n",
              "      <td>No</td>\n",
              "      <td>0</td>\n",
              "      <td>30</td>\n",
              "      <td>No</td>\n",
              "      <td>3-Good</td>\n",
              "      <td>Town</td>\n",
              "      <td>Crafts</td>\n",
              "      <td>Yes</td>\n",
              "      <td>0</td>\n",
              "      <td>0</td>\n",
              "      <td>0</td>\n",
              "      <td>0</td>\n",
              "      <td>0</td>\n",
              "      <td>0</td>\n",
              "      <td>0</td>\n",
              "      <td>0</td>\n",
              "      <td>0</td>\n",
              "      <td>0</td>\n",
              "      <td>0</td>\n",
              "      <td>0</td>\n",
              "      <td>0</td>\n",
              "      <td>0</td>\n",
              "      <td>0</td>\n",
              "      <td>0.229692</td>\n",
              "      <td>0.295844</td>\n",
              "      <td>0.282737</td>\n",
              "      <td>0.373525</td>\n",
              "      <td>0.28923</td>\n",
              "      <td>0.288651</td>\n",
              "      <td>0.296600</td>\n",
              "      <td>0.295588</td>\n",
              "      <td>0.296251</td>\n",
              "      <td>0.28818</td>\n",
              "      <td>0.288511</td>\n",
              "      <td>0.288628</td>\n",
              "      <td>0.285482</td>\n",
              "      <td>0.281046</td>\n",
              "      <td>0.286967</td>\n",
              "      <td>0.287802</td>\n",
              "      <td>0.282443</td>\n",
              "      <td>0.310107</td>\n",
              "      <td>0.299908</td>\n",
              "      <td>0.280448</td>\n",
              "      <td>0.28540</td>\n",
              "    </tr>\n",
              "    <tr>\n",
              "      <th>3</th>\n",
              "      <td>82.28</td>\n",
              "      <td>1312.0</td>\n",
              "      <td>75.0</td>\n",
              "      <td>1.24</td>\n",
              "      <td>0.0</td>\n",
              "      <td>0.0</td>\n",
              "      <td>157.0</td>\n",
              "      <td>8.1</td>\n",
              "      <td>52.0</td>\n",
              "      <td>7.7</td>\n",
              "      <td>76.0</td>\n",
              "      <td>4.3</td>\n",
              "      <td>1.3</td>\n",
              "      <td>200.3</td>\n",
              "      <td>370.3</td>\n",
              "      <td>147.0</td>\n",
              "      <td>555.7</td>\n",
              "      <td>303.7</td>\n",
              "      <td>59.7</td>\n",
              "      <td>0.0</td>\n",
              "      <td>22.7</td>\n",
              "      <td>59</td>\n",
              "      <td>2</td>\n",
              "      <td>2</td>\n",
              "      <td>PITHOM412</td>\n",
              "      <td>9.0</td>\n",
              "      <td>4.0</td>\n",
              "      <td>458.0</td>\n",
              "      <td>30.0</td>\n",
              "      <td>0.0</td>\n",
              "      <td>No</td>\n",
              "      <td>No</td>\n",
              "      <td>Yes</td>\n",
              "      <td>No</td>\n",
              "      <td>No</td>\n",
              "      <td>Known</td>\n",
              "      <td>Yes</td>\n",
              "      <td>Yes</td>\n",
              "      <td>No</td>\n",
              "      <td>No</td>\n",
              "      <td>No</td>\n",
              "      <td>Yes</td>\n",
              "      <td>0</td>\n",
              "      <td>0</td>\n",
              "      <td>Yes</td>\n",
              "      <td>No</td>\n",
              "      <td>0</td>\n",
              "      <td>6</td>\n",
              "      <td>No</td>\n",
              "      <td>0</td>\n",
              "      <td>10</td>\n",
              "      <td>No</td>\n",
              "      <td>4-Medium</td>\n",
              "      <td>Other</td>\n",
              "      <td>Other</td>\n",
              "      <td>No</td>\n",
              "      <td>0</td>\n",
              "      <td>0</td>\n",
              "      <td>0</td>\n",
              "      <td>0</td>\n",
              "      <td>0</td>\n",
              "      <td>0</td>\n",
              "      <td>0</td>\n",
              "      <td>0</td>\n",
              "      <td>0</td>\n",
              "      <td>0</td>\n",
              "      <td>0</td>\n",
              "      <td>0</td>\n",
              "      <td>0</td>\n",
              "      <td>0</td>\n",
              "      <td>0</td>\n",
              "      <td>0.288889</td>\n",
              "      <td>0.285736</td>\n",
              "      <td>0.282737</td>\n",
              "      <td>0.278917</td>\n",
              "      <td>0.28923</td>\n",
              "      <td>0.288651</td>\n",
              "      <td>0.283962</td>\n",
              "      <td>0.275107</td>\n",
              "      <td>0.274836</td>\n",
              "      <td>0.28818</td>\n",
              "      <td>0.288511</td>\n",
              "      <td>0.288628</td>\n",
              "      <td>0.285482</td>\n",
              "      <td>0.281046</td>\n",
              "      <td>0.286967</td>\n",
              "      <td>0.287802</td>\n",
              "      <td>0.282443</td>\n",
              "      <td>0.261154</td>\n",
              "      <td>0.286230</td>\n",
              "      <td>0.290459</td>\n",
              "      <td>0.27103</td>\n",
              "    </tr>\n",
              "    <tr>\n",
              "      <th>4</th>\n",
              "      <td>17.14</td>\n",
              "      <td>0.0</td>\n",
              "      <td>17.0</td>\n",
              "      <td>0.00</td>\n",
              "      <td>0.0</td>\n",
              "      <td>0.0</td>\n",
              "      <td>0.0</td>\n",
              "      <td>-0.2</td>\n",
              "      <td>0.0</td>\n",
              "      <td>0.0</td>\n",
              "      <td>0.0</td>\n",
              "      <td>0.0</td>\n",
              "      <td>0.0</td>\n",
              "      <td>0.0</td>\n",
              "      <td>0.0</td>\n",
              "      <td>0.0</td>\n",
              "      <td>0.0</td>\n",
              "      <td>0.0</td>\n",
              "      <td>0.0</td>\n",
              "      <td>0.0</td>\n",
              "      <td>0.0</td>\n",
              "      <td>53</td>\n",
              "      <td>2</td>\n",
              "      <td>2</td>\n",
              "      <td>OKCTUL918</td>\n",
              "      <td>4.0</td>\n",
              "      <td>3.0</td>\n",
              "      <td>852.0</td>\n",
              "      <td>46.0</td>\n",
              "      <td>54.0</td>\n",
              "      <td>No</td>\n",
              "      <td>No</td>\n",
              "      <td>No</td>\n",
              "      <td>No</td>\n",
              "      <td>No</td>\n",
              "      <td>Known</td>\n",
              "      <td>Yes</td>\n",
              "      <td>Yes</td>\n",
              "      <td>No</td>\n",
              "      <td>No</td>\n",
              "      <td>Yes</td>\n",
              "      <td>Yes</td>\n",
              "      <td>0</td>\n",
              "      <td>0</td>\n",
              "      <td>No</td>\n",
              "      <td>Yes</td>\n",
              "      <td>0</td>\n",
              "      <td>9</td>\n",
              "      <td>No</td>\n",
              "      <td>1</td>\n",
              "      <td>10</td>\n",
              "      <td>No</td>\n",
              "      <td>1-Highest</td>\n",
              "      <td>Other</td>\n",
              "      <td>Professional</td>\n",
              "      <td>Yes</td>\n",
              "      <td>1</td>\n",
              "      <td>0</td>\n",
              "      <td>0</td>\n",
              "      <td>0</td>\n",
              "      <td>0</td>\n",
              "      <td>0</td>\n",
              "      <td>0</td>\n",
              "      <td>0</td>\n",
              "      <td>0</td>\n",
              "      <td>0</td>\n",
              "      <td>0</td>\n",
              "      <td>0</td>\n",
              "      <td>0</td>\n",
              "      <td>0</td>\n",
              "      <td>1</td>\n",
              "      <td>0.241379</td>\n",
              "      <td>0.285736</td>\n",
              "      <td>0.282737</td>\n",
              "      <td>0.373525</td>\n",
              "      <td>0.28923</td>\n",
              "      <td>0.288651</td>\n",
              "      <td>0.283962</td>\n",
              "      <td>0.275107</td>\n",
              "      <td>0.274836</td>\n",
              "      <td>0.28818</td>\n",
              "      <td>0.288511</td>\n",
              "      <td>0.286243</td>\n",
              "      <td>0.285482</td>\n",
              "      <td>0.289887</td>\n",
              "      <td>0.295807</td>\n",
              "      <td>0.287802</td>\n",
              "      <td>0.282443</td>\n",
              "      <td>0.308378</td>\n",
              "      <td>0.286230</td>\n",
              "      <td>0.281782</td>\n",
              "      <td>0.28540</td>\n",
              "    </tr>\n",
              "  </tbody>\n",
              "</table>\n",
              "</div>"
            ],
            "text/plain": [
              "   MonthlyRevenue  MonthlyMinutes  TotalRecurringCharge  \\\n",
              "0           24.00           219.0                  22.0   \n",
              "1           16.99            10.0                  17.0   \n",
              "2           38.00             8.0                  38.0   \n",
              "3           82.28          1312.0                  75.0   \n",
              "4           17.14             0.0                  17.0   \n",
              "\n",
              "   DirectorAssistedCalls  OverageMinutes  RoamingCalls  PercChangeMinutes  \\\n",
              "0                   0.25             0.0           0.0             -157.0   \n",
              "1                   0.00             0.0           0.0               -4.0   \n",
              "2                   0.00             0.0           0.0               -2.0   \n",
              "3                   1.24             0.0           0.0              157.0   \n",
              "4                   0.00             0.0           0.0                0.0   \n",
              "\n",
              "   PercChangeRevenues  DroppedCalls  BlockedCalls  UnansweredCalls  \\\n",
              "0               -19.0           0.7           0.7              6.3   \n",
              "1                 0.0           0.3           0.0              2.7   \n",
              "2                 0.0           0.0           0.0              0.0   \n",
              "3                 8.1          52.0           7.7             76.0   \n",
              "4                -0.2           0.0           0.0              0.0   \n",
              "\n",
              "   CustomerCareCalls  ThreewayCalls  ReceivedCalls  OutboundCalls  \\\n",
              "0                0.0            0.0           97.2            0.0   \n",
              "1                0.0            0.0            0.0            0.0   \n",
              "2                0.0            0.0            0.4            0.3   \n",
              "3                4.3            1.3          200.3          370.3   \n",
              "4                0.0            0.0            0.0            0.0   \n",
              "\n",
              "   InboundCalls  PeakCallsInOut  OffPeakCallsInOut  DroppedBlockedCalls  \\\n",
              "0           0.0            58.0               24.0                  1.3   \n",
              "1           0.0             5.0                1.0                  0.3   \n",
              "2           0.0             1.3                3.7                  0.0   \n",
              "3         147.0           555.7              303.7                 59.7   \n",
              "4           0.0             0.0                0.0                  0.0   \n",
              "\n",
              "   CallForwardingCalls  CallWaitingCalls  MonthsInService  UniqueSubs  \\\n",
              "0                  0.0               0.3               61           2   \n",
              "1                  0.0               0.0               58           1   \n",
              "2                  0.0               0.0               60           1   \n",
              "3                  0.0              22.7               59           2   \n",
              "4                  0.0               0.0               53           2   \n",
              "\n",
              "   ActiveSubs ServiceArea  Handsets  HandsetModels  CurrentEquipmentDays  \\\n",
              "0           1   SEAPOR503       2.0            2.0                 361.0   \n",
              "1           1   PITHOM412       2.0            1.0                1504.0   \n",
              "2           1   MILMIL414       1.0            1.0                1812.0   \n",
              "3           2   PITHOM412       9.0            4.0                 458.0   \n",
              "4           2   OKCTUL918       4.0            3.0                 852.0   \n",
              "\n",
              "   AgeHH1  AgeHH2 ChildrenInHH HandsetRefurbished HandsetWebCapable  \\\n",
              "0    62.0     0.0           No                 No               Yes   \n",
              "1    40.0    42.0          Yes                 No                No   \n",
              "2    26.0    26.0          Yes                 No                No   \n",
              "3    30.0     0.0           No                 No               Yes   \n",
              "4    46.0    54.0           No                 No                No   \n",
              "\n",
              "  TruckOwner RVOwner Homeownership BuysViaMailOrder RespondsToMailOffers  \\\n",
              "0         No      No         Known              Yes                  Yes   \n",
              "1         No      No         Known              Yes                  Yes   \n",
              "2         No      No       Unknown               No                   No   \n",
              "3         No      No         Known              Yes                  Yes   \n",
              "4         No      No         Known              Yes                  Yes   \n",
              "\n",
              "  OptOutMailings NonUSTravel OwnsComputer HasCreditCard  RetentionCalls  \\\n",
              "0             No          No          Yes           Yes               1   \n",
              "1             No          No          Yes           Yes               0   \n",
              "2             No          No           No           Yes               0   \n",
              "3             No          No           No           Yes               0   \n",
              "4             No          No          Yes           Yes               0   \n",
              "\n",
              "   RetentionOffersAccepted NewCellphoneUser NotNewCellphoneUser  \\\n",
              "0                        0               No                  No   \n",
              "1                        0              Yes                  No   \n",
              "2                        0              Yes                  No   \n",
              "3                        0              Yes                  No   \n",
              "4                        0               No                 Yes   \n",
              "\n",
              "   ReferralsMadeBySubscriber  IncomeGroup OwnsMotorcycle  \\\n",
              "0                          0            4             No   \n",
              "1                          0            5             No   \n",
              "2                          0            6             No   \n",
              "3                          0            6             No   \n",
              "4                          0            9             No   \n",
              "\n",
              "   AdjustmentsToCreditRating  HandsetPrice MadeCallToRetentionTeam  \\\n",
              "0                          0            30                     Yes   \n",
              "1                          0            30                      No   \n",
              "2                          0            30                      No   \n",
              "3                          0            10                      No   \n",
              "4                          1            10                      No   \n",
              "\n",
              "  CreditRating PrizmCode    Occupation MaritalStatus  Churn1  \\\n",
              "0    1-Highest  Suburban  Professional            No       1   \n",
              "1     4-Medium  Suburban  Professional           Yes       1   \n",
              "2       3-Good      Town        Crafts           Yes       0   \n",
              "3     4-Medium     Other         Other            No       0   \n",
              "4    1-Highest     Other  Professional           Yes       1   \n",
              "\n",
              "   MonthlyRevenuenan  MonthlyMinutesnan  TotalRecurringChargenan  \\\n",
              "0                  0                  0                        0   \n",
              "1                  0                  0                        0   \n",
              "2                  0                  0                        0   \n",
              "3                  0                  0                        0   \n",
              "4                  0                  0                        0   \n",
              "\n",
              "   DirectorAssistedCallsnan  OverageMinutesnan  RoamingCallsnan  \\\n",
              "0                         0                  0                0   \n",
              "1                         0                  0                0   \n",
              "2                         0                  0                0   \n",
              "3                         0                  0                0   \n",
              "4                         0                  0                0   \n",
              "\n",
              "   PercChangeMinutesnan  PercChangeRevenuesnan  Handsetsnan  HandsetModelsnan  \\\n",
              "0                     0                      0            0                 0   \n",
              "1                     0                      0            0                 0   \n",
              "2                     0                      0            0                 0   \n",
              "3                     0                      0            0                 0   \n",
              "4                     0                      0            0                 0   \n",
              "\n",
              "   CurrentEquipmentDaysnan  AgeHH1nan  AgeHH2nan  Churn2  \\\n",
              "0                        0          0          0       1   \n",
              "1                        0          0          0       1   \n",
              "2                        0          0          0       0   \n",
              "3                        0          0          0       0   \n",
              "4                        0          0          0       1   \n",
              "\n",
              "   mean_ordinal_ServiceArea  mean_ordinal_ChildrenInHH  \\\n",
              "0                  0.371257                   0.285736   \n",
              "1                  0.288889                   0.295844   \n",
              "2                  0.229692                   0.295844   \n",
              "3                  0.288889                   0.285736   \n",
              "4                  0.241379                   0.285736   \n",
              "\n",
              "   mean_ordinal_HandsetRefurbished  mean_ordinal_HandsetWebCapable  \\\n",
              "0                         0.282737                        0.278917   \n",
              "1                         0.282737                        0.373525   \n",
              "2                         0.282737                        0.373525   \n",
              "3                         0.282737                        0.278917   \n",
              "4                         0.282737                        0.373525   \n",
              "\n",
              "   mean_ordinal_TruckOwner  mean_ordinal_RVOwner  mean_ordinal_Homeownership  \\\n",
              "0                  0.28923              0.288651                    0.283962   \n",
              "1                  0.28923              0.288651                    0.283962   \n",
              "2                  0.28923              0.288651                    0.296600   \n",
              "3                  0.28923              0.288651                    0.283962   \n",
              "4                  0.28923              0.288651                    0.283962   \n",
              "\n",
              "   mean_ordinal_BuysViaMailOrder  mean_ordinal_RespondsToMailOffers  \\\n",
              "0                       0.275107                           0.274836   \n",
              "1                       0.275107                           0.274836   \n",
              "2                       0.295588                           0.296251   \n",
              "3                       0.275107                           0.274836   \n",
              "4                       0.275107                           0.274836   \n",
              "\n",
              "   mean_ordinal_OptOutMailings  mean_ordinal_NonUSTravel  \\\n",
              "0                      0.28818                  0.288511   \n",
              "1                      0.28818                  0.288511   \n",
              "2                      0.28818                  0.288511   \n",
              "3                      0.28818                  0.288511   \n",
              "4                      0.28818                  0.288511   \n",
              "\n",
              "   mean_ordinal_OwnsComputer  mean_ordinal_HasCreditCard  \\\n",
              "0                   0.286243                    0.285482   \n",
              "1                   0.286243                    0.285482   \n",
              "2                   0.288628                    0.285482   \n",
              "3                   0.288628                    0.285482   \n",
              "4                   0.286243                    0.285482   \n",
              "\n",
              "   mean_ordinal_NewCellphoneUser  mean_ordinal_NotNewCellphoneUser  \\\n",
              "0                       0.289887                          0.286967   \n",
              "1                       0.281046                          0.286967   \n",
              "2                       0.281046                          0.286967   \n",
              "3                       0.281046                          0.286967   \n",
              "4                       0.289887                          0.295807   \n",
              "\n",
              "   mean_ordinal_OwnsMotorcycle  mean_ordinal_MadeCallToRetentionTeam  \\\n",
              "0                     0.287802                              0.450430   \n",
              "1                     0.287802                              0.282443   \n",
              "2                     0.287802                              0.282443   \n",
              "3                     0.287802                              0.282443   \n",
              "4                     0.287802                              0.282443   \n",
              "\n",
              "   mean_ordinal_CreditRating  mean_ordinal_PrizmCode  mean_ordinal_Occupation  \\\n",
              "0                   0.308378                0.281414                 0.281782   \n",
              "1                   0.261154                0.281414                 0.281782   \n",
              "2                   0.310107                0.299908                 0.280448   \n",
              "3                   0.261154                0.286230                 0.290459   \n",
              "4                   0.308378                0.286230                 0.281782   \n",
              "\n",
              "   mean_ordinal_MaritalStatus  \n",
              "0                     0.27103  \n",
              "1                     0.28540  \n",
              "2                     0.28540  \n",
              "3                     0.27103  \n",
              "4                     0.28540  "
            ]
          },
          "metadata": {},
          "execution_count": 27
        }
      ]
    },
    {
      "cell_type": "code",
      "metadata": {
        "id": "oeEAEz4TO1J8"
      },
      "source": [
        ""
      ],
      "execution_count": null,
      "outputs": []
    },
    {
      "cell_type": "code",
      "metadata": {
        "id": "5_rtB9v1O1Ix"
      },
      "source": [
        "data1=data.copy()"
      ],
      "execution_count": null,
      "outputs": []
    },
    {
      "cell_type": "code",
      "metadata": {
        "id": "caTW25v4PQsu"
      },
      "source": [
        "data = data.drop(['ServiceArea',\n",
        " 'ChildrenInHH',\n",
        " 'HandsetRefurbished',\n",
        " 'HandsetWebCapable',\n",
        " 'TruckOwner',\n",
        " 'RVOwner',\n",
        " 'Homeownership',\n",
        " 'BuysViaMailOrder',\n",
        " 'RespondsToMailOffers',\n",
        " 'OptOutMailings',\n",
        " 'NonUSTravel',\n",
        " 'OwnsComputer',\n",
        " 'HasCreditCard',\n",
        " 'NewCellphoneUser',\n",
        " 'NotNewCellphoneUser',\n",
        " 'OwnsMotorcycle',\n",
        " 'MadeCallToRetentionTeam',\n",
        " 'CreditRating',\n",
        " 'PrizmCode',\n",
        " 'Occupation',\n",
        " 'MaritalStatus'],axis=1)"
      ],
      "execution_count": null,
      "outputs": []
    },
    {
      "cell_type": "code",
      "metadata": {
        "id": "ju1K8WvPlurl"
      },
      "source": [
        "data2 = data.copy()"
      ],
      "execution_count": null,
      "outputs": []
    },
    {
      "cell_type": "markdown",
      "metadata": {
        "id": "oc7Rzu8zPu6y"
      },
      "source": [
        "#Scaling and Standardization"
      ]
    },
    {
      "cell_type": "code",
      "metadata": {
        "id": "e9tH3aEBPtgv",
        "colab": {
          "base_uri": "https://localhost:8080/"
        },
        "outputId": "2c51945c-85f7-43d3-8f9d-c6f8f4d086de"
      },
      "source": [
        "feature_scale = [feature for feature in data.columns if feature not in ['Churn1','Churn2']]\n",
        "\n",
        "from sklearn.preprocessing import MinMaxScaler\n",
        "scaler = MinMaxScaler()\n",
        "scaler.fit(data[feature_scale])"
      ],
      "execution_count": null,
      "outputs": [
        {
          "output_type": "execute_result",
          "data": {
            "text/plain": [
              "MinMaxScaler(copy=True, feature_range=(0, 1))"
            ]
          },
          "metadata": {},
          "execution_count": 31
        }
      ]
    },
    {
      "cell_type": "code",
      "metadata": {
        "id": "gst-LWngoIwE"
      },
      "source": [
        "data3 = pd.concat([data[['Churn1']].reset_index(drop=True),pd.DataFrame(scaler.transform(data[feature_scale]),columns=feature_scale)],axis=1)"
      ],
      "execution_count": null,
      "outputs": []
    },
    {
      "cell_type": "code",
      "metadata": {
        "colab": {
          "base_uri": "https://localhost:8080/",
          "height": 223
        },
        "id": "aYvhxWwGpMDe",
        "outputId": "4bf3486d-0aa8-43c9-c23a-403c3644ea37"
      },
      "source": [
        "data3.head()"
      ],
      "execution_count": null,
      "outputs": [
        {
          "output_type": "execute_result",
          "data": {
            "text/html": [
              "<div>\n",
              "<style scoped>\n",
              "    .dataframe tbody tr th:only-of-type {\n",
              "        vertical-align: middle;\n",
              "    }\n",
              "\n",
              "    .dataframe tbody tr th {\n",
              "        vertical-align: top;\n",
              "    }\n",
              "\n",
              "    .dataframe thead th {\n",
              "        text-align: right;\n",
              "    }\n",
              "</style>\n",
              "<table border=\"1\" class=\"dataframe\">\n",
              "  <thead>\n",
              "    <tr style=\"text-align: right;\">\n",
              "      <th></th>\n",
              "      <th>Churn1</th>\n",
              "      <th>MonthlyRevenue</th>\n",
              "      <th>MonthlyMinutes</th>\n",
              "      <th>TotalRecurringCharge</th>\n",
              "      <th>DirectorAssistedCalls</th>\n",
              "      <th>OverageMinutes</th>\n",
              "      <th>RoamingCalls</th>\n",
              "      <th>PercChangeMinutes</th>\n",
              "      <th>PercChangeRevenues</th>\n",
              "      <th>DroppedCalls</th>\n",
              "      <th>BlockedCalls</th>\n",
              "      <th>UnansweredCalls</th>\n",
              "      <th>CustomerCareCalls</th>\n",
              "      <th>ThreewayCalls</th>\n",
              "      <th>ReceivedCalls</th>\n",
              "      <th>OutboundCalls</th>\n",
              "      <th>InboundCalls</th>\n",
              "      <th>PeakCallsInOut</th>\n",
              "      <th>OffPeakCallsInOut</th>\n",
              "      <th>DroppedBlockedCalls</th>\n",
              "      <th>CallForwardingCalls</th>\n",
              "      <th>CallWaitingCalls</th>\n",
              "      <th>MonthsInService</th>\n",
              "      <th>UniqueSubs</th>\n",
              "      <th>ActiveSubs</th>\n",
              "      <th>Handsets</th>\n",
              "      <th>HandsetModels</th>\n",
              "      <th>CurrentEquipmentDays</th>\n",
              "      <th>AgeHH1</th>\n",
              "      <th>AgeHH2</th>\n",
              "      <th>RetentionCalls</th>\n",
              "      <th>RetentionOffersAccepted</th>\n",
              "      <th>ReferralsMadeBySubscriber</th>\n",
              "      <th>IncomeGroup</th>\n",
              "      <th>AdjustmentsToCreditRating</th>\n",
              "      <th>HandsetPrice</th>\n",
              "      <th>MonthlyRevenuenan</th>\n",
              "      <th>MonthlyMinutesnan</th>\n",
              "      <th>TotalRecurringChargenan</th>\n",
              "      <th>DirectorAssistedCallsnan</th>\n",
              "      <th>OverageMinutesnan</th>\n",
              "      <th>RoamingCallsnan</th>\n",
              "      <th>PercChangeMinutesnan</th>\n",
              "      <th>PercChangeRevenuesnan</th>\n",
              "      <th>Handsetsnan</th>\n",
              "      <th>HandsetModelsnan</th>\n",
              "      <th>CurrentEquipmentDaysnan</th>\n",
              "      <th>AgeHH1nan</th>\n",
              "      <th>AgeHH2nan</th>\n",
              "      <th>mean_ordinal_ServiceArea</th>\n",
              "      <th>mean_ordinal_ChildrenInHH</th>\n",
              "      <th>mean_ordinal_HandsetRefurbished</th>\n",
              "      <th>mean_ordinal_HandsetWebCapable</th>\n",
              "      <th>mean_ordinal_TruckOwner</th>\n",
              "      <th>mean_ordinal_RVOwner</th>\n",
              "      <th>mean_ordinal_Homeownership</th>\n",
              "      <th>mean_ordinal_BuysViaMailOrder</th>\n",
              "      <th>mean_ordinal_RespondsToMailOffers</th>\n",
              "      <th>mean_ordinal_OptOutMailings</th>\n",
              "      <th>mean_ordinal_NonUSTravel</th>\n",
              "      <th>mean_ordinal_OwnsComputer</th>\n",
              "      <th>mean_ordinal_HasCreditCard</th>\n",
              "      <th>mean_ordinal_NewCellphoneUser</th>\n",
              "      <th>mean_ordinal_NotNewCellphoneUser</th>\n",
              "      <th>mean_ordinal_OwnsMotorcycle</th>\n",
              "      <th>mean_ordinal_MadeCallToRetentionTeam</th>\n",
              "      <th>mean_ordinal_CreditRating</th>\n",
              "      <th>mean_ordinal_PrizmCode</th>\n",
              "      <th>mean_ordinal_Occupation</th>\n",
              "      <th>mean_ordinal_MaritalStatus</th>\n",
              "    </tr>\n",
              "  </thead>\n",
              "  <tbody>\n",
              "    <tr>\n",
              "      <th>0</th>\n",
              "      <td>1</td>\n",
              "      <td>0.024537</td>\n",
              "      <td>0.029759</td>\n",
              "      <td>0.080292</td>\n",
              "      <td>0.001568</td>\n",
              "      <td>0.0</td>\n",
              "      <td>0.0</td>\n",
              "      <td>0.410058</td>\n",
              "      <td>0.303158</td>\n",
              "      <td>0.003157</td>\n",
              "      <td>0.001821</td>\n",
              "      <td>0.007423</td>\n",
              "      <td>0.000000</td>\n",
              "      <td>0.000000</td>\n",
              "      <td>0.036102</td>\n",
              "      <td>0.000000</td>\n",
              "      <td>0.000000</td>\n",
              "      <td>0.027742</td>\n",
              "      <td>0.016274</td>\n",
              "      <td>0.003158</td>\n",
              "      <td>0.0</td>\n",
              "      <td>0.001410</td>\n",
              "      <td>1.000000</td>\n",
              "      <td>0.005128</td>\n",
              "      <td>0.018868</td>\n",
              "      <td>0.043478</td>\n",
              "      <td>0.071429</td>\n",
              "      <td>0.201431</td>\n",
              "      <td>0.626263</td>\n",
              "      <td>0.000000</td>\n",
              "      <td>0.25</td>\n",
              "      <td>0.0</td>\n",
              "      <td>0.0</td>\n",
              "      <td>0.444444</td>\n",
              "      <td>0.00</td>\n",
              "      <td>0.040816</td>\n",
              "      <td>0.0</td>\n",
              "      <td>0.0</td>\n",
              "      <td>0.0</td>\n",
              "      <td>0.0</td>\n",
              "      <td>0.0</td>\n",
              "      <td>0.0</td>\n",
              "      <td>0.0</td>\n",
              "      <td>0.0</td>\n",
              "      <td>0.0</td>\n",
              "      <td>0.0</td>\n",
              "      <td>0.0</td>\n",
              "      <td>0.0</td>\n",
              "      <td>0.0</td>\n",
              "      <td>0.724925</td>\n",
              "      <td>0.0</td>\n",
              "      <td>0.0</td>\n",
              "      <td>0.0</td>\n",
              "      <td>1.0</td>\n",
              "      <td>1.0</td>\n",
              "      <td>0.0</td>\n",
              "      <td>0.0</td>\n",
              "      <td>0.0</td>\n",
              "      <td>0.0</td>\n",
              "      <td>1.0</td>\n",
              "      <td>0.0</td>\n",
              "      <td>0.0</td>\n",
              "      <td>1.0</td>\n",
              "      <td>0.0</td>\n",
              "      <td>0.0</td>\n",
              "      <td>1.0</td>\n",
              "      <td>0.980609</td>\n",
              "      <td>0.000000</td>\n",
              "      <td>0.405701</td>\n",
              "      <td>0.000000</td>\n",
              "    </tr>\n",
              "    <tr>\n",
              "      <th>1</th>\n",
              "      <td>1</td>\n",
              "      <td>0.018836</td>\n",
              "      <td>0.001359</td>\n",
              "      <td>0.068127</td>\n",
              "      <td>0.000000</td>\n",
              "      <td>0.0</td>\n",
              "      <td>0.0</td>\n",
              "      <td>0.426933</td>\n",
              "      <td>0.308448</td>\n",
              "      <td>0.001353</td>\n",
              "      <td>0.000000</td>\n",
              "      <td>0.003181</td>\n",
              "      <td>0.000000</td>\n",
              "      <td>0.000000</td>\n",
              "      <td>0.000000</td>\n",
              "      <td>0.000000</td>\n",
              "      <td>0.000000</td>\n",
              "      <td>0.002392</td>\n",
              "      <td>0.000678</td>\n",
              "      <td>0.000729</td>\n",
              "      <td>0.0</td>\n",
              "      <td>0.000000</td>\n",
              "      <td>0.945455</td>\n",
              "      <td>0.000000</td>\n",
              "      <td>0.018868</td>\n",
              "      <td>0.043478</td>\n",
              "      <td>0.000000</td>\n",
              "      <td>0.830490</td>\n",
              "      <td>0.404040</td>\n",
              "      <td>0.424242</td>\n",
              "      <td>0.00</td>\n",
              "      <td>0.0</td>\n",
              "      <td>0.0</td>\n",
              "      <td>0.555556</td>\n",
              "      <td>0.00</td>\n",
              "      <td>0.040816</td>\n",
              "      <td>0.0</td>\n",
              "      <td>0.0</td>\n",
              "      <td>0.0</td>\n",
              "      <td>0.0</td>\n",
              "      <td>0.0</td>\n",
              "      <td>0.0</td>\n",
              "      <td>0.0</td>\n",
              "      <td>0.0</td>\n",
              "      <td>0.0</td>\n",
              "      <td>0.0</td>\n",
              "      <td>0.0</td>\n",
              "      <td>0.0</td>\n",
              "      <td>0.0</td>\n",
              "      <td>0.473958</td>\n",
              "      <td>1.0</td>\n",
              "      <td>0.0</td>\n",
              "      <td>1.0</td>\n",
              "      <td>1.0</td>\n",
              "      <td>1.0</td>\n",
              "      <td>0.0</td>\n",
              "      <td>0.0</td>\n",
              "      <td>0.0</td>\n",
              "      <td>0.0</td>\n",
              "      <td>1.0</td>\n",
              "      <td>0.0</td>\n",
              "      <td>0.0</td>\n",
              "      <td>0.0</td>\n",
              "      <td>0.0</td>\n",
              "      <td>0.0</td>\n",
              "      <td>0.0</td>\n",
              "      <td>0.450887</td>\n",
              "      <td>0.000000</td>\n",
              "      <td>0.405701</td>\n",
              "      <td>0.465834</td>\n",
              "    </tr>\n",
              "    <tr>\n",
              "      <th>2</th>\n",
              "      <td>0</td>\n",
              "      <td>0.035924</td>\n",
              "      <td>0.001087</td>\n",
              "      <td>0.119221</td>\n",
              "      <td>0.000000</td>\n",
              "      <td>0.0</td>\n",
              "      <td>0.0</td>\n",
              "      <td>0.427153</td>\n",
              "      <td>0.308448</td>\n",
              "      <td>0.000000</td>\n",
              "      <td>0.000000</td>\n",
              "      <td>0.000000</td>\n",
              "      <td>0.000000</td>\n",
              "      <td>0.000000</td>\n",
              "      <td>0.000149</td>\n",
              "      <td>0.000466</td>\n",
              "      <td>0.000000</td>\n",
              "      <td>0.000622</td>\n",
              "      <td>0.002509</td>\n",
              "      <td>0.000000</td>\n",
              "      <td>0.0</td>\n",
              "      <td>0.000000</td>\n",
              "      <td>0.981818</td>\n",
              "      <td>0.000000</td>\n",
              "      <td>0.018868</td>\n",
              "      <td>0.000000</td>\n",
              "      <td>0.000000</td>\n",
              "      <td>1.000000</td>\n",
              "      <td>0.262626</td>\n",
              "      <td>0.262626</td>\n",
              "      <td>0.00</td>\n",
              "      <td>0.0</td>\n",
              "      <td>0.0</td>\n",
              "      <td>0.666667</td>\n",
              "      <td>0.00</td>\n",
              "      <td>0.040816</td>\n",
              "      <td>0.0</td>\n",
              "      <td>0.0</td>\n",
              "      <td>0.0</td>\n",
              "      <td>0.0</td>\n",
              "      <td>0.0</td>\n",
              "      <td>0.0</td>\n",
              "      <td>0.0</td>\n",
              "      <td>0.0</td>\n",
              "      <td>0.0</td>\n",
              "      <td>0.0</td>\n",
              "      <td>0.0</td>\n",
              "      <td>0.0</td>\n",
              "      <td>0.0</td>\n",
              "      <td>0.293592</td>\n",
              "      <td>1.0</td>\n",
              "      <td>0.0</td>\n",
              "      <td>1.0</td>\n",
              "      <td>1.0</td>\n",
              "      <td>1.0</td>\n",
              "      <td>1.0</td>\n",
              "      <td>1.0</td>\n",
              "      <td>1.0</td>\n",
              "      <td>0.0</td>\n",
              "      <td>1.0</td>\n",
              "      <td>1.0</td>\n",
              "      <td>0.0</td>\n",
              "      <td>0.0</td>\n",
              "      <td>0.0</td>\n",
              "      <td>0.0</td>\n",
              "      <td>0.0</td>\n",
              "      <td>1.000000</td>\n",
              "      <td>0.518040</td>\n",
              "      <td>0.387287</td>\n",
              "      <td>0.465834</td>\n",
              "    </tr>\n",
              "    <tr>\n",
              "      <th>3</th>\n",
              "      <td>0</td>\n",
              "      <td>0.071937</td>\n",
              "      <td>0.178285</td>\n",
              "      <td>0.209246</td>\n",
              "      <td>0.007780</td>\n",
              "      <td>0.0</td>\n",
              "      <td>0.0</td>\n",
              "      <td>0.444690</td>\n",
              "      <td>0.310704</td>\n",
              "      <td>0.234551</td>\n",
              "      <td>0.020036</td>\n",
              "      <td>0.089549</td>\n",
              "      <td>0.013138</td>\n",
              "      <td>0.019697</td>\n",
              "      <td>0.074395</td>\n",
              "      <td>0.574732</td>\n",
              "      <td>0.283073</td>\n",
              "      <td>0.265796</td>\n",
              "      <td>0.205940</td>\n",
              "      <td>0.145009</td>\n",
              "      <td>0.0</td>\n",
              "      <td>0.106723</td>\n",
              "      <td>0.963636</td>\n",
              "      <td>0.005128</td>\n",
              "      <td>0.037736</td>\n",
              "      <td>0.347826</td>\n",
              "      <td>0.214286</td>\n",
              "      <td>0.254816</td>\n",
              "      <td>0.303030</td>\n",
              "      <td>0.000000</td>\n",
              "      <td>0.00</td>\n",
              "      <td>0.0</td>\n",
              "      <td>0.0</td>\n",
              "      <td>0.666667</td>\n",
              "      <td>0.00</td>\n",
              "      <td>0.000000</td>\n",
              "      <td>0.0</td>\n",
              "      <td>0.0</td>\n",
              "      <td>0.0</td>\n",
              "      <td>0.0</td>\n",
              "      <td>0.0</td>\n",
              "      <td>0.0</td>\n",
              "      <td>0.0</td>\n",
              "      <td>0.0</td>\n",
              "      <td>0.0</td>\n",
              "      <td>0.0</td>\n",
              "      <td>0.0</td>\n",
              "      <td>0.0</td>\n",
              "      <td>0.0</td>\n",
              "      <td>0.473958</td>\n",
              "      <td>0.0</td>\n",
              "      <td>0.0</td>\n",
              "      <td>0.0</td>\n",
              "      <td>1.0</td>\n",
              "      <td>1.0</td>\n",
              "      <td>0.0</td>\n",
              "      <td>0.0</td>\n",
              "      <td>0.0</td>\n",
              "      <td>0.0</td>\n",
              "      <td>1.0</td>\n",
              "      <td>1.0</td>\n",
              "      <td>0.0</td>\n",
              "      <td>0.0</td>\n",
              "      <td>0.0</td>\n",
              "      <td>0.0</td>\n",
              "      <td>0.0</td>\n",
              "      <td>0.450887</td>\n",
              "      <td>0.134901</td>\n",
              "      <td>0.525461</td>\n",
              "      <td>0.000000</td>\n",
              "    </tr>\n",
              "    <tr>\n",
              "      <th>4</th>\n",
              "      <td>1</td>\n",
              "      <td>0.018958</td>\n",
              "      <td>0.000000</td>\n",
              "      <td>0.068127</td>\n",
              "      <td>0.000000</td>\n",
              "      <td>0.0</td>\n",
              "      <td>0.0</td>\n",
              "      <td>0.427374</td>\n",
              "      <td>0.308393</td>\n",
              "      <td>0.000000</td>\n",
              "      <td>0.000000</td>\n",
              "      <td>0.000000</td>\n",
              "      <td>0.000000</td>\n",
              "      <td>0.000000</td>\n",
              "      <td>0.000000</td>\n",
              "      <td>0.000000</td>\n",
              "      <td>0.000000</td>\n",
              "      <td>0.000000</td>\n",
              "      <td>0.000000</td>\n",
              "      <td>0.000000</td>\n",
              "      <td>0.0</td>\n",
              "      <td>0.000000</td>\n",
              "      <td>0.854545</td>\n",
              "      <td>0.005128</td>\n",
              "      <td>0.037736</td>\n",
              "      <td>0.130435</td>\n",
              "      <td>0.142857</td>\n",
              "      <td>0.471657</td>\n",
              "      <td>0.464646</td>\n",
              "      <td>0.545455</td>\n",
              "      <td>0.00</td>\n",
              "      <td>0.0</td>\n",
              "      <td>0.0</td>\n",
              "      <td>1.000000</td>\n",
              "      <td>0.04</td>\n",
              "      <td>0.000000</td>\n",
              "      <td>0.0</td>\n",
              "      <td>0.0</td>\n",
              "      <td>0.0</td>\n",
              "      <td>0.0</td>\n",
              "      <td>0.0</td>\n",
              "      <td>0.0</td>\n",
              "      <td>0.0</td>\n",
              "      <td>0.0</td>\n",
              "      <td>0.0</td>\n",
              "      <td>0.0</td>\n",
              "      <td>0.0</td>\n",
              "      <td>0.0</td>\n",
              "      <td>0.0</td>\n",
              "      <td>0.329203</td>\n",
              "      <td>0.0</td>\n",
              "      <td>0.0</td>\n",
              "      <td>1.0</td>\n",
              "      <td>1.0</td>\n",
              "      <td>1.0</td>\n",
              "      <td>0.0</td>\n",
              "      <td>0.0</td>\n",
              "      <td>0.0</td>\n",
              "      <td>0.0</td>\n",
              "      <td>1.0</td>\n",
              "      <td>0.0</td>\n",
              "      <td>0.0</td>\n",
              "      <td>1.0</td>\n",
              "      <td>1.0</td>\n",
              "      <td>0.0</td>\n",
              "      <td>0.0</td>\n",
              "      <td>0.980609</td>\n",
              "      <td>0.134901</td>\n",
              "      <td>0.405701</td>\n",
              "      <td>0.465834</td>\n",
              "    </tr>\n",
              "  </tbody>\n",
              "</table>\n",
              "</div>"
            ],
            "text/plain": [
              "   Churn1  MonthlyRevenue  MonthlyMinutes  TotalRecurringCharge  \\\n",
              "0       1        0.024537        0.029759              0.080292   \n",
              "1       1        0.018836        0.001359              0.068127   \n",
              "2       0        0.035924        0.001087              0.119221   \n",
              "3       0        0.071937        0.178285              0.209246   \n",
              "4       1        0.018958        0.000000              0.068127   \n",
              "\n",
              "   DirectorAssistedCalls  OverageMinutes  RoamingCalls  PercChangeMinutes  \\\n",
              "0               0.001568             0.0           0.0           0.410058   \n",
              "1               0.000000             0.0           0.0           0.426933   \n",
              "2               0.000000             0.0           0.0           0.427153   \n",
              "3               0.007780             0.0           0.0           0.444690   \n",
              "4               0.000000             0.0           0.0           0.427374   \n",
              "\n",
              "   PercChangeRevenues  DroppedCalls  BlockedCalls  UnansweredCalls  \\\n",
              "0            0.303158      0.003157      0.001821         0.007423   \n",
              "1            0.308448      0.001353      0.000000         0.003181   \n",
              "2            0.308448      0.000000      0.000000         0.000000   \n",
              "3            0.310704      0.234551      0.020036         0.089549   \n",
              "4            0.308393      0.000000      0.000000         0.000000   \n",
              "\n",
              "   CustomerCareCalls  ThreewayCalls  ReceivedCalls  OutboundCalls  \\\n",
              "0           0.000000       0.000000       0.036102       0.000000   \n",
              "1           0.000000       0.000000       0.000000       0.000000   \n",
              "2           0.000000       0.000000       0.000149       0.000466   \n",
              "3           0.013138       0.019697       0.074395       0.574732   \n",
              "4           0.000000       0.000000       0.000000       0.000000   \n",
              "\n",
              "   InboundCalls  PeakCallsInOut  OffPeakCallsInOut  DroppedBlockedCalls  \\\n",
              "0      0.000000        0.027742           0.016274             0.003158   \n",
              "1      0.000000        0.002392           0.000678             0.000729   \n",
              "2      0.000000        0.000622           0.002509             0.000000   \n",
              "3      0.283073        0.265796           0.205940             0.145009   \n",
              "4      0.000000        0.000000           0.000000             0.000000   \n",
              "\n",
              "   CallForwardingCalls  CallWaitingCalls  MonthsInService  UniqueSubs  \\\n",
              "0                  0.0          0.001410         1.000000    0.005128   \n",
              "1                  0.0          0.000000         0.945455    0.000000   \n",
              "2                  0.0          0.000000         0.981818    0.000000   \n",
              "3                  0.0          0.106723         0.963636    0.005128   \n",
              "4                  0.0          0.000000         0.854545    0.005128   \n",
              "\n",
              "   ActiveSubs  Handsets  HandsetModels  CurrentEquipmentDays    AgeHH1  \\\n",
              "0    0.018868  0.043478       0.071429              0.201431  0.626263   \n",
              "1    0.018868  0.043478       0.000000              0.830490  0.404040   \n",
              "2    0.018868  0.000000       0.000000              1.000000  0.262626   \n",
              "3    0.037736  0.347826       0.214286              0.254816  0.303030   \n",
              "4    0.037736  0.130435       0.142857              0.471657  0.464646   \n",
              "\n",
              "     AgeHH2  RetentionCalls  RetentionOffersAccepted  \\\n",
              "0  0.000000            0.25                      0.0   \n",
              "1  0.424242            0.00                      0.0   \n",
              "2  0.262626            0.00                      0.0   \n",
              "3  0.000000            0.00                      0.0   \n",
              "4  0.545455            0.00                      0.0   \n",
              "\n",
              "   ReferralsMadeBySubscriber  IncomeGroup  AdjustmentsToCreditRating  \\\n",
              "0                        0.0     0.444444                       0.00   \n",
              "1                        0.0     0.555556                       0.00   \n",
              "2                        0.0     0.666667                       0.00   \n",
              "3                        0.0     0.666667                       0.00   \n",
              "4                        0.0     1.000000                       0.04   \n",
              "\n",
              "   HandsetPrice  MonthlyRevenuenan  MonthlyMinutesnan  \\\n",
              "0      0.040816                0.0                0.0   \n",
              "1      0.040816                0.0                0.0   \n",
              "2      0.040816                0.0                0.0   \n",
              "3      0.000000                0.0                0.0   \n",
              "4      0.000000                0.0                0.0   \n",
              "\n",
              "   TotalRecurringChargenan  DirectorAssistedCallsnan  OverageMinutesnan  \\\n",
              "0                      0.0                       0.0                0.0   \n",
              "1                      0.0                       0.0                0.0   \n",
              "2                      0.0                       0.0                0.0   \n",
              "3                      0.0                       0.0                0.0   \n",
              "4                      0.0                       0.0                0.0   \n",
              "\n",
              "   RoamingCallsnan  PercChangeMinutesnan  PercChangeRevenuesnan  Handsetsnan  \\\n",
              "0              0.0                   0.0                    0.0          0.0   \n",
              "1              0.0                   0.0                    0.0          0.0   \n",
              "2              0.0                   0.0                    0.0          0.0   \n",
              "3              0.0                   0.0                    0.0          0.0   \n",
              "4              0.0                   0.0                    0.0          0.0   \n",
              "\n",
              "   HandsetModelsnan  CurrentEquipmentDaysnan  AgeHH1nan  AgeHH2nan  \\\n",
              "0               0.0                      0.0        0.0        0.0   \n",
              "1               0.0                      0.0        0.0        0.0   \n",
              "2               0.0                      0.0        0.0        0.0   \n",
              "3               0.0                      0.0        0.0        0.0   \n",
              "4               0.0                      0.0        0.0        0.0   \n",
              "\n",
              "   mean_ordinal_ServiceArea  mean_ordinal_ChildrenInHH  \\\n",
              "0                  0.724925                        0.0   \n",
              "1                  0.473958                        1.0   \n",
              "2                  0.293592                        1.0   \n",
              "3                  0.473958                        0.0   \n",
              "4                  0.329203                        0.0   \n",
              "\n",
              "   mean_ordinal_HandsetRefurbished  mean_ordinal_HandsetWebCapable  \\\n",
              "0                              0.0                             0.0   \n",
              "1                              0.0                             1.0   \n",
              "2                              0.0                             1.0   \n",
              "3                              0.0                             0.0   \n",
              "4                              0.0                             1.0   \n",
              "\n",
              "   mean_ordinal_TruckOwner  mean_ordinal_RVOwner  mean_ordinal_Homeownership  \\\n",
              "0                      1.0                   1.0                         0.0   \n",
              "1                      1.0                   1.0                         0.0   \n",
              "2                      1.0                   1.0                         1.0   \n",
              "3                      1.0                   1.0                         0.0   \n",
              "4                      1.0                   1.0                         0.0   \n",
              "\n",
              "   mean_ordinal_BuysViaMailOrder  mean_ordinal_RespondsToMailOffers  \\\n",
              "0                            0.0                                0.0   \n",
              "1                            0.0                                0.0   \n",
              "2                            1.0                                1.0   \n",
              "3                            0.0                                0.0   \n",
              "4                            0.0                                0.0   \n",
              "\n",
              "   mean_ordinal_OptOutMailings  mean_ordinal_NonUSTravel  \\\n",
              "0                          0.0                       1.0   \n",
              "1                          0.0                       1.0   \n",
              "2                          0.0                       1.0   \n",
              "3                          0.0                       1.0   \n",
              "4                          0.0                       1.0   \n",
              "\n",
              "   mean_ordinal_OwnsComputer  mean_ordinal_HasCreditCard  \\\n",
              "0                        0.0                         0.0   \n",
              "1                        0.0                         0.0   \n",
              "2                        1.0                         0.0   \n",
              "3                        1.0                         0.0   \n",
              "4                        0.0                         0.0   \n",
              "\n",
              "   mean_ordinal_NewCellphoneUser  mean_ordinal_NotNewCellphoneUser  \\\n",
              "0                            1.0                               0.0   \n",
              "1                            0.0                               0.0   \n",
              "2                            0.0                               0.0   \n",
              "3                            0.0                               0.0   \n",
              "4                            1.0                               1.0   \n",
              "\n",
              "   mean_ordinal_OwnsMotorcycle  mean_ordinal_MadeCallToRetentionTeam  \\\n",
              "0                          0.0                                   1.0   \n",
              "1                          0.0                                   0.0   \n",
              "2                          0.0                                   0.0   \n",
              "3                          0.0                                   0.0   \n",
              "4                          0.0                                   0.0   \n",
              "\n",
              "   mean_ordinal_CreditRating  mean_ordinal_PrizmCode  mean_ordinal_Occupation  \\\n",
              "0                   0.980609                0.000000                 0.405701   \n",
              "1                   0.450887                0.000000                 0.405701   \n",
              "2                   1.000000                0.518040                 0.387287   \n",
              "3                   0.450887                0.134901                 0.525461   \n",
              "4                   0.980609                0.134901                 0.405701   \n",
              "\n",
              "   mean_ordinal_MaritalStatus  \n",
              "0                    0.000000  \n",
              "1                    0.465834  \n",
              "2                    0.465834  \n",
              "3                    0.000000  \n",
              "4                    0.465834  "
            ]
          },
          "metadata": {},
          "execution_count": 34
        }
      ]
    },
    {
      "cell_type": "markdown",
      "metadata": {
        "id": "ptHIioN7p2py"
      },
      "source": [
        "# Feature Selection"
      ]
    },
    {
      "cell_type": "markdown",
      "metadata": {
        "id": "bqe8oqlK4Kns"
      },
      "source": [
        "#Model Building"
      ]
    },
    {
      "cell_type": "code",
      "metadata": {
        "id": "AbIBwXkDpYB-"
      },
      "source": [
        "##X,y\n",
        "X=data3.drop('Churn1',axis=1)\n",
        "y=data3['Churn1']"
      ],
      "execution_count": null,
      "outputs": []
    },
    {
      "cell_type": "code",
      "metadata": {
        "colab": {
          "base_uri": "https://localhost:8080/",
          "height": 240
        },
        "id": "BdzvEkU247Ay",
        "outputId": "9f7329fd-a526-43cd-92b3-e872aad47d0f"
      },
      "source": [
        "X.shape\n",
        "X.head()"
      ],
      "execution_count": null,
      "outputs": [
        {
          "output_type": "execute_result",
          "data": {
            "text/plain": [
              "(51047, 69)"
            ]
          },
          "metadata": {},
          "execution_count": 38
        },
        {
          "output_type": "execute_result",
          "data": {
            "text/html": [
              "<div>\n",
              "<style scoped>\n",
              "    .dataframe tbody tr th:only-of-type {\n",
              "        vertical-align: middle;\n",
              "    }\n",
              "\n",
              "    .dataframe tbody tr th {\n",
              "        vertical-align: top;\n",
              "    }\n",
              "\n",
              "    .dataframe thead th {\n",
              "        text-align: right;\n",
              "    }\n",
              "</style>\n",
              "<table border=\"1\" class=\"dataframe\">\n",
              "  <thead>\n",
              "    <tr style=\"text-align: right;\">\n",
              "      <th></th>\n",
              "      <th>MonthlyRevenue</th>\n",
              "      <th>MonthlyMinutes</th>\n",
              "      <th>TotalRecurringCharge</th>\n",
              "      <th>DirectorAssistedCalls</th>\n",
              "      <th>OverageMinutes</th>\n",
              "      <th>RoamingCalls</th>\n",
              "      <th>PercChangeMinutes</th>\n",
              "      <th>PercChangeRevenues</th>\n",
              "      <th>DroppedCalls</th>\n",
              "      <th>BlockedCalls</th>\n",
              "      <th>UnansweredCalls</th>\n",
              "      <th>CustomerCareCalls</th>\n",
              "      <th>ThreewayCalls</th>\n",
              "      <th>ReceivedCalls</th>\n",
              "      <th>OutboundCalls</th>\n",
              "      <th>InboundCalls</th>\n",
              "      <th>PeakCallsInOut</th>\n",
              "      <th>OffPeakCallsInOut</th>\n",
              "      <th>DroppedBlockedCalls</th>\n",
              "      <th>CallForwardingCalls</th>\n",
              "      <th>CallWaitingCalls</th>\n",
              "      <th>MonthsInService</th>\n",
              "      <th>UniqueSubs</th>\n",
              "      <th>ActiveSubs</th>\n",
              "      <th>Handsets</th>\n",
              "      <th>HandsetModels</th>\n",
              "      <th>CurrentEquipmentDays</th>\n",
              "      <th>AgeHH1</th>\n",
              "      <th>AgeHH2</th>\n",
              "      <th>RetentionCalls</th>\n",
              "      <th>RetentionOffersAccepted</th>\n",
              "      <th>ReferralsMadeBySubscriber</th>\n",
              "      <th>IncomeGroup</th>\n",
              "      <th>AdjustmentsToCreditRating</th>\n",
              "      <th>HandsetPrice</th>\n",
              "      <th>MonthlyRevenuenan</th>\n",
              "      <th>MonthlyMinutesnan</th>\n",
              "      <th>TotalRecurringChargenan</th>\n",
              "      <th>DirectorAssistedCallsnan</th>\n",
              "      <th>OverageMinutesnan</th>\n",
              "      <th>RoamingCallsnan</th>\n",
              "      <th>PercChangeMinutesnan</th>\n",
              "      <th>PercChangeRevenuesnan</th>\n",
              "      <th>Handsetsnan</th>\n",
              "      <th>HandsetModelsnan</th>\n",
              "      <th>CurrentEquipmentDaysnan</th>\n",
              "      <th>AgeHH1nan</th>\n",
              "      <th>AgeHH2nan</th>\n",
              "      <th>mean_ordinal_ServiceArea</th>\n",
              "      <th>mean_ordinal_ChildrenInHH</th>\n",
              "      <th>mean_ordinal_HandsetRefurbished</th>\n",
              "      <th>mean_ordinal_HandsetWebCapable</th>\n",
              "      <th>mean_ordinal_TruckOwner</th>\n",
              "      <th>mean_ordinal_RVOwner</th>\n",
              "      <th>mean_ordinal_Homeownership</th>\n",
              "      <th>mean_ordinal_BuysViaMailOrder</th>\n",
              "      <th>mean_ordinal_RespondsToMailOffers</th>\n",
              "      <th>mean_ordinal_OptOutMailings</th>\n",
              "      <th>mean_ordinal_NonUSTravel</th>\n",
              "      <th>mean_ordinal_OwnsComputer</th>\n",
              "      <th>mean_ordinal_HasCreditCard</th>\n",
              "      <th>mean_ordinal_NewCellphoneUser</th>\n",
              "      <th>mean_ordinal_NotNewCellphoneUser</th>\n",
              "      <th>mean_ordinal_OwnsMotorcycle</th>\n",
              "      <th>mean_ordinal_MadeCallToRetentionTeam</th>\n",
              "      <th>mean_ordinal_CreditRating</th>\n",
              "      <th>mean_ordinal_PrizmCode</th>\n",
              "      <th>mean_ordinal_Occupation</th>\n",
              "      <th>mean_ordinal_MaritalStatus</th>\n",
              "    </tr>\n",
              "  </thead>\n",
              "  <tbody>\n",
              "    <tr>\n",
              "      <th>0</th>\n",
              "      <td>0.024537</td>\n",
              "      <td>0.029759</td>\n",
              "      <td>0.080292</td>\n",
              "      <td>0.001568</td>\n",
              "      <td>0.0</td>\n",
              "      <td>0.0</td>\n",
              "      <td>0.410058</td>\n",
              "      <td>0.303158</td>\n",
              "      <td>0.003157</td>\n",
              "      <td>0.001821</td>\n",
              "      <td>0.007423</td>\n",
              "      <td>0.000000</td>\n",
              "      <td>0.000000</td>\n",
              "      <td>0.036102</td>\n",
              "      <td>0.000000</td>\n",
              "      <td>0.000000</td>\n",
              "      <td>0.027742</td>\n",
              "      <td>0.016274</td>\n",
              "      <td>0.003158</td>\n",
              "      <td>0.0</td>\n",
              "      <td>0.001410</td>\n",
              "      <td>1.000000</td>\n",
              "      <td>0.005128</td>\n",
              "      <td>0.018868</td>\n",
              "      <td>0.043478</td>\n",
              "      <td>0.071429</td>\n",
              "      <td>0.201431</td>\n",
              "      <td>0.626263</td>\n",
              "      <td>0.000000</td>\n",
              "      <td>0.25</td>\n",
              "      <td>0.0</td>\n",
              "      <td>0.0</td>\n",
              "      <td>0.444444</td>\n",
              "      <td>0.00</td>\n",
              "      <td>0.040816</td>\n",
              "      <td>0.0</td>\n",
              "      <td>0.0</td>\n",
              "      <td>0.0</td>\n",
              "      <td>0.0</td>\n",
              "      <td>0.0</td>\n",
              "      <td>0.0</td>\n",
              "      <td>0.0</td>\n",
              "      <td>0.0</td>\n",
              "      <td>0.0</td>\n",
              "      <td>0.0</td>\n",
              "      <td>0.0</td>\n",
              "      <td>0.0</td>\n",
              "      <td>0.0</td>\n",
              "      <td>0.724925</td>\n",
              "      <td>0.0</td>\n",
              "      <td>0.0</td>\n",
              "      <td>0.0</td>\n",
              "      <td>1.0</td>\n",
              "      <td>1.0</td>\n",
              "      <td>0.0</td>\n",
              "      <td>0.0</td>\n",
              "      <td>0.0</td>\n",
              "      <td>0.0</td>\n",
              "      <td>1.0</td>\n",
              "      <td>0.0</td>\n",
              "      <td>0.0</td>\n",
              "      <td>1.0</td>\n",
              "      <td>0.0</td>\n",
              "      <td>0.0</td>\n",
              "      <td>1.0</td>\n",
              "      <td>0.980609</td>\n",
              "      <td>0.000000</td>\n",
              "      <td>0.405701</td>\n",
              "      <td>0.000000</td>\n",
              "    </tr>\n",
              "    <tr>\n",
              "      <th>1</th>\n",
              "      <td>0.018836</td>\n",
              "      <td>0.001359</td>\n",
              "      <td>0.068127</td>\n",
              "      <td>0.000000</td>\n",
              "      <td>0.0</td>\n",
              "      <td>0.0</td>\n",
              "      <td>0.426933</td>\n",
              "      <td>0.308448</td>\n",
              "      <td>0.001353</td>\n",
              "      <td>0.000000</td>\n",
              "      <td>0.003181</td>\n",
              "      <td>0.000000</td>\n",
              "      <td>0.000000</td>\n",
              "      <td>0.000000</td>\n",
              "      <td>0.000000</td>\n",
              "      <td>0.000000</td>\n",
              "      <td>0.002392</td>\n",
              "      <td>0.000678</td>\n",
              "      <td>0.000729</td>\n",
              "      <td>0.0</td>\n",
              "      <td>0.000000</td>\n",
              "      <td>0.945455</td>\n",
              "      <td>0.000000</td>\n",
              "      <td>0.018868</td>\n",
              "      <td>0.043478</td>\n",
              "      <td>0.000000</td>\n",
              "      <td>0.830490</td>\n",
              "      <td>0.404040</td>\n",
              "      <td>0.424242</td>\n",
              "      <td>0.00</td>\n",
              "      <td>0.0</td>\n",
              "      <td>0.0</td>\n",
              "      <td>0.555556</td>\n",
              "      <td>0.00</td>\n",
              "      <td>0.040816</td>\n",
              "      <td>0.0</td>\n",
              "      <td>0.0</td>\n",
              "      <td>0.0</td>\n",
              "      <td>0.0</td>\n",
              "      <td>0.0</td>\n",
              "      <td>0.0</td>\n",
              "      <td>0.0</td>\n",
              "      <td>0.0</td>\n",
              "      <td>0.0</td>\n",
              "      <td>0.0</td>\n",
              "      <td>0.0</td>\n",
              "      <td>0.0</td>\n",
              "      <td>0.0</td>\n",
              "      <td>0.473958</td>\n",
              "      <td>1.0</td>\n",
              "      <td>0.0</td>\n",
              "      <td>1.0</td>\n",
              "      <td>1.0</td>\n",
              "      <td>1.0</td>\n",
              "      <td>0.0</td>\n",
              "      <td>0.0</td>\n",
              "      <td>0.0</td>\n",
              "      <td>0.0</td>\n",
              "      <td>1.0</td>\n",
              "      <td>0.0</td>\n",
              "      <td>0.0</td>\n",
              "      <td>0.0</td>\n",
              "      <td>0.0</td>\n",
              "      <td>0.0</td>\n",
              "      <td>0.0</td>\n",
              "      <td>0.450887</td>\n",
              "      <td>0.000000</td>\n",
              "      <td>0.405701</td>\n",
              "      <td>0.465834</td>\n",
              "    </tr>\n",
              "    <tr>\n",
              "      <th>2</th>\n",
              "      <td>0.035924</td>\n",
              "      <td>0.001087</td>\n",
              "      <td>0.119221</td>\n",
              "      <td>0.000000</td>\n",
              "      <td>0.0</td>\n",
              "      <td>0.0</td>\n",
              "      <td>0.427153</td>\n",
              "      <td>0.308448</td>\n",
              "      <td>0.000000</td>\n",
              "      <td>0.000000</td>\n",
              "      <td>0.000000</td>\n",
              "      <td>0.000000</td>\n",
              "      <td>0.000000</td>\n",
              "      <td>0.000149</td>\n",
              "      <td>0.000466</td>\n",
              "      <td>0.000000</td>\n",
              "      <td>0.000622</td>\n",
              "      <td>0.002509</td>\n",
              "      <td>0.000000</td>\n",
              "      <td>0.0</td>\n",
              "      <td>0.000000</td>\n",
              "      <td>0.981818</td>\n",
              "      <td>0.000000</td>\n",
              "      <td>0.018868</td>\n",
              "      <td>0.000000</td>\n",
              "      <td>0.000000</td>\n",
              "      <td>1.000000</td>\n",
              "      <td>0.262626</td>\n",
              "      <td>0.262626</td>\n",
              "      <td>0.00</td>\n",
              "      <td>0.0</td>\n",
              "      <td>0.0</td>\n",
              "      <td>0.666667</td>\n",
              "      <td>0.00</td>\n",
              "      <td>0.040816</td>\n",
              "      <td>0.0</td>\n",
              "      <td>0.0</td>\n",
              "      <td>0.0</td>\n",
              "      <td>0.0</td>\n",
              "      <td>0.0</td>\n",
              "      <td>0.0</td>\n",
              "      <td>0.0</td>\n",
              "      <td>0.0</td>\n",
              "      <td>0.0</td>\n",
              "      <td>0.0</td>\n",
              "      <td>0.0</td>\n",
              "      <td>0.0</td>\n",
              "      <td>0.0</td>\n",
              "      <td>0.293592</td>\n",
              "      <td>1.0</td>\n",
              "      <td>0.0</td>\n",
              "      <td>1.0</td>\n",
              "      <td>1.0</td>\n",
              "      <td>1.0</td>\n",
              "      <td>1.0</td>\n",
              "      <td>1.0</td>\n",
              "      <td>1.0</td>\n",
              "      <td>0.0</td>\n",
              "      <td>1.0</td>\n",
              "      <td>1.0</td>\n",
              "      <td>0.0</td>\n",
              "      <td>0.0</td>\n",
              "      <td>0.0</td>\n",
              "      <td>0.0</td>\n",
              "      <td>0.0</td>\n",
              "      <td>1.000000</td>\n",
              "      <td>0.518040</td>\n",
              "      <td>0.387287</td>\n",
              "      <td>0.465834</td>\n",
              "    </tr>\n",
              "    <tr>\n",
              "      <th>3</th>\n",
              "      <td>0.071937</td>\n",
              "      <td>0.178285</td>\n",
              "      <td>0.209246</td>\n",
              "      <td>0.007780</td>\n",
              "      <td>0.0</td>\n",
              "      <td>0.0</td>\n",
              "      <td>0.444690</td>\n",
              "      <td>0.310704</td>\n",
              "      <td>0.234551</td>\n",
              "      <td>0.020036</td>\n",
              "      <td>0.089549</td>\n",
              "      <td>0.013138</td>\n",
              "      <td>0.019697</td>\n",
              "      <td>0.074395</td>\n",
              "      <td>0.574732</td>\n",
              "      <td>0.283073</td>\n",
              "      <td>0.265796</td>\n",
              "      <td>0.205940</td>\n",
              "      <td>0.145009</td>\n",
              "      <td>0.0</td>\n",
              "      <td>0.106723</td>\n",
              "      <td>0.963636</td>\n",
              "      <td>0.005128</td>\n",
              "      <td>0.037736</td>\n",
              "      <td>0.347826</td>\n",
              "      <td>0.214286</td>\n",
              "      <td>0.254816</td>\n",
              "      <td>0.303030</td>\n",
              "      <td>0.000000</td>\n",
              "      <td>0.00</td>\n",
              "      <td>0.0</td>\n",
              "      <td>0.0</td>\n",
              "      <td>0.666667</td>\n",
              "      <td>0.00</td>\n",
              "      <td>0.000000</td>\n",
              "      <td>0.0</td>\n",
              "      <td>0.0</td>\n",
              "      <td>0.0</td>\n",
              "      <td>0.0</td>\n",
              "      <td>0.0</td>\n",
              "      <td>0.0</td>\n",
              "      <td>0.0</td>\n",
              "      <td>0.0</td>\n",
              "      <td>0.0</td>\n",
              "      <td>0.0</td>\n",
              "      <td>0.0</td>\n",
              "      <td>0.0</td>\n",
              "      <td>0.0</td>\n",
              "      <td>0.473958</td>\n",
              "      <td>0.0</td>\n",
              "      <td>0.0</td>\n",
              "      <td>0.0</td>\n",
              "      <td>1.0</td>\n",
              "      <td>1.0</td>\n",
              "      <td>0.0</td>\n",
              "      <td>0.0</td>\n",
              "      <td>0.0</td>\n",
              "      <td>0.0</td>\n",
              "      <td>1.0</td>\n",
              "      <td>1.0</td>\n",
              "      <td>0.0</td>\n",
              "      <td>0.0</td>\n",
              "      <td>0.0</td>\n",
              "      <td>0.0</td>\n",
              "      <td>0.0</td>\n",
              "      <td>0.450887</td>\n",
              "      <td>0.134901</td>\n",
              "      <td>0.525461</td>\n",
              "      <td>0.000000</td>\n",
              "    </tr>\n",
              "    <tr>\n",
              "      <th>4</th>\n",
              "      <td>0.018958</td>\n",
              "      <td>0.000000</td>\n",
              "      <td>0.068127</td>\n",
              "      <td>0.000000</td>\n",
              "      <td>0.0</td>\n",
              "      <td>0.0</td>\n",
              "      <td>0.427374</td>\n",
              "      <td>0.308393</td>\n",
              "      <td>0.000000</td>\n",
              "      <td>0.000000</td>\n",
              "      <td>0.000000</td>\n",
              "      <td>0.000000</td>\n",
              "      <td>0.000000</td>\n",
              "      <td>0.000000</td>\n",
              "      <td>0.000000</td>\n",
              "      <td>0.000000</td>\n",
              "      <td>0.000000</td>\n",
              "      <td>0.000000</td>\n",
              "      <td>0.000000</td>\n",
              "      <td>0.0</td>\n",
              "      <td>0.000000</td>\n",
              "      <td>0.854545</td>\n",
              "      <td>0.005128</td>\n",
              "      <td>0.037736</td>\n",
              "      <td>0.130435</td>\n",
              "      <td>0.142857</td>\n",
              "      <td>0.471657</td>\n",
              "      <td>0.464646</td>\n",
              "      <td>0.545455</td>\n",
              "      <td>0.00</td>\n",
              "      <td>0.0</td>\n",
              "      <td>0.0</td>\n",
              "      <td>1.000000</td>\n",
              "      <td>0.04</td>\n",
              "      <td>0.000000</td>\n",
              "      <td>0.0</td>\n",
              "      <td>0.0</td>\n",
              "      <td>0.0</td>\n",
              "      <td>0.0</td>\n",
              "      <td>0.0</td>\n",
              "      <td>0.0</td>\n",
              "      <td>0.0</td>\n",
              "      <td>0.0</td>\n",
              "      <td>0.0</td>\n",
              "      <td>0.0</td>\n",
              "      <td>0.0</td>\n",
              "      <td>0.0</td>\n",
              "      <td>0.0</td>\n",
              "      <td>0.329203</td>\n",
              "      <td>0.0</td>\n",
              "      <td>0.0</td>\n",
              "      <td>1.0</td>\n",
              "      <td>1.0</td>\n",
              "      <td>1.0</td>\n",
              "      <td>0.0</td>\n",
              "      <td>0.0</td>\n",
              "      <td>0.0</td>\n",
              "      <td>0.0</td>\n",
              "      <td>1.0</td>\n",
              "      <td>0.0</td>\n",
              "      <td>0.0</td>\n",
              "      <td>1.0</td>\n",
              "      <td>1.0</td>\n",
              "      <td>0.0</td>\n",
              "      <td>0.0</td>\n",
              "      <td>0.980609</td>\n",
              "      <td>0.134901</td>\n",
              "      <td>0.405701</td>\n",
              "      <td>0.465834</td>\n",
              "    </tr>\n",
              "  </tbody>\n",
              "</table>\n",
              "</div>"
            ],
            "text/plain": [
              "   MonthlyRevenue  MonthlyMinutes  TotalRecurringCharge  \\\n",
              "0        0.024537        0.029759              0.080292   \n",
              "1        0.018836        0.001359              0.068127   \n",
              "2        0.035924        0.001087              0.119221   \n",
              "3        0.071937        0.178285              0.209246   \n",
              "4        0.018958        0.000000              0.068127   \n",
              "\n",
              "   DirectorAssistedCalls  OverageMinutes  RoamingCalls  PercChangeMinutes  \\\n",
              "0               0.001568             0.0           0.0           0.410058   \n",
              "1               0.000000             0.0           0.0           0.426933   \n",
              "2               0.000000             0.0           0.0           0.427153   \n",
              "3               0.007780             0.0           0.0           0.444690   \n",
              "4               0.000000             0.0           0.0           0.427374   \n",
              "\n",
              "   PercChangeRevenues  DroppedCalls  BlockedCalls  UnansweredCalls  \\\n",
              "0            0.303158      0.003157      0.001821         0.007423   \n",
              "1            0.308448      0.001353      0.000000         0.003181   \n",
              "2            0.308448      0.000000      0.000000         0.000000   \n",
              "3            0.310704      0.234551      0.020036         0.089549   \n",
              "4            0.308393      0.000000      0.000000         0.000000   \n",
              "\n",
              "   CustomerCareCalls  ThreewayCalls  ReceivedCalls  OutboundCalls  \\\n",
              "0           0.000000       0.000000       0.036102       0.000000   \n",
              "1           0.000000       0.000000       0.000000       0.000000   \n",
              "2           0.000000       0.000000       0.000149       0.000466   \n",
              "3           0.013138       0.019697       0.074395       0.574732   \n",
              "4           0.000000       0.000000       0.000000       0.000000   \n",
              "\n",
              "   InboundCalls  PeakCallsInOut  OffPeakCallsInOut  DroppedBlockedCalls  \\\n",
              "0      0.000000        0.027742           0.016274             0.003158   \n",
              "1      0.000000        0.002392           0.000678             0.000729   \n",
              "2      0.000000        0.000622           0.002509             0.000000   \n",
              "3      0.283073        0.265796           0.205940             0.145009   \n",
              "4      0.000000        0.000000           0.000000             0.000000   \n",
              "\n",
              "   CallForwardingCalls  CallWaitingCalls  MonthsInService  UniqueSubs  \\\n",
              "0                  0.0          0.001410         1.000000    0.005128   \n",
              "1                  0.0          0.000000         0.945455    0.000000   \n",
              "2                  0.0          0.000000         0.981818    0.000000   \n",
              "3                  0.0          0.106723         0.963636    0.005128   \n",
              "4                  0.0          0.000000         0.854545    0.005128   \n",
              "\n",
              "   ActiveSubs  Handsets  HandsetModels  CurrentEquipmentDays    AgeHH1  \\\n",
              "0    0.018868  0.043478       0.071429              0.201431  0.626263   \n",
              "1    0.018868  0.043478       0.000000              0.830490  0.404040   \n",
              "2    0.018868  0.000000       0.000000              1.000000  0.262626   \n",
              "3    0.037736  0.347826       0.214286              0.254816  0.303030   \n",
              "4    0.037736  0.130435       0.142857              0.471657  0.464646   \n",
              "\n",
              "     AgeHH2  RetentionCalls  RetentionOffersAccepted  \\\n",
              "0  0.000000            0.25                      0.0   \n",
              "1  0.424242            0.00                      0.0   \n",
              "2  0.262626            0.00                      0.0   \n",
              "3  0.000000            0.00                      0.0   \n",
              "4  0.545455            0.00                      0.0   \n",
              "\n",
              "   ReferralsMadeBySubscriber  IncomeGroup  AdjustmentsToCreditRating  \\\n",
              "0                        0.0     0.444444                       0.00   \n",
              "1                        0.0     0.555556                       0.00   \n",
              "2                        0.0     0.666667                       0.00   \n",
              "3                        0.0     0.666667                       0.00   \n",
              "4                        0.0     1.000000                       0.04   \n",
              "\n",
              "   HandsetPrice  MonthlyRevenuenan  MonthlyMinutesnan  \\\n",
              "0      0.040816                0.0                0.0   \n",
              "1      0.040816                0.0                0.0   \n",
              "2      0.040816                0.0                0.0   \n",
              "3      0.000000                0.0                0.0   \n",
              "4      0.000000                0.0                0.0   \n",
              "\n",
              "   TotalRecurringChargenan  DirectorAssistedCallsnan  OverageMinutesnan  \\\n",
              "0                      0.0                       0.0                0.0   \n",
              "1                      0.0                       0.0                0.0   \n",
              "2                      0.0                       0.0                0.0   \n",
              "3                      0.0                       0.0                0.0   \n",
              "4                      0.0                       0.0                0.0   \n",
              "\n",
              "   RoamingCallsnan  PercChangeMinutesnan  PercChangeRevenuesnan  Handsetsnan  \\\n",
              "0              0.0                   0.0                    0.0          0.0   \n",
              "1              0.0                   0.0                    0.0          0.0   \n",
              "2              0.0                   0.0                    0.0          0.0   \n",
              "3              0.0                   0.0                    0.0          0.0   \n",
              "4              0.0                   0.0                    0.0          0.0   \n",
              "\n",
              "   HandsetModelsnan  CurrentEquipmentDaysnan  AgeHH1nan  AgeHH2nan  \\\n",
              "0               0.0                      0.0        0.0        0.0   \n",
              "1               0.0                      0.0        0.0        0.0   \n",
              "2               0.0                      0.0        0.0        0.0   \n",
              "3               0.0                      0.0        0.0        0.0   \n",
              "4               0.0                      0.0        0.0        0.0   \n",
              "\n",
              "   mean_ordinal_ServiceArea  mean_ordinal_ChildrenInHH  \\\n",
              "0                  0.724925                        0.0   \n",
              "1                  0.473958                        1.0   \n",
              "2                  0.293592                        1.0   \n",
              "3                  0.473958                        0.0   \n",
              "4                  0.329203                        0.0   \n",
              "\n",
              "   mean_ordinal_HandsetRefurbished  mean_ordinal_HandsetWebCapable  \\\n",
              "0                              0.0                             0.0   \n",
              "1                              0.0                             1.0   \n",
              "2                              0.0                             1.0   \n",
              "3                              0.0                             0.0   \n",
              "4                              0.0                             1.0   \n",
              "\n",
              "   mean_ordinal_TruckOwner  mean_ordinal_RVOwner  mean_ordinal_Homeownership  \\\n",
              "0                      1.0                   1.0                         0.0   \n",
              "1                      1.0                   1.0                         0.0   \n",
              "2                      1.0                   1.0                         1.0   \n",
              "3                      1.0                   1.0                         0.0   \n",
              "4                      1.0                   1.0                         0.0   \n",
              "\n",
              "   mean_ordinal_BuysViaMailOrder  mean_ordinal_RespondsToMailOffers  \\\n",
              "0                            0.0                                0.0   \n",
              "1                            0.0                                0.0   \n",
              "2                            1.0                                1.0   \n",
              "3                            0.0                                0.0   \n",
              "4                            0.0                                0.0   \n",
              "\n",
              "   mean_ordinal_OptOutMailings  mean_ordinal_NonUSTravel  \\\n",
              "0                          0.0                       1.0   \n",
              "1                          0.0                       1.0   \n",
              "2                          0.0                       1.0   \n",
              "3                          0.0                       1.0   \n",
              "4                          0.0                       1.0   \n",
              "\n",
              "   mean_ordinal_OwnsComputer  mean_ordinal_HasCreditCard  \\\n",
              "0                        0.0                         0.0   \n",
              "1                        0.0                         0.0   \n",
              "2                        1.0                         0.0   \n",
              "3                        1.0                         0.0   \n",
              "4                        0.0                         0.0   \n",
              "\n",
              "   mean_ordinal_NewCellphoneUser  mean_ordinal_NotNewCellphoneUser  \\\n",
              "0                            1.0                               0.0   \n",
              "1                            0.0                               0.0   \n",
              "2                            0.0                               0.0   \n",
              "3                            0.0                               0.0   \n",
              "4                            1.0                               1.0   \n",
              "\n",
              "   mean_ordinal_OwnsMotorcycle  mean_ordinal_MadeCallToRetentionTeam  \\\n",
              "0                          0.0                                   1.0   \n",
              "1                          0.0                                   0.0   \n",
              "2                          0.0                                   0.0   \n",
              "3                          0.0                                   0.0   \n",
              "4                          0.0                                   0.0   \n",
              "\n",
              "   mean_ordinal_CreditRating  mean_ordinal_PrizmCode  mean_ordinal_Occupation  \\\n",
              "0                   0.980609                0.000000                 0.405701   \n",
              "1                   0.450887                0.000000                 0.405701   \n",
              "2                   1.000000                0.518040                 0.387287   \n",
              "3                   0.450887                0.134901                 0.525461   \n",
              "4                   0.980609                0.134901                 0.405701   \n",
              "\n",
              "   mean_ordinal_MaritalStatus  \n",
              "0                    0.000000  \n",
              "1                    0.465834  \n",
              "2                    0.465834  \n",
              "3                    0.000000  \n",
              "4                    0.465834  "
            ]
          },
          "metadata": {},
          "execution_count": 38
        }
      ]
    },
    {
      "cell_type": "code",
      "metadata": {
        "id": "qsGYKhk_5lLS"
      },
      "source": [
        "from sklearn.model_selection import train_test_split\n",
        "X_train,X_test,y_train,y_test = train_test_split(X,y,test_size=0.3,random_state=0)\n"
      ],
      "execution_count": null,
      "outputs": []
    },
    {
      "cell_type": "markdown",
      "metadata": {
        "id": "dLCFk5d55R1T"
      },
      "source": [
        "####Model Training"
      ]
    },
    {
      "cell_type": "markdown",
      "metadata": {
        "id": "ciQEM7o46M9O"
      },
      "source": [
        "####Building Simple logistic regression model"
      ]
    },
    {
      "cell_type": "code",
      "metadata": {
        "colab": {
          "base_uri": "https://localhost:8080/"
        },
        "id": "7-UdMEhl46qD",
        "outputId": "6deb3e0f-3056-4f45-9481-4e255de8f352"
      },
      "source": [
        "from sklearn.linear_model import LogisticRegression\n",
        "lr = LogisticRegression()\n",
        "lr.fit(X_train,y_train)"
      ],
      "execution_count": null,
      "outputs": [
        {
          "output_type": "execute_result",
          "data": {
            "text/plain": [
              "LogisticRegression(C=1.0, class_weight=None, dual=False, fit_intercept=True,\n",
              "                   intercept_scaling=1, l1_ratio=None, max_iter=100,\n",
              "                   multi_class='auto', n_jobs=None, penalty='l2',\n",
              "                   random_state=None, solver='lbfgs', tol=0.0001, verbose=0,\n",
              "                   warm_start=False)"
            ]
          },
          "metadata": {},
          "execution_count": 40
        }
      ]
    },
    {
      "cell_type": "code",
      "metadata": {
        "colab": {
          "base_uri": "https://localhost:8080/"
        },
        "id": "8tQ-xrs06p2w",
        "outputId": "246c056d-dc5a-438f-dc09-293de8444f2e"
      },
      "source": [
        "lr.score(X_test,y_test)\n",
        "y_pred = lr.predict(X_test)\n",
        "\n",
        "from sklearn.metrics import classification_report\n",
        "from sklearn.metrics import confusion_matrix\n",
        "\n",
        "print('Classification report :\\n', classification_report(y_pred,y_test))\n",
        "print( 'Confusion Metrics :\\n', confusion_matrix(y_pred,y_test))"
      ],
      "execution_count": null,
      "outputs": [
        {
          "output_type": "execute_result",
          "data": {
            "text/plain": [
              "0.7174012406137773"
            ]
          },
          "metadata": {},
          "execution_count": 42
        },
        {
          "output_type": "stream",
          "name": "stdout",
          "text": [
            "Classification report :\n",
            "               precision    recall  f1-score   support\n",
            "\n",
            "           0       0.99      0.72      0.83     14981\n",
            "           1       0.04      0.52      0.07       334\n",
            "\n",
            "    accuracy                           0.72     15315\n",
            "   macro avg       0.51      0.62      0.45     15315\n",
            "weighted avg       0.96      0.72      0.82     15315\n",
            "\n",
            "Confusion Metrics :\n",
            " [[10814  4167]\n",
            " [  161   173]]\n"
          ]
        }
      ]
    },
    {
      "cell_type": "code",
      "metadata": {
        "colab": {
          "base_uri": "https://localhost:8080/"
        },
        "id": "hXygABhT89-k",
        "outputId": "1850f91f-aaac-4ef7-ea8b-f35d87e112a6"
      },
      "source": [
        "## importing precision,recall,accuracy\n",
        "from sklearn.metrics import precision_score,recall_score,accuracy_score,f1_score\n",
        "\n",
        "print('Precision : %3f' % precision_score(y_test,y_pred))\n",
        "print('Recall : %3f' % recall_score(y_test,y_pred))\n",
        "print('Accuracy : %3f' % accuracy_score(y_test,y_pred))\n",
        "print('f1 - Score : %3f' % f1_score(y_test,y_pred))\n"
      ],
      "execution_count": null,
      "outputs": [
        {
          "output_type": "stream",
          "name": "stdout",
          "text": [
            "Precision : 0.517964\n",
            "Recall : 0.039862\n",
            "Accuracy : 0.717401\n",
            "f1 - Score : 0.074027\n"
          ]
        }
      ]
    },
    {
      "cell_type": "markdown",
      "metadata": {
        "id": "Xd4WEUSA-H85"
      },
      "source": [
        "#### Bulding Random Forest Classifier"
      ]
    },
    {
      "cell_type": "code",
      "metadata": {
        "id": "4e3sBcM2899Y"
      },
      "source": [
        "from sklearn.ensemble import RandomForestClassifier\n",
        "rfc = RandomForestClassifier(max_depth=5,random_state=50,max_leaf_nodes=50)"
      ],
      "execution_count": null,
      "outputs": []
    },
    {
      "cell_type": "code",
      "metadata": {
        "colab": {
          "base_uri": "https://localhost:8080/"
        },
        "id": "RtxTpv1B-HD6",
        "outputId": "44ac0fdd-9f23-428c-b044-7f99d012d7d5"
      },
      "source": [
        "rfc.fit(X_train,y_train)"
      ],
      "execution_count": null,
      "outputs": [
        {
          "output_type": "execute_result",
          "data": {
            "text/plain": [
              "RandomForestClassifier(bootstrap=True, ccp_alpha=0.0, class_weight=None,\n",
              "                       criterion='gini', max_depth=5, max_features='auto',\n",
              "                       max_leaf_nodes=50, max_samples=None,\n",
              "                       min_impurity_decrease=0.0, min_impurity_split=None,\n",
              "                       min_samples_leaf=1, min_samples_split=2,\n",
              "                       min_weight_fraction_leaf=0.0, n_estimators=100,\n",
              "                       n_jobs=None, oob_score=False, random_state=50, verbose=0,\n",
              "                       warm_start=False)"
            ]
          },
          "metadata": {},
          "execution_count": 45
        }
      ]
    },
    {
      "cell_type": "code",
      "metadata": {
        "id": "0bpMtmuV-wQq"
      },
      "source": [
        "y_pred_rf = rfc.predict(X_test)\n",
        "\n"
      ],
      "execution_count": null,
      "outputs": []
    },
    {
      "cell_type": "code",
      "metadata": {
        "colab": {
          "base_uri": "https://localhost:8080/"
        },
        "id": "p3ojQ7Hr-wI9",
        "outputId": "ff5d0ede-2f76-423c-c3d4-45c8d9fe4542"
      },
      "source": [
        "print('Model score before', rfc.score(X_test,y_test))\n",
        "print('Classification report :\\n', classification_report(y_test,y_pred_rf))\n",
        "print( 'Confusion Metrics :\\n', confusion_matrix(y_test,y_pred_rf))"
      ],
      "execution_count": null,
      "outputs": [
        {
          "output_type": "stream",
          "name": "stdout",
          "text": [
            "Model score before 0.7193601044727391\n",
            "Classification report :\n",
            "               precision    recall  f1-score   support\n",
            "\n",
            "           0       0.72      1.00      0.84     10975\n",
            "           1       0.76      0.01      0.03      4340\n",
            "\n",
            "    accuracy                           0.72     15315\n",
            "   macro avg       0.74      0.51      0.43     15315\n",
            "weighted avg       0.73      0.72      0.61     15315\n",
            "\n",
            "Confusion Metrics :\n",
            " [[10955    20]\n",
            " [ 4278    62]]\n"
          ]
        }
      ]
    },
    {
      "cell_type": "code",
      "metadata": {
        "colab": {
          "base_uri": "https://localhost:8080/"
        },
        "id": "GTUzas73AuPT",
        "outputId": "cbee8a3c-87eb-43a6-edb3-53efcaa24e30"
      },
      "source": [
        "### prcision , recall,accuracy\n",
        "print('Precision : %3f' % precision_score(y_test,y_pred_rf))\n",
        "print('Recall : %3f' % recall_score(y_test,y_pred_rf))\n",
        "print('Accuracy : %3f' % accuracy_score(y_test,y_pred_rf))\n",
        "print('f1 - Score : %3f' % f1_score(y_test,y_pred_rf))\n"
      ],
      "execution_count": null,
      "outputs": [
        {
          "output_type": "stream",
          "name": "stdout",
          "text": [
            "Precision : 0.756098\n",
            "Recall : 0.014286\n",
            "Accuracy : 0.719360\n",
            "f1 - Score : 0.028042\n"
          ]
        }
      ]
    }
  ]
}